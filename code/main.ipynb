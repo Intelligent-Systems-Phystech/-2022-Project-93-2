{
  "cells": [
    {
      "cell_type": "markdown",
      "metadata": {
        "id": "view-in-github",
        "colab_type": "text"
      },
      "source": [
        "<a href=\"https://colab.research.google.com/github/Intelligent-Systems-Phystech/2022-Project-93-2/blob/master/code/main.ipynb\" target=\"_parent\"><img src=\"https://colab.research.google.com/assets/colab-badge.svg\" alt=\"Open In Colab\"/></a>"
      ]
    },
    {
      "cell_type": "code",
      "source": [
        "!pip install catboost"
      ],
      "metadata": {
        "colab": {
          "base_uri": "https://localhost:8080/"
        },
        "id": "JLBBv_Vy7u84",
        "outputId": "326fd3b7-1ef1-4bd2-cab8-ad4b1a4eafcf"
      },
      "execution_count": 3,
      "outputs": [
        {
          "output_type": "stream",
          "name": "stdout",
          "text": [
            "Collecting catboost\n",
            "  Downloading catboost-1.0.4-cp37-none-manylinux1_x86_64.whl (76.1 MB)\n",
            "\u001b[K     |████████████████████████████████| 76.1 MB 55 kB/s \n",
            "\u001b[?25hRequirement already satisfied: plotly in /usr/local/lib/python3.7/dist-packages (from catboost) (5.5.0)\n",
            "Requirement already satisfied: numpy>=1.16.0 in /usr/local/lib/python3.7/dist-packages (from catboost) (1.21.5)\n",
            "Requirement already satisfied: graphviz in /usr/local/lib/python3.7/dist-packages (from catboost) (0.10.1)\n",
            "Requirement already satisfied: matplotlib in /usr/local/lib/python3.7/dist-packages (from catboost) (3.2.2)\n",
            "Requirement already satisfied: pandas>=0.24.0 in /usr/local/lib/python3.7/dist-packages (from catboost) (1.3.5)\n",
            "Requirement already satisfied: scipy in /usr/local/lib/python3.7/dist-packages (from catboost) (1.4.1)\n",
            "Requirement already satisfied: six in /usr/local/lib/python3.7/dist-packages (from catboost) (1.15.0)\n",
            "Requirement already satisfied: python-dateutil>=2.7.3 in /usr/local/lib/python3.7/dist-packages (from pandas>=0.24.0->catboost) (2.8.2)\n",
            "Requirement already satisfied: pytz>=2017.3 in /usr/local/lib/python3.7/dist-packages (from pandas>=0.24.0->catboost) (2018.9)\n",
            "Requirement already satisfied: pyparsing!=2.0.4,!=2.1.2,!=2.1.6,>=2.0.1 in /usr/local/lib/python3.7/dist-packages (from matplotlib->catboost) (3.0.7)\n",
            "Requirement already satisfied: cycler>=0.10 in /usr/local/lib/python3.7/dist-packages (from matplotlib->catboost) (0.11.0)\n",
            "Requirement already satisfied: kiwisolver>=1.0.1 in /usr/local/lib/python3.7/dist-packages (from matplotlib->catboost) (1.3.2)\n",
            "Requirement already satisfied: tenacity>=6.2.0 in /usr/local/lib/python3.7/dist-packages (from plotly->catboost) (8.0.1)\n",
            "Installing collected packages: catboost\n",
            "Successfully installed catboost-1.0.4\n"
          ]
        }
      ]
    },
    {
      "cell_type": "code",
      "execution_count": 33,
      "metadata": {
        "id": "OCAE-JfRDQZ5"
      },
      "outputs": [],
      "source": [
        "import pandas as pd\n",
        "import numpy as np\n",
        "import matplotlib.pyplot as plt\n",
        "from sklearn.linear_model import LogisticRegression\n",
        "from sklearn.metrics import f1_score, roc_auc_score, RocCurveDisplay\n",
        "from sklearn.model_selection import train_test_split\n",
        "from sklearn.metrics import confusion_matrix\n",
        "from sklearn.metrics import precision_score, recall_score\n",
        "from imblearn.under_sampling import RandomUnderSampler\n",
        "from imblearn.over_sampling import SMOTE\n",
        "from imblearn.pipeline import make_pipeline\n",
        "import time\n",
        "import xgboost as xgb\n",
        "from sklearn.model_selection import RandomizedSearchCV\n",
        "from sklearn.ensemble import BaggingClassifier\n",
        "from sklearn.model_selection import RepeatedStratifiedKFold\n",
        "from sklearn.model_selection import cross_val_score\n",
        "from sklearn.ensemble import RandomForestClassifier\n",
        "from sklearn.svm import SVC\n",
        "from sklearn.model_selection import GridSearchCV\n",
        "from sklearn.metrics import accuracy_score, auc, average_precision_score, \\\n",
        "                            make_scorer, precision_recall_curve, roc_curve\n",
        "from sklearn.metrics import precision_score, recall_score   \n",
        "from collections import Counter\n",
        "from google.colab import drive\n",
        "from datetime import datetime\n",
        "from catboost import CatBoostClassifier\n",
        "from sklearn.metrics import confusion_matrix\n",
        "from lightgbm import LGBMClassifier"
      ]
    },
    {
      "cell_type": "code",
      "execution_count": 4,
      "metadata": {
        "colab": {
          "base_uri": "https://localhost:8080/"
        },
        "id": "toPvcqUnDVoF",
        "outputId": "ff744a60-33c0-4559-d540-71e5bc1cd185"
      },
      "outputs": [
        {
          "output_type": "stream",
          "name": "stdout",
          "text": [
            "Mounted at /content/drive\n"
          ]
        }
      ],
      "source": [
        "from google.colab import drive\n",
        "drive.mount('/content/drive')\n",
        "dir_path = '/content/drive/My Drive/Skoltech Floods/'\n",
        "import os\n",
        "import sys\n",
        "sys.path.append(dir_path)"
      ]
    },
    {
      "cell_type": "code",
      "execution_count": 5,
      "metadata": {
        "id": "0cWiRs0b_B_x"
      },
      "outputs": [],
      "source": [
        "ex_dates = pd.read_table(dir_path + 'exday_99per_DJF_CASM_1980_2019.txt', delim_whitespace=True, names=('day_of_seq', 'year', 'month', 'day'))\n",
        "nex_dates = pd.read_table(dir_path + 'nexday_99per_DJF_CASM_1980_2019.txt', delim_whitespace=True, names=('day_of_seq', 'year', 'month', 'day'))\n",
        "ex_dates.insert(0, 'ex', pd.Series([1]*len(ex_dates)))\n",
        "nex_dates.insert(0, 'ex', pd.Series([0]*len(nex_dates)))\n",
        "\n",
        "features = ['h500', 'ivt', 'qv2m', 'slp', 'tpw', 'uqv', 'vqv', 'w500']\n",
        "mean_vals = dict()\n",
        "\n",
        "for feature in features:\n",
        "    ex_X = pd.read_table(dir_path + f'ERA5/CASM/ERA5_DJF_CASM_99per_ex_n{feature}_1980_2019.txt', delim_whitespace=True, header = None)\n",
        "    nex_X = pd.read_table(dir_path + f'ERA5/CASM/ERA5_DJF_CASM_99per_nex_n{feature}_1980_2019.txt', delim_whitespace=True, header = None)\n",
        "    ex = pd.concat([ex_dates, ex_X], axis = 1)\n",
        "    nex = pd.concat([nex_dates, nex_X], axis = 1)\n",
        "    X_mean = pd.concat([ex, nex]).sort_values('day_of_seq').reset_index(drop=True)\n",
        "    mean = X_mean.iloc[:,5:].values.mean(axis=1)\n",
        "    mean_vals[feature] = mean"
      ]
    },
    {
      "cell_type": "code",
      "execution_count": 6,
      "metadata": {
        "id": "KPoSEAyyXELY"
      },
      "outputs": [],
      "source": [
        "ex_dates = pd.read_table(dir_path + 'exday_99per_DJF_CASM_1980_2019.txt', delim_whitespace=True, names=('day_of_seq', 'year', 'month', 'day'))\n",
        "nex_dates = pd.read_table(dir_path + 'nexday_99per_DJF_CASM_1980_2019.txt', delim_whitespace=True, names=('day_of_seq', 'year', 'month', 'day'))\n",
        "ex_dates.insert(0, 'ex', pd.Series([1]*len(ex_dates)))\n",
        "nex_dates.insert(0, 'ex', pd.Series([0]*len(nex_dates)))\n",
        "\n",
        "features = ['h500', 'ivt', 'qv2m', 'slp', 'tpw', 'uqv', 'vqv', 'w500']\n",
        "std_vals = dict()\n",
        "\n",
        "for feature in features:\n",
        "    ex_X = pd.read_table(dir_path + f'ERA5/CASM/ERA5_DJF_CASM_99per_ex_n{feature}_1980_2019.txt', delim_whitespace=True, header = None)\n",
        "    nex_X = pd.read_table(dir_path + f'ERA5/CASM/ERA5_DJF_CASM_99per_nex_n{feature}_1980_2019.txt', delim_whitespace=True, header = None)\n",
        "    ex = pd.concat([ex_dates, ex_X], axis = 1)\n",
        "    nex = pd.concat([nex_dates, nex_X], axis = 1)\n",
        "    X_std = pd.concat([ex, nex]).sort_values('day_of_seq').reset_index(drop=True)\n",
        "    std = X_std.iloc[:,5:].values.std(axis=1)\n",
        "    std_vals[feature] = std"
      ]
    },
    {
      "cell_type": "code",
      "execution_count": 7,
      "metadata": {
        "id": "q6ETHkiAGHhC"
      },
      "outputs": [],
      "source": [
        "X_mean['date'] = pd.to_datetime(X_mean[['year', 'month', 'day']])\n",
        "df_mean = pd.DataFrame.from_dict(mean_vals)\n",
        "df_mean['date'] = X_mean.date\n",
        "df_mean.set_index('date', inplace = True, drop = True)\n",
        "df_mean['ex'] = X_mean['ex'].values\n",
        "df_mean.columns = ['h500_m', 'ivt_m', 'qv2m_m', 'slp_m', 'tpw_m', 'uqv_m', 'vqv_m', 'w500_m', 'ex']\n",
        "df_mean.drop(columns = 'ex', inplace = True)\n",
        "\n",
        "X_std['date'] = pd.to_datetime(X_std[['year', 'month', 'day']])\n",
        "df_std = pd.DataFrame.from_dict(std_vals)\n",
        "df_std['date'] = X_std.date\n",
        "df_std.set_index('date', inplace = True, drop = True)\n",
        "df_std['ex'] = X_std['ex'].values\n",
        "df_std.columns = ['h500_std', 'ivt_std', 'qv2m_std', 'slp_std', 'tpw_std', 'uqv_std', 'vqv_std', 'w500_std', 'ex']\n",
        "\n",
        "df = pd.concat([df_mean, df_std], axis = 1)"
      ]
    },
    {
      "cell_type": "code",
      "execution_count": 8,
      "metadata": {
        "id": "aggXYfRhvdbl"
      },
      "outputs": [],
      "source": [
        "df = df.reset_index()\n",
        "df[\"day\"] = df[\"date\"].dt.dayofyear"
      ]
    },
    {
      "cell_type": "code",
      "execution_count": 10,
      "metadata": {
        "id": "dTIlcrtnsYIc"
      },
      "outputs": [],
      "source": [
        "df['day_of_year'] = (df[\"day\"] + 31) % (335 + 31)"
      ]
    },
    {
      "cell_type": "code",
      "execution_count": 11,
      "metadata": {
        "id": "VtOrbtIHvalg"
      },
      "outputs": [],
      "source": [
        "df_no_std = df.drop([\"day\", \"date\", \"h500_std\",\t\"ivt_std\",\t\"qv2m_std\", \"slp_std\",\t\"tpw_std\",\t\"uqv_std\",\t\"vqv_std\",\t\"w500_std\"], axis=1)"
      ]
    },
    {
      "cell_type": "code",
      "execution_count": 12,
      "metadata": {
        "id": "hV0TKyXBxd7k"
      },
      "outputs": [],
      "source": [
        "to_shift = df_no_std.columns[:-2]"
      ]
    },
    {
      "cell_type": "code",
      "execution_count": 13,
      "metadata": {
        "id": "xYWMdjUNyHUZ"
      },
      "outputs": [],
      "source": [
        "for feature in to_shift:\n",
        "  for i in range(1, 4):\n",
        "    df_no_std[feature + str(-i)] = df_no_std[feature].shift(i)"
      ]
    },
    {
      "cell_type": "code",
      "execution_count": 15,
      "metadata": {
        "id": "jA4ZGwwNy_eX"
      },
      "outputs": [],
      "source": [
        "df_no_std = df_no_std.drop([df_no_std.index[0] , df_no_std.index[1], df_no_std.index[2]])"
      ]
    },
    {
      "cell_type": "code",
      "execution_count": 16,
      "metadata": {
        "colab": {
          "base_uri": "https://localhost:8080/",
          "height": 505
        },
        "id": "zEr-e2y7zHCx",
        "outputId": "f5f8d5c4-9907-436c-c78e-8f8611387e96"
      },
      "outputs": [
        {
          "output_type": "execute_result",
          "data": {
            "text/plain": [
              "        h500_m     ivt_m    qv2m_m     slp_m     tpw_m     uqv_m     vqv_m  \\\n",
              "3    -0.490461 -0.315219 -0.333487 -0.375833 -0.181184 -0.119781 -0.086184   \n",
              "4    -0.530000 -0.075943 -0.423838 -0.501952 -0.127149  0.031535  0.107346   \n",
              "5    -0.447346 -0.014737 -0.298947 -0.293465 -0.122763  0.056864  0.028706   \n",
              "6    -0.668465 -0.103816 -0.161798 -0.213092 -0.072785  0.136096 -0.137785   \n",
              "7    -0.872390 -0.209868 -0.179035 -0.162237 -0.150373  0.186776 -0.153596   \n",
              "...        ...       ...       ...       ...       ...       ...       ...   \n",
              "3605 -0.175351 -0.014452  0.167785 -0.391974  0.374825  0.219232  0.174035   \n",
              "3606 -0.092259  0.247281  0.184232 -0.134211  0.361140  0.244408  0.149496   \n",
              "3607  0.118947  0.122281  0.104649  0.306382  0.121842  0.032127 -0.331382   \n",
              "3608  0.397171  0.292785  0.161206  0.354846  0.254408  0.188180 -0.247193   \n",
              "3609  0.384518  0.776623  0.427785  0.013794  0.585592  0.652654 -0.145351   \n",
              "\n",
              "        w500_m  ex  day_of_year  ...   tpw_m-3   uqv_m-1   uqv_m-2   uqv_m-3  \\\n",
              "3    -0.056316   0           35  ...  0.303355 -0.087368 -0.104342 -0.163311   \n",
              "4    -0.132105   0           36  ...  0.250636 -0.119781 -0.087368 -0.104342   \n",
              "5    -0.131798   0           37  ...  0.018004  0.031535 -0.119781 -0.087368   \n",
              "6    -0.129583   0           38  ... -0.181184  0.056864  0.031535 -0.119781   \n",
              "7     0.142478   0           39  ... -0.127149  0.136096  0.056864  0.031535   \n",
              "...        ...  ..          ...  ...       ...       ...       ...       ...   \n",
              "3605 -0.075000   0           26  ...  0.089825  0.094978  0.083860  0.231491   \n",
              "3606  0.022939   0           27  ...  0.146754  0.219232  0.094978  0.083860   \n",
              "3607  0.303882   0           28  ...  0.143224  0.244408  0.219232  0.094978   \n",
              "3608  0.229408   0           29  ...  0.374825  0.032127  0.244408  0.219232   \n",
              "3609  0.020899   0           30  ...  0.361140  0.188180  0.032127  0.244408   \n",
              "\n",
              "       vqv_m-1   vqv_m-2   vqv_m-3  w500_m-1  w500_m-2  w500_m-3  \n",
              "3     0.013048  0.238004  0.322961 -0.151075 -0.172237 -0.190548  \n",
              "4    -0.086184  0.013048  0.238004 -0.056316 -0.151075 -0.172237  \n",
              "5     0.107346 -0.086184  0.013048 -0.132105 -0.056316 -0.151075  \n",
              "6     0.028706  0.107346 -0.086184 -0.131798 -0.132105 -0.056316  \n",
              "7    -0.137785  0.028706  0.107346 -0.129583 -0.131798 -0.132105  \n",
              "...        ...       ...       ...       ...       ...       ...  \n",
              "3605 -0.006316  0.024803  0.313553  0.015614 -0.002149  0.040680  \n",
              "3606  0.174035 -0.006316  0.024803 -0.075000  0.015614 -0.002149  \n",
              "3607  0.149496  0.174035 -0.006316  0.022939 -0.075000  0.015614  \n",
              "3608 -0.331382  0.149496  0.174035  0.303882  0.022939 -0.075000  \n",
              "3609 -0.247193 -0.331382  0.149496  0.229408  0.303882  0.022939  \n",
              "\n",
              "[3607 rows x 34 columns]"
            ],
            "text/html": [
              "\n",
              "  <div id=\"df-522b8d6a-c0f6-4963-96d3-8132b8148e8e\">\n",
              "    <div class=\"colab-df-container\">\n",
              "      <div>\n",
              "<style scoped>\n",
              "    .dataframe tbody tr th:only-of-type {\n",
              "        vertical-align: middle;\n",
              "    }\n",
              "\n",
              "    .dataframe tbody tr th {\n",
              "        vertical-align: top;\n",
              "    }\n",
              "\n",
              "    .dataframe thead th {\n",
              "        text-align: right;\n",
              "    }\n",
              "</style>\n",
              "<table border=\"1\" class=\"dataframe\">\n",
              "  <thead>\n",
              "    <tr style=\"text-align: right;\">\n",
              "      <th></th>\n",
              "      <th>h500_m</th>\n",
              "      <th>ivt_m</th>\n",
              "      <th>qv2m_m</th>\n",
              "      <th>slp_m</th>\n",
              "      <th>tpw_m</th>\n",
              "      <th>uqv_m</th>\n",
              "      <th>vqv_m</th>\n",
              "      <th>w500_m</th>\n",
              "      <th>ex</th>\n",
              "      <th>day_of_year</th>\n",
              "      <th>...</th>\n",
              "      <th>tpw_m-3</th>\n",
              "      <th>uqv_m-1</th>\n",
              "      <th>uqv_m-2</th>\n",
              "      <th>uqv_m-3</th>\n",
              "      <th>vqv_m-1</th>\n",
              "      <th>vqv_m-2</th>\n",
              "      <th>vqv_m-3</th>\n",
              "      <th>w500_m-1</th>\n",
              "      <th>w500_m-2</th>\n",
              "      <th>w500_m-3</th>\n",
              "    </tr>\n",
              "  </thead>\n",
              "  <tbody>\n",
              "    <tr>\n",
              "      <th>3</th>\n",
              "      <td>-0.490461</td>\n",
              "      <td>-0.315219</td>\n",
              "      <td>-0.333487</td>\n",
              "      <td>-0.375833</td>\n",
              "      <td>-0.181184</td>\n",
              "      <td>-0.119781</td>\n",
              "      <td>-0.086184</td>\n",
              "      <td>-0.056316</td>\n",
              "      <td>0</td>\n",
              "      <td>35</td>\n",
              "      <td>...</td>\n",
              "      <td>0.303355</td>\n",
              "      <td>-0.087368</td>\n",
              "      <td>-0.104342</td>\n",
              "      <td>-0.163311</td>\n",
              "      <td>0.013048</td>\n",
              "      <td>0.238004</td>\n",
              "      <td>0.322961</td>\n",
              "      <td>-0.151075</td>\n",
              "      <td>-0.172237</td>\n",
              "      <td>-0.190548</td>\n",
              "    </tr>\n",
              "    <tr>\n",
              "      <th>4</th>\n",
              "      <td>-0.530000</td>\n",
              "      <td>-0.075943</td>\n",
              "      <td>-0.423838</td>\n",
              "      <td>-0.501952</td>\n",
              "      <td>-0.127149</td>\n",
              "      <td>0.031535</td>\n",
              "      <td>0.107346</td>\n",
              "      <td>-0.132105</td>\n",
              "      <td>0</td>\n",
              "      <td>36</td>\n",
              "      <td>...</td>\n",
              "      <td>0.250636</td>\n",
              "      <td>-0.119781</td>\n",
              "      <td>-0.087368</td>\n",
              "      <td>-0.104342</td>\n",
              "      <td>-0.086184</td>\n",
              "      <td>0.013048</td>\n",
              "      <td>0.238004</td>\n",
              "      <td>-0.056316</td>\n",
              "      <td>-0.151075</td>\n",
              "      <td>-0.172237</td>\n",
              "    </tr>\n",
              "    <tr>\n",
              "      <th>5</th>\n",
              "      <td>-0.447346</td>\n",
              "      <td>-0.014737</td>\n",
              "      <td>-0.298947</td>\n",
              "      <td>-0.293465</td>\n",
              "      <td>-0.122763</td>\n",
              "      <td>0.056864</td>\n",
              "      <td>0.028706</td>\n",
              "      <td>-0.131798</td>\n",
              "      <td>0</td>\n",
              "      <td>37</td>\n",
              "      <td>...</td>\n",
              "      <td>0.018004</td>\n",
              "      <td>0.031535</td>\n",
              "      <td>-0.119781</td>\n",
              "      <td>-0.087368</td>\n",
              "      <td>0.107346</td>\n",
              "      <td>-0.086184</td>\n",
              "      <td>0.013048</td>\n",
              "      <td>-0.132105</td>\n",
              "      <td>-0.056316</td>\n",
              "      <td>-0.151075</td>\n",
              "    </tr>\n",
              "    <tr>\n",
              "      <th>6</th>\n",
              "      <td>-0.668465</td>\n",
              "      <td>-0.103816</td>\n",
              "      <td>-0.161798</td>\n",
              "      <td>-0.213092</td>\n",
              "      <td>-0.072785</td>\n",
              "      <td>0.136096</td>\n",
              "      <td>-0.137785</td>\n",
              "      <td>-0.129583</td>\n",
              "      <td>0</td>\n",
              "      <td>38</td>\n",
              "      <td>...</td>\n",
              "      <td>-0.181184</td>\n",
              "      <td>0.056864</td>\n",
              "      <td>0.031535</td>\n",
              "      <td>-0.119781</td>\n",
              "      <td>0.028706</td>\n",
              "      <td>0.107346</td>\n",
              "      <td>-0.086184</td>\n",
              "      <td>-0.131798</td>\n",
              "      <td>-0.132105</td>\n",
              "      <td>-0.056316</td>\n",
              "    </tr>\n",
              "    <tr>\n",
              "      <th>7</th>\n",
              "      <td>-0.872390</td>\n",
              "      <td>-0.209868</td>\n",
              "      <td>-0.179035</td>\n",
              "      <td>-0.162237</td>\n",
              "      <td>-0.150373</td>\n",
              "      <td>0.186776</td>\n",
              "      <td>-0.153596</td>\n",
              "      <td>0.142478</td>\n",
              "      <td>0</td>\n",
              "      <td>39</td>\n",
              "      <td>...</td>\n",
              "      <td>-0.127149</td>\n",
              "      <td>0.136096</td>\n",
              "      <td>0.056864</td>\n",
              "      <td>0.031535</td>\n",
              "      <td>-0.137785</td>\n",
              "      <td>0.028706</td>\n",
              "      <td>0.107346</td>\n",
              "      <td>-0.129583</td>\n",
              "      <td>-0.131798</td>\n",
              "      <td>-0.132105</td>\n",
              "    </tr>\n",
              "    <tr>\n",
              "      <th>...</th>\n",
              "      <td>...</td>\n",
              "      <td>...</td>\n",
              "      <td>...</td>\n",
              "      <td>...</td>\n",
              "      <td>...</td>\n",
              "      <td>...</td>\n",
              "      <td>...</td>\n",
              "      <td>...</td>\n",
              "      <td>...</td>\n",
              "      <td>...</td>\n",
              "      <td>...</td>\n",
              "      <td>...</td>\n",
              "      <td>...</td>\n",
              "      <td>...</td>\n",
              "      <td>...</td>\n",
              "      <td>...</td>\n",
              "      <td>...</td>\n",
              "      <td>...</td>\n",
              "      <td>...</td>\n",
              "      <td>...</td>\n",
              "      <td>...</td>\n",
              "    </tr>\n",
              "    <tr>\n",
              "      <th>3605</th>\n",
              "      <td>-0.175351</td>\n",
              "      <td>-0.014452</td>\n",
              "      <td>0.167785</td>\n",
              "      <td>-0.391974</td>\n",
              "      <td>0.374825</td>\n",
              "      <td>0.219232</td>\n",
              "      <td>0.174035</td>\n",
              "      <td>-0.075000</td>\n",
              "      <td>0</td>\n",
              "      <td>26</td>\n",
              "      <td>...</td>\n",
              "      <td>0.089825</td>\n",
              "      <td>0.094978</td>\n",
              "      <td>0.083860</td>\n",
              "      <td>0.231491</td>\n",
              "      <td>-0.006316</td>\n",
              "      <td>0.024803</td>\n",
              "      <td>0.313553</td>\n",
              "      <td>0.015614</td>\n",
              "      <td>-0.002149</td>\n",
              "      <td>0.040680</td>\n",
              "    </tr>\n",
              "    <tr>\n",
              "      <th>3606</th>\n",
              "      <td>-0.092259</td>\n",
              "      <td>0.247281</td>\n",
              "      <td>0.184232</td>\n",
              "      <td>-0.134211</td>\n",
              "      <td>0.361140</td>\n",
              "      <td>0.244408</td>\n",
              "      <td>0.149496</td>\n",
              "      <td>0.022939</td>\n",
              "      <td>0</td>\n",
              "      <td>27</td>\n",
              "      <td>...</td>\n",
              "      <td>0.146754</td>\n",
              "      <td>0.219232</td>\n",
              "      <td>0.094978</td>\n",
              "      <td>0.083860</td>\n",
              "      <td>0.174035</td>\n",
              "      <td>-0.006316</td>\n",
              "      <td>0.024803</td>\n",
              "      <td>-0.075000</td>\n",
              "      <td>0.015614</td>\n",
              "      <td>-0.002149</td>\n",
              "    </tr>\n",
              "    <tr>\n",
              "      <th>3607</th>\n",
              "      <td>0.118947</td>\n",
              "      <td>0.122281</td>\n",
              "      <td>0.104649</td>\n",
              "      <td>0.306382</td>\n",
              "      <td>0.121842</td>\n",
              "      <td>0.032127</td>\n",
              "      <td>-0.331382</td>\n",
              "      <td>0.303882</td>\n",
              "      <td>0</td>\n",
              "      <td>28</td>\n",
              "      <td>...</td>\n",
              "      <td>0.143224</td>\n",
              "      <td>0.244408</td>\n",
              "      <td>0.219232</td>\n",
              "      <td>0.094978</td>\n",
              "      <td>0.149496</td>\n",
              "      <td>0.174035</td>\n",
              "      <td>-0.006316</td>\n",
              "      <td>0.022939</td>\n",
              "      <td>-0.075000</td>\n",
              "      <td>0.015614</td>\n",
              "    </tr>\n",
              "    <tr>\n",
              "      <th>3608</th>\n",
              "      <td>0.397171</td>\n",
              "      <td>0.292785</td>\n",
              "      <td>0.161206</td>\n",
              "      <td>0.354846</td>\n",
              "      <td>0.254408</td>\n",
              "      <td>0.188180</td>\n",
              "      <td>-0.247193</td>\n",
              "      <td>0.229408</td>\n",
              "      <td>0</td>\n",
              "      <td>29</td>\n",
              "      <td>...</td>\n",
              "      <td>0.374825</td>\n",
              "      <td>0.032127</td>\n",
              "      <td>0.244408</td>\n",
              "      <td>0.219232</td>\n",
              "      <td>-0.331382</td>\n",
              "      <td>0.149496</td>\n",
              "      <td>0.174035</td>\n",
              "      <td>0.303882</td>\n",
              "      <td>0.022939</td>\n",
              "      <td>-0.075000</td>\n",
              "    </tr>\n",
              "    <tr>\n",
              "      <th>3609</th>\n",
              "      <td>0.384518</td>\n",
              "      <td>0.776623</td>\n",
              "      <td>0.427785</td>\n",
              "      <td>0.013794</td>\n",
              "      <td>0.585592</td>\n",
              "      <td>0.652654</td>\n",
              "      <td>-0.145351</td>\n",
              "      <td>0.020899</td>\n",
              "      <td>0</td>\n",
              "      <td>30</td>\n",
              "      <td>...</td>\n",
              "      <td>0.361140</td>\n",
              "      <td>0.188180</td>\n",
              "      <td>0.032127</td>\n",
              "      <td>0.244408</td>\n",
              "      <td>-0.247193</td>\n",
              "      <td>-0.331382</td>\n",
              "      <td>0.149496</td>\n",
              "      <td>0.229408</td>\n",
              "      <td>0.303882</td>\n",
              "      <td>0.022939</td>\n",
              "    </tr>\n",
              "  </tbody>\n",
              "</table>\n",
              "<p>3607 rows × 34 columns</p>\n",
              "</div>\n",
              "      <button class=\"colab-df-convert\" onclick=\"convertToInteractive('df-522b8d6a-c0f6-4963-96d3-8132b8148e8e')\"\n",
              "              title=\"Convert this dataframe to an interactive table.\"\n",
              "              style=\"display:none;\">\n",
              "        \n",
              "  <svg xmlns=\"http://www.w3.org/2000/svg\" height=\"24px\"viewBox=\"0 0 24 24\"\n",
              "       width=\"24px\">\n",
              "    <path d=\"M0 0h24v24H0V0z\" fill=\"none\"/>\n",
              "    <path d=\"M18.56 5.44l.94 2.06.94-2.06 2.06-.94-2.06-.94-.94-2.06-.94 2.06-2.06.94zm-11 1L8.5 8.5l.94-2.06 2.06-.94-2.06-.94L8.5 2.5l-.94 2.06-2.06.94zm10 10l.94 2.06.94-2.06 2.06-.94-2.06-.94-.94-2.06-.94 2.06-2.06.94z\"/><path d=\"M17.41 7.96l-1.37-1.37c-.4-.4-.92-.59-1.43-.59-.52 0-1.04.2-1.43.59L10.3 9.45l-7.72 7.72c-.78.78-.78 2.05 0 2.83L4 21.41c.39.39.9.59 1.41.59.51 0 1.02-.2 1.41-.59l7.78-7.78 2.81-2.81c.8-.78.8-2.07 0-2.86zM5.41 20L4 18.59l7.72-7.72 1.47 1.35L5.41 20z\"/>\n",
              "  </svg>\n",
              "      </button>\n",
              "      \n",
              "  <style>\n",
              "    .colab-df-container {\n",
              "      display:flex;\n",
              "      flex-wrap:wrap;\n",
              "      gap: 12px;\n",
              "    }\n",
              "\n",
              "    .colab-df-convert {\n",
              "      background-color: #E8F0FE;\n",
              "      border: none;\n",
              "      border-radius: 50%;\n",
              "      cursor: pointer;\n",
              "      display: none;\n",
              "      fill: #1967D2;\n",
              "      height: 32px;\n",
              "      padding: 0 0 0 0;\n",
              "      width: 32px;\n",
              "    }\n",
              "\n",
              "    .colab-df-convert:hover {\n",
              "      background-color: #E2EBFA;\n",
              "      box-shadow: 0px 1px 2px rgba(60, 64, 67, 0.3), 0px 1px 3px 1px rgba(60, 64, 67, 0.15);\n",
              "      fill: #174EA6;\n",
              "    }\n",
              "\n",
              "    [theme=dark] .colab-df-convert {\n",
              "      background-color: #3B4455;\n",
              "      fill: #D2E3FC;\n",
              "    }\n",
              "\n",
              "    [theme=dark] .colab-df-convert:hover {\n",
              "      background-color: #434B5C;\n",
              "      box-shadow: 0px 1px 3px 1px rgba(0, 0, 0, 0.15);\n",
              "      filter: drop-shadow(0px 1px 2px rgba(0, 0, 0, 0.3));\n",
              "      fill: #FFFFFF;\n",
              "    }\n",
              "  </style>\n",
              "\n",
              "      <script>\n",
              "        const buttonEl =\n",
              "          document.querySelector('#df-522b8d6a-c0f6-4963-96d3-8132b8148e8e button.colab-df-convert');\n",
              "        buttonEl.style.display =\n",
              "          google.colab.kernel.accessAllowed ? 'block' : 'none';\n",
              "\n",
              "        async function convertToInteractive(key) {\n",
              "          const element = document.querySelector('#df-522b8d6a-c0f6-4963-96d3-8132b8148e8e');\n",
              "          const dataTable =\n",
              "            await google.colab.kernel.invokeFunction('convertToInteractive',\n",
              "                                                     [key], {});\n",
              "          if (!dataTable) return;\n",
              "\n",
              "          const docLinkHtml = 'Like what you see? Visit the ' +\n",
              "            '<a target=\"_blank\" href=https://colab.research.google.com/notebooks/data_table.ipynb>data table notebook</a>'\n",
              "            + ' to learn more about interactive tables.';\n",
              "          element.innerHTML = '';\n",
              "          dataTable['output_type'] = 'display_data';\n",
              "          await google.colab.output.renderOutput(dataTable, element);\n",
              "          const docLink = document.createElement('div');\n",
              "          docLink.innerHTML = docLinkHtml;\n",
              "          element.appendChild(docLink);\n",
              "        }\n",
              "      </script>\n",
              "    </div>\n",
              "  </div>\n",
              "  "
            ]
          },
          "metadata": {},
          "execution_count": 16
        }
      ],
      "source": [
        "df_no_std"
      ]
    },
    {
      "cell_type": "code",
      "execution_count": 17,
      "metadata": {
        "id": "y9uOcbqYzgI9"
      },
      "outputs": [],
      "source": [
        "def scores(y_actual, y_predicted):\n",
        "    accuracy = accuracy_score(y_actual, y_predicted)\n",
        "    precision = precision_score(y_actual, y_predicted)\n",
        "    recall = recall_score(y_actual, y_predicted)\n",
        "    return accuracy, precision, recall\n",
        "\n",
        "\n",
        "def conf(y_test, y_pred):\n",
        "  return confusion_matrix(y_test, y_pred)"
      ]
    },
    {
      "cell_type": "code",
      "execution_count": 19,
      "metadata": {
        "id": "DQX4fCPq0eiP"
      },
      "outputs": [],
      "source": [
        "X_train, X_test, y_train, y_test = train_test_split(df_no_std.drop([\"ex\"], axis=1), df_no_std[\"ex\"], stratify = df_no_std[\"ex\"], test_size=0.25)"
      ]
    },
    {
      "cell_type": "markdown",
      "source": [
        "Let's prepare our data with methods SMOTE and UnderSampling, also left original data"
      ],
      "metadata": {
        "id": "MOUURmOrJyec"
      }
    },
    {
      "cell_type": "code",
      "execution_count": 35,
      "metadata": {
        "id": "n31iiquQ0amv"
      },
      "outputs": [],
      "source": [
        "smote = SMOTE(k_neighbors = 7)\n",
        "X_train_smote, y_train_smote = smote.fit_resample(X_train, y_train)"
      ]
    },
    {
      "cell_type": "code",
      "source": [
        "undersample = RandomUnderSampler(sampling_strategy='majority')\n",
        "X_train_under, y_train_under = undersample.fit_resample(X_train, y_train)"
      ],
      "metadata": {
        "id": "2TwA_APLB9JB"
      },
      "execution_count": 70,
      "outputs": []
    },
    {
      "cell_type": "markdown",
      "source": [
        "Now let's try our models on these train samples"
      ],
      "metadata": {
        "id": "u5ESIVsbKSu8"
      }
    },
    {
      "cell_type": "code",
      "source": [
        "results = pd.DataFrame()"
      ],
      "metadata": {
        "id": "ICKlAOGRL2BC"
      },
      "execution_count": 125,
      "outputs": []
    },
    {
      "cell_type": "code",
      "source": [
        "feature_name_list = ['accuracy', 'precision', 'recall']"
      ],
      "metadata": {
        "id": "gC1vnY5dO3OF"
      },
      "execution_count": 55,
      "outputs": []
    },
    {
      "cell_type": "markdown",
      "source": [
        "Catboost"
      ],
      "metadata": {
        "id": "SR91hHDvKa_Q"
      }
    },
    {
      "cell_type": "code",
      "execution_count": 126,
      "metadata": {
        "id": "JeytKydL1ltD"
      },
      "outputs": [],
      "source": [
        "model = CatBoostClassifier(verbose=0)\n",
        "model.fit(X_train, y_train)\n",
        "dct_ = {name:value for name, value in zip(feature_name_list, scores(y_test, model.predict(X_test)))}\n",
        "dct_['conf_mat'] = conf(y_test, model.predict(X_test))\n",
        "dct_['name'] = 'CatBoost'\n",
        "dct_['sampling'] = None                                          \n",
        "results = results.append(dct_, ignore_index=True)"
      ]
    },
    {
      "cell_type": "code",
      "source": [
        "model.fit(X_train_smote, y_train_smote)\n",
        "dct_ = {name:value for name, value in zip(feature_name_list, scores(y_test, model.predict(X_test)))}\n",
        "dct_['conf_mat'] = conf(y_test, model.predict(X_test))\n",
        "dct_['name'] = 'CatBoost'\n",
        "dct_['sampling'] = 'Smote'                                          \n",
        "results = results.append(dct_, ignore_index=True)"
      ],
      "metadata": {
        "id": "_YavPi6fUM2F"
      },
      "execution_count": 127,
      "outputs": []
    },
    {
      "cell_type": "code",
      "source": [
        "model.fit(X_train_under, y_train_under)\n",
        "dct_ = {name:value for name, value in zip(feature_name_list, scores(y_test, model.predict(X_test)))}\n",
        "dct_['conf_mat'] = conf(y_test, model.predict(X_test))\n",
        "dct_['name'] = 'CatBoost'\n",
        "dct_['sampling'] = 'Under'                                          \n",
        "results = results.append(dct_, ignore_index=True)"
      ],
      "metadata": {
        "id": "uRLgjtzWUWV-"
      },
      "execution_count": 128,
      "outputs": []
    },
    {
      "cell_type": "markdown",
      "source": [
        "SVC-linear"
      ],
      "metadata": {
        "id": "hNReFL-zMPkV"
      }
    },
    {
      "cell_type": "code",
      "execution_count": 129,
      "metadata": {
        "colab": {
          "base_uri": "https://localhost:8080/"
        },
        "id": "byJzGqkqUlHF",
        "outputId": "fb6d25c1-707c-4dc1-cb97-85f5341565c1"
      },
      "outputs": [
        {
          "output_type": "stream",
          "name": "stderr",
          "text": [
            "/usr/local/lib/python3.7/dist-packages/sklearn/metrics/_classification.py:1318: UndefinedMetricWarning: Precision is ill-defined and being set to 0.0 due to no predicted samples. Use `zero_division` parameter to control this behavior.\n",
            "  _warn_prf(average, modifier, msg_start, len(result))\n"
          ]
        }
      ],
      "source": [
        "model = SVC(kernel='linear', probability=True)\n",
        "model.fit(X_train, y_train)\n",
        "dct_ = {name:value for name, value in zip(feature_name_list, scores(y_test, model.predict(X_test)))}\n",
        "dct_['conf_mat'] = conf(y_test, model.predict(X_test))\n",
        "dct_['name'] = 'SVC-linear'\n",
        "dct_['sampling'] = None                                          \n",
        "results = results.append(dct_, ignore_index=True)"
      ]
    },
    {
      "cell_type": "code",
      "source": [
        "model.fit(X_train_smote, y_train_smote)\n",
        "dct_ = {name:value for name, value in zip(feature_name_list, scores(y_test, model.predict(X_test)))}\n",
        "dct_['conf_mat'] = conf(y_test, model.predict(X_test))\n",
        "dct_['name'] = 'SVC-linear'\n",
        "dct_['sampling'] = 'Smote'                                          \n",
        "results = results.append(dct_, ignore_index=True)"
      ],
      "metadata": {
        "id": "-nrhCvZAUlHG"
      },
      "execution_count": 130,
      "outputs": []
    },
    {
      "cell_type": "code",
      "source": [
        "model.fit(X_train_under, y_train_under)\n",
        "dct_ = {name:value for name, value in zip(feature_name_list, scores(y_test, model.predict(X_test)))}\n",
        "dct_['conf_mat'] = conf(y_test, model.predict(X_test))\n",
        "dct_['name'] = 'SVC-linear'\n",
        "dct_['sampling'] = 'Under'                                          \n",
        "results = results.append(dct_, ignore_index=True)"
      ],
      "metadata": {
        "id": "OMQIVmLAUlHG"
      },
      "execution_count": 131,
      "outputs": []
    },
    {
      "cell_type": "markdown",
      "source": [
        "SVC-kbf"
      ],
      "metadata": {
        "id": "rVnjvzhhMUrt"
      }
    },
    {
      "cell_type": "code",
      "execution_count": 132,
      "metadata": {
        "colab": {
          "base_uri": "https://localhost:8080/"
        },
        "outputId": "7907a4db-6173-46a1-c550-b4a74a19a387",
        "id": "xMMmVPFHU0-5"
      },
      "outputs": [
        {
          "output_type": "stream",
          "name": "stderr",
          "text": [
            "/usr/local/lib/python3.7/dist-packages/sklearn/metrics/_classification.py:1318: UndefinedMetricWarning: Precision is ill-defined and being set to 0.0 due to no predicted samples. Use `zero_division` parameter to control this behavior.\n",
            "  _warn_prf(average, modifier, msg_start, len(result))\n"
          ]
        }
      ],
      "source": [
        "model = SVC(kernel='rbf', probability=True)\n",
        "model.fit(X_train, y_train)\n",
        "dct_ = {name:value for name, value in zip(feature_name_list, scores(y_test, model.predict(X_test)))}\n",
        "dct_['conf_mat'] = conf(y_test, model.predict(X_test))\n",
        "dct_['name'] = 'SVC-rbf'\n",
        "dct_['sampling'] = None                                          \n",
        "results = results.append(dct_, ignore_index=True)"
      ]
    },
    {
      "cell_type": "code",
      "source": [
        "model.fit(X_train_smote, y_train_smote)\n",
        "dct_ = {name:value for name, value in zip(feature_name_list, scores(y_test, model.predict(X_test)))}\n",
        "dct_['conf_mat'] = conf(y_test, model.predict(X_test))\n",
        "dct_['name'] = 'SVC-rbf'\n",
        "dct_['sampling'] = 'Smote'                                          \n",
        "results = results.append(dct_, ignore_index=True)"
      ],
      "metadata": {
        "id": "HWyFPTNEU0-6"
      },
      "execution_count": 133,
      "outputs": []
    },
    {
      "cell_type": "code",
      "source": [
        "model.fit(X_train_under, y_train_under)\n",
        "dct_ = {name:value for name, value in zip(feature_name_list, scores(y_test, model.predict(X_test)))}\n",
        "dct_['conf_mat'] = conf(y_test, model.predict(X_test))\n",
        "dct_['name'] = 'SVC-rbf'\n",
        "dct_['sampling'] = 'Under'                                          \n",
        "results = results.append(dct_, ignore_index=True)"
      ],
      "metadata": {
        "id": "KnY_0W4BU0-6"
      },
      "execution_count": 134,
      "outputs": []
    },
    {
      "cell_type": "markdown",
      "source": [
        "Logistic Regression"
      ],
      "metadata": {
        "id": "cdQfElVfMjny"
      }
    },
    {
      "cell_type": "code",
      "execution_count": 135,
      "metadata": {
        "colab": {
          "base_uri": "https://localhost:8080/"
        },
        "outputId": "726c33b4-b716-4a2a-94ad-e1fccb243b60",
        "id": "vUU74iWfU8Hc"
      },
      "outputs": [
        {
          "output_type": "stream",
          "name": "stderr",
          "text": [
            "/usr/local/lib/python3.7/dist-packages/sklearn/linear_model/_logistic.py:818: ConvergenceWarning: lbfgs failed to converge (status=1):\n",
            "STOP: TOTAL NO. of ITERATIONS REACHED LIMIT.\n",
            "\n",
            "Increase the number of iterations (max_iter) or scale the data as shown in:\n",
            "    https://scikit-learn.org/stable/modules/preprocessing.html\n",
            "Please also refer to the documentation for alternative solver options:\n",
            "    https://scikit-learn.org/stable/modules/linear_model.html#logistic-regression\n",
            "  extra_warning_msg=_LOGISTIC_SOLVER_CONVERGENCE_MSG,\n"
          ]
        }
      ],
      "source": [
        "model = LogisticRegression(penalty='l2')\n",
        "model.fit(X_train, y_train)\n",
        "dct_ = {name:value for name, value in zip(feature_name_list, scores(y_test, model.predict(X_test)))}\n",
        "dct_['conf_mat'] = conf(y_test, model.predict(X_test))\n",
        "dct_['name'] = 'LogReg'\n",
        "dct_['sampling'] = None                                          \n",
        "results = results.append(dct_, ignore_index=True)"
      ]
    },
    {
      "cell_type": "code",
      "source": [
        "model.fit(X_train_smote, y_train_smote)\n",
        "dct_ = {name:value for name, value in zip(feature_name_list, scores(y_test, model.predict(X_test)))}\n",
        "dct_['conf_mat'] = conf(y_test, model.predict(X_test))\n",
        "dct_['name'] = 'LogReg'\n",
        "dct_['sampling'] = 'Smote'                                          \n",
        "results = results.append(dct_, ignore_index=True)"
      ],
      "metadata": {
        "colab": {
          "base_uri": "https://localhost:8080/"
        },
        "id": "Z8e2RH69U8Hd",
        "outputId": "8df0bb72-948c-4050-ec03-142a1909a70b"
      },
      "execution_count": 136,
      "outputs": [
        {
          "output_type": "stream",
          "name": "stderr",
          "text": [
            "/usr/local/lib/python3.7/dist-packages/sklearn/linear_model/_logistic.py:818: ConvergenceWarning: lbfgs failed to converge (status=1):\n",
            "STOP: TOTAL NO. of ITERATIONS REACHED LIMIT.\n",
            "\n",
            "Increase the number of iterations (max_iter) or scale the data as shown in:\n",
            "    https://scikit-learn.org/stable/modules/preprocessing.html\n",
            "Please also refer to the documentation for alternative solver options:\n",
            "    https://scikit-learn.org/stable/modules/linear_model.html#logistic-regression\n",
            "  extra_warning_msg=_LOGISTIC_SOLVER_CONVERGENCE_MSG,\n"
          ]
        }
      ]
    },
    {
      "cell_type": "code",
      "source": [
        "model.fit(X_train_under, y_train_under)\n",
        "dct_ = {name:value for name, value in zip(feature_name_list, scores(y_test, model.predict(X_test)))}\n",
        "dct_['conf_mat'] = conf(y_test, model.predict(X_test))\n",
        "dct_['name'] = 'LogReg'\n",
        "dct_['sampling'] = 'Under'                                          \n",
        "results = results.append(dct_, ignore_index=True)"
      ],
      "metadata": {
        "id": "3RlESzzzU8He"
      },
      "execution_count": 137,
      "outputs": []
    },
    {
      "cell_type": "markdown",
      "source": [
        "Random Forest"
      ],
      "metadata": {
        "id": "oSTLX0nWMqnf"
      }
    },
    {
      "cell_type": "code",
      "execution_count": 138,
      "metadata": {
        "id": "UDo5-8UPVDOu"
      },
      "outputs": [],
      "source": [
        "model = RandomForestClassifier(n_estimators=200)\n",
        "model.fit(X_train, y_train)\n",
        "dct_ = {name:value for name, value in zip(feature_name_list, scores(y_test, model.predict(X_test)))}\n",
        "dct_['conf_mat'] = conf(y_test, model.predict(X_test))\n",
        "dct_['name'] = 'RandomForest'\n",
        "dct_['sampling'] = None                                          \n",
        "results = results.append(dct_, ignore_index=True)"
      ]
    },
    {
      "cell_type": "code",
      "source": [
        "model.fit(X_train_smote, y_train_smote)\n",
        "dct_ = {name:value for name, value in zip(feature_name_list, scores(y_test, model.predict(X_test)))}\n",
        "dct_['conf_mat'] = conf(y_test, model.predict(X_test))\n",
        "dct_['name'] = 'RandomForest'\n",
        "dct_['sampling'] = 'Smote'                                          \n",
        "results = results.append(dct_, ignore_index=True)"
      ],
      "metadata": {
        "id": "qMxV-cKbVDOu"
      },
      "execution_count": 139,
      "outputs": []
    },
    {
      "cell_type": "code",
      "source": [
        "model.fit(X_train_under, y_train_under)\n",
        "dct_ = {name:value for name, value in zip(feature_name_list, scores(y_test, model.predict(X_test)))}\n",
        "dct_['conf_mat'] = conf(y_test, model.predict(X_test))\n",
        "dct_['name'] = 'RandomForest'\n",
        "dct_['sampling'] = 'Under'                                          \n",
        "results = results.append(dct_, ignore_index=True)"
      ],
      "metadata": {
        "id": "a3wtsafcVDOv"
      },
      "execution_count": 140,
      "outputs": []
    },
    {
      "cell_type": "code",
      "source": [
        "results"
      ],
      "metadata": {
        "colab": {
          "base_uri": "https://localhost:8080/",
          "height": 520
        },
        "id": "hx6PV7lYOkmM",
        "outputId": "6464c8a4-1cbb-4f11-abce-6d9181e576fe"
      },
      "execution_count": 141,
      "outputs": [
        {
          "output_type": "execute_result",
          "data": {
            "text/plain": [
              "    accuracy  precision    recall               conf_mat          name  \\\n",
              "0   0.980044   1.000000  0.052632    [[883, 0], [18, 1]]      CatBoost   \n",
              "1   0.949002   0.170732  0.368421   [[849, 34], [12, 7]]      CatBoost   \n",
              "2   0.733925   0.066667  0.894737  [[645, 238], [2, 17]]      CatBoost   \n",
              "3   0.978936   0.000000  0.000000    [[883, 0], [19, 0]]    SVC-linear   \n",
              "4   0.829268   0.090909  0.789474  [[733, 150], [4, 15]]    SVC-linear   \n",
              "5   0.770510   0.076577  0.894737  [[678, 205], [2, 17]]    SVC-linear   \n",
              "6   0.978936   0.000000  0.000000    [[883, 0], [19, 0]]       SVC-rbf   \n",
              "7   0.746120   0.066116  0.842105  [[657, 226], [3, 16]]       SVC-rbf   \n",
              "8   0.427938   0.015595  0.421053  [[378, 505], [11, 8]]       SVC-rbf   \n",
              "9   0.977827   0.333333  0.052632    [[881, 2], [18, 1]]        LogReg   \n",
              "10  0.833703   0.093168  0.789474  [[737, 146], [4, 15]]        LogReg   \n",
              "11  0.745011   0.069388  0.894737  [[655, 228], [2, 17]]        LogReg   \n",
              "12  0.980044   1.000000  0.052632    [[883, 0], [18, 1]]  RandomForest   \n",
              "13  0.952328   0.184211  0.368421   [[852, 31], [12, 7]]  RandomForest   \n",
              "14  0.747228   0.069959  0.894737  [[657, 226], [2, 17]]  RandomForest   \n",
              "\n",
              "   sampling  \n",
              "0      None  \n",
              "1     Smote  \n",
              "2     Under  \n",
              "3      None  \n",
              "4     Smote  \n",
              "5     Under  \n",
              "6      None  \n",
              "7     Smote  \n",
              "8     Under  \n",
              "9      None  \n",
              "10    Smote  \n",
              "11    Under  \n",
              "12     None  \n",
              "13    Smote  \n",
              "14    Under  "
            ],
            "text/html": [
              "\n",
              "  <div id=\"df-8c120ea8-4383-403e-bfea-4f64b88ab261\">\n",
              "    <div class=\"colab-df-container\">\n",
              "      <div>\n",
              "<style scoped>\n",
              "    .dataframe tbody tr th:only-of-type {\n",
              "        vertical-align: middle;\n",
              "    }\n",
              "\n",
              "    .dataframe tbody tr th {\n",
              "        vertical-align: top;\n",
              "    }\n",
              "\n",
              "    .dataframe thead th {\n",
              "        text-align: right;\n",
              "    }\n",
              "</style>\n",
              "<table border=\"1\" class=\"dataframe\">\n",
              "  <thead>\n",
              "    <tr style=\"text-align: right;\">\n",
              "      <th></th>\n",
              "      <th>accuracy</th>\n",
              "      <th>precision</th>\n",
              "      <th>recall</th>\n",
              "      <th>conf_mat</th>\n",
              "      <th>name</th>\n",
              "      <th>sampling</th>\n",
              "    </tr>\n",
              "  </thead>\n",
              "  <tbody>\n",
              "    <tr>\n",
              "      <th>0</th>\n",
              "      <td>0.980044</td>\n",
              "      <td>1.000000</td>\n",
              "      <td>0.052632</td>\n",
              "      <td>[[883, 0], [18, 1]]</td>\n",
              "      <td>CatBoost</td>\n",
              "      <td>None</td>\n",
              "    </tr>\n",
              "    <tr>\n",
              "      <th>1</th>\n",
              "      <td>0.949002</td>\n",
              "      <td>0.170732</td>\n",
              "      <td>0.368421</td>\n",
              "      <td>[[849, 34], [12, 7]]</td>\n",
              "      <td>CatBoost</td>\n",
              "      <td>Smote</td>\n",
              "    </tr>\n",
              "    <tr>\n",
              "      <th>2</th>\n",
              "      <td>0.733925</td>\n",
              "      <td>0.066667</td>\n",
              "      <td>0.894737</td>\n",
              "      <td>[[645, 238], [2, 17]]</td>\n",
              "      <td>CatBoost</td>\n",
              "      <td>Under</td>\n",
              "    </tr>\n",
              "    <tr>\n",
              "      <th>3</th>\n",
              "      <td>0.978936</td>\n",
              "      <td>0.000000</td>\n",
              "      <td>0.000000</td>\n",
              "      <td>[[883, 0], [19, 0]]</td>\n",
              "      <td>SVC-linear</td>\n",
              "      <td>None</td>\n",
              "    </tr>\n",
              "    <tr>\n",
              "      <th>4</th>\n",
              "      <td>0.829268</td>\n",
              "      <td>0.090909</td>\n",
              "      <td>0.789474</td>\n",
              "      <td>[[733, 150], [4, 15]]</td>\n",
              "      <td>SVC-linear</td>\n",
              "      <td>Smote</td>\n",
              "    </tr>\n",
              "    <tr>\n",
              "      <th>5</th>\n",
              "      <td>0.770510</td>\n",
              "      <td>0.076577</td>\n",
              "      <td>0.894737</td>\n",
              "      <td>[[678, 205], [2, 17]]</td>\n",
              "      <td>SVC-linear</td>\n",
              "      <td>Under</td>\n",
              "    </tr>\n",
              "    <tr>\n",
              "      <th>6</th>\n",
              "      <td>0.978936</td>\n",
              "      <td>0.000000</td>\n",
              "      <td>0.000000</td>\n",
              "      <td>[[883, 0], [19, 0]]</td>\n",
              "      <td>SVC-rbf</td>\n",
              "      <td>None</td>\n",
              "    </tr>\n",
              "    <tr>\n",
              "      <th>7</th>\n",
              "      <td>0.746120</td>\n",
              "      <td>0.066116</td>\n",
              "      <td>0.842105</td>\n",
              "      <td>[[657, 226], [3, 16]]</td>\n",
              "      <td>SVC-rbf</td>\n",
              "      <td>Smote</td>\n",
              "    </tr>\n",
              "    <tr>\n",
              "      <th>8</th>\n",
              "      <td>0.427938</td>\n",
              "      <td>0.015595</td>\n",
              "      <td>0.421053</td>\n",
              "      <td>[[378, 505], [11, 8]]</td>\n",
              "      <td>SVC-rbf</td>\n",
              "      <td>Under</td>\n",
              "    </tr>\n",
              "    <tr>\n",
              "      <th>9</th>\n",
              "      <td>0.977827</td>\n",
              "      <td>0.333333</td>\n",
              "      <td>0.052632</td>\n",
              "      <td>[[881, 2], [18, 1]]</td>\n",
              "      <td>LogReg</td>\n",
              "      <td>None</td>\n",
              "    </tr>\n",
              "    <tr>\n",
              "      <th>10</th>\n",
              "      <td>0.833703</td>\n",
              "      <td>0.093168</td>\n",
              "      <td>0.789474</td>\n",
              "      <td>[[737, 146], [4, 15]]</td>\n",
              "      <td>LogReg</td>\n",
              "      <td>Smote</td>\n",
              "    </tr>\n",
              "    <tr>\n",
              "      <th>11</th>\n",
              "      <td>0.745011</td>\n",
              "      <td>0.069388</td>\n",
              "      <td>0.894737</td>\n",
              "      <td>[[655, 228], [2, 17]]</td>\n",
              "      <td>LogReg</td>\n",
              "      <td>Under</td>\n",
              "    </tr>\n",
              "    <tr>\n",
              "      <th>12</th>\n",
              "      <td>0.980044</td>\n",
              "      <td>1.000000</td>\n",
              "      <td>0.052632</td>\n",
              "      <td>[[883, 0], [18, 1]]</td>\n",
              "      <td>RandomForest</td>\n",
              "      <td>None</td>\n",
              "    </tr>\n",
              "    <tr>\n",
              "      <th>13</th>\n",
              "      <td>0.952328</td>\n",
              "      <td>0.184211</td>\n",
              "      <td>0.368421</td>\n",
              "      <td>[[852, 31], [12, 7]]</td>\n",
              "      <td>RandomForest</td>\n",
              "      <td>Smote</td>\n",
              "    </tr>\n",
              "    <tr>\n",
              "      <th>14</th>\n",
              "      <td>0.747228</td>\n",
              "      <td>0.069959</td>\n",
              "      <td>0.894737</td>\n",
              "      <td>[[657, 226], [2, 17]]</td>\n",
              "      <td>RandomForest</td>\n",
              "      <td>Under</td>\n",
              "    </tr>\n",
              "  </tbody>\n",
              "</table>\n",
              "</div>\n",
              "      <button class=\"colab-df-convert\" onclick=\"convertToInteractive('df-8c120ea8-4383-403e-bfea-4f64b88ab261')\"\n",
              "              title=\"Convert this dataframe to an interactive table.\"\n",
              "              style=\"display:none;\">\n",
              "        \n",
              "  <svg xmlns=\"http://www.w3.org/2000/svg\" height=\"24px\"viewBox=\"0 0 24 24\"\n",
              "       width=\"24px\">\n",
              "    <path d=\"M0 0h24v24H0V0z\" fill=\"none\"/>\n",
              "    <path d=\"M18.56 5.44l.94 2.06.94-2.06 2.06-.94-2.06-.94-.94-2.06-.94 2.06-2.06.94zm-11 1L8.5 8.5l.94-2.06 2.06-.94-2.06-.94L8.5 2.5l-.94 2.06-2.06.94zm10 10l.94 2.06.94-2.06 2.06-.94-2.06-.94-.94-2.06-.94 2.06-2.06.94z\"/><path d=\"M17.41 7.96l-1.37-1.37c-.4-.4-.92-.59-1.43-.59-.52 0-1.04.2-1.43.59L10.3 9.45l-7.72 7.72c-.78.78-.78 2.05 0 2.83L4 21.41c.39.39.9.59 1.41.59.51 0 1.02-.2 1.41-.59l7.78-7.78 2.81-2.81c.8-.78.8-2.07 0-2.86zM5.41 20L4 18.59l7.72-7.72 1.47 1.35L5.41 20z\"/>\n",
              "  </svg>\n",
              "      </button>\n",
              "      \n",
              "  <style>\n",
              "    .colab-df-container {\n",
              "      display:flex;\n",
              "      flex-wrap:wrap;\n",
              "      gap: 12px;\n",
              "    }\n",
              "\n",
              "    .colab-df-convert {\n",
              "      background-color: #E8F0FE;\n",
              "      border: none;\n",
              "      border-radius: 50%;\n",
              "      cursor: pointer;\n",
              "      display: none;\n",
              "      fill: #1967D2;\n",
              "      height: 32px;\n",
              "      padding: 0 0 0 0;\n",
              "      width: 32px;\n",
              "    }\n",
              "\n",
              "    .colab-df-convert:hover {\n",
              "      background-color: #E2EBFA;\n",
              "      box-shadow: 0px 1px 2px rgba(60, 64, 67, 0.3), 0px 1px 3px 1px rgba(60, 64, 67, 0.15);\n",
              "      fill: #174EA6;\n",
              "    }\n",
              "\n",
              "    [theme=dark] .colab-df-convert {\n",
              "      background-color: #3B4455;\n",
              "      fill: #D2E3FC;\n",
              "    }\n",
              "\n",
              "    [theme=dark] .colab-df-convert:hover {\n",
              "      background-color: #434B5C;\n",
              "      box-shadow: 0px 1px 3px 1px rgba(0, 0, 0, 0.15);\n",
              "      filter: drop-shadow(0px 1px 2px rgba(0, 0, 0, 0.3));\n",
              "      fill: #FFFFFF;\n",
              "    }\n",
              "  </style>\n",
              "\n",
              "      <script>\n",
              "        const buttonEl =\n",
              "          document.querySelector('#df-8c120ea8-4383-403e-bfea-4f64b88ab261 button.colab-df-convert');\n",
              "        buttonEl.style.display =\n",
              "          google.colab.kernel.accessAllowed ? 'block' : 'none';\n",
              "\n",
              "        async function convertToInteractive(key) {\n",
              "          const element = document.querySelector('#df-8c120ea8-4383-403e-bfea-4f64b88ab261');\n",
              "          const dataTable =\n",
              "            await google.colab.kernel.invokeFunction('convertToInteractive',\n",
              "                                                     [key], {});\n",
              "          if (!dataTable) return;\n",
              "\n",
              "          const docLinkHtml = 'Like what you see? Visit the ' +\n",
              "            '<a target=\"_blank\" href=https://colab.research.google.com/notebooks/data_table.ipynb>data table notebook</a>'\n",
              "            + ' to learn more about interactive tables.';\n",
              "          element.innerHTML = '';\n",
              "          dataTable['output_type'] = 'display_data';\n",
              "          await google.colab.output.renderOutput(dataTable, element);\n",
              "          const docLink = document.createElement('div');\n",
              "          docLink.innerHTML = docLinkHtml;\n",
              "          element.appendChild(docLink);\n",
              "        }\n",
              "      </script>\n",
              "    </div>\n",
              "  </div>\n",
              "  "
            ]
          },
          "metadata": {},
          "execution_count": 141
        }
      ]
    },
    {
      "cell_type": "markdown",
      "source": [
        "Long-run part.\n",
        "\n"
      ],
      "metadata": {
        "id": "sltQeHSCV2lf"
      }
    },
    {
      "cell_type": "code",
      "source": [
        "search_cat = RandomizedSearchCV(\n",
        "      estimator=LGBMClassifier(verbose=0),\n",
        "      param_distributions={\n",
        "          \"reg_lambda\": np.logspace(-4, 0, 30),\n",
        "          \"n_estimators\" : np.arange(450, 1000, 20),\n",
        "          \"learning_rate\" : np.linspace(0.001, 0.02, 40),\n",
        "          \"max_depth\": np.arange(4, 20)\n",
        "      },\n",
        "      scoring='recall',\n",
        "      n_iter=25,\n",
        "      n_jobs=-1\n",
        ")\n",
        "search_cat.fit(X_train_smote, y_train_smote)"
      ],
      "metadata": {
        "id": "i-0xYtdAWY5q"
      },
      "execution_count": null,
      "outputs": []
    }
  ],
  "metadata": {
    "colab": {
      "collapsed_sections": [],
      "name": "mean_std_classification_CASM.ipynb",
      "toc_visible": true,
      "provenance": [],
      "include_colab_link": true
    },
    "kernelspec": {
      "display_name": "Python 3",
      "name": "python3"
    },
    "language_info": {
      "name": "python"
    }
  },
  "nbformat": 4,
  "nbformat_minor": 0
}