{
  "nbformat": 4,
  "nbformat_minor": 0,
  "metadata": {
    "colab": {
      "name": "mean_std_classification_CASM.ipynb",
      "provenance": [],
      "authorship_tag": "ABX9TyNoiw0AyJY654n7/aD/PWtb",
      "include_colab_link": true
    },
    "kernelspec": {
      "name": "python3",
      "display_name": "Python 3"
    },
    "language_info": {
      "name": "python"
    }
  },
  "cells": [
    {
      "cell_type": "markdown",
      "metadata": {
        "id": "view-in-github",
        "colab_type": "text"
      },
      "source": [
        "<a href=\"https://colab.research.google.com/github/Intelligent-Systems-Phystech/2022-Project-93-2/blob/master/code/mean_std_classification_CASM.ipynb\" target=\"_parent\"><img src=\"https://colab.research.google.com/assets/colab-badge.svg\" alt=\"Open In Colab\"/></a>"
      ]
    },
    {
      "cell_type": "code",
      "execution_count": null,
      "metadata": {
        "id": "OCAE-JfRDQZ5"
      },
      "outputs": [],
      "source": [
        "import pandas as pd\n",
        "import numpy as np\n",
        "import matplotlib.pyplot as plt\n",
        "from sklearn.linear_model import LogisticRegression\n",
        "from sklearn.metrics import f1_score, roc_auc_score, RocCurveDisplay\n",
        "from sklearn.model_selection import train_test_split\n",
        "from sklearn.metrics import confusion_matrix\n",
        "from sklearn.metrics import precision_score, recall_score\n",
        "from imblearn.under_sampling import RandomUnderSampler\n",
        "from imblearn.over_sampling import SMOTE\n",
        "from imblearn.pipeline import make_pipeline\n",
        "import time\n",
        "import xgboost as xgb\n",
        "from sklearn.model_selection import RandomizedSearchCV\n",
        "from sklearn.ensemble import BaggingClassifier\n",
        "from sklearn.model_selection import RepeatedStratifiedKFold\n",
        "from sklearn.model_selection import cross_val_score\n",
        "from sklearn.ensemble import RandomForestClassifier\n",
        "from sklearn.svm import SVC\n",
        "from sklearn.model_selection import GridSearchCV\n",
        "from sklearn.metrics import accuracy_score, auc, average_precision_score, \\\n",
        "                            make_scorer, precision_recall_curve, roc_curve\n",
        "from sklearn.metrics import precision_score, recall_score   \n",
        "from collections import Counter\n",
        "from google.colab import drive"
      ]
    },
    {
      "cell_type": "code",
      "execution_count": null,
      "metadata": {
        "id": "8TFK4ofOsW4-"
      },
      "outputs": [],
      "source": [
        "import pandas as pd\n",
        "import numpy as np\n",
        "import matplotlib.pyplot as plt\n",
        "from sklearn.linear_model import LogisticRegression\n",
        "from sklearn.metrics import f1_score, roc_auc_score, RocCurveDisplay\n",
        "from sklearn.model_selection import train_test_split\n",
        "from sklearn.metrics import confusion_matrix\n",
        "from sklearn.metrics import precision_score, recall_score\n",
        "from imblearn.under_sampling import RandomUnderSampler\n",
        "from imblearn.over_sampling import SMOTE\n",
        "from imblearn.pipeline import make_pipeline\n",
        "import time\n",
        "import xgboost as xgb\n",
        "from sklearn.model_selection import RandomizedSearchCV\n",
        "from sklearn.ensemble import BaggingClassifier\n",
        "from sklearn.model_selection import RepeatedStratifiedKFold\n",
        "from sklearn.model_selection import cross_val_score\n",
        "from sklearn.ensemble import RandomForestClassifier\n",
        "from sklearn.svm import SVC\n",
        "from sklearn.model_selection import GridSearchCV\n",
        "from sklearn.metrics import accuracy_score, auc, average_precision_score, \\\n",
        "                            make_scorer, precision_recall_curve, roc_curve\n",
        "from sklearn.metrics import precision_score, recall_score   \n",
        "from collections import Counter\n",
        "from google.colab import drive"
      ]
    },
    {
      "cell_type": "code",
      "execution_count": null,
      "metadata": {
        "colab": {
          "base_uri": "https://localhost:8080/"
        },
        "outputId": "75fa959c-13cb-44fe-df4d-077a3f0e84ec",
        "id": "XLiEvkPZsW4-"
      },
      "outputs": [
        {
          "output_type": "stream",
          "name": "stdout",
          "text": [
            "Mounted at /content/drive\n"
          ]
        }
      ],
      "source": [
        "from google.colab import drive\n",
        "drive.mount('/content/drive')\n",
        "dir_path = '/content/drive/My Drive/Skoltech Floods/'\n",
        "import os\n",
        "import sys\n",
        "sys.path.append(dir_path)"
      ]
    },
    {
      "cell_type": "code",
      "execution_count": null,
      "metadata": {
        "id": "-t59H3gpsW4-"
      },
      "outputs": [],
      "source": [
        "ex_dates = pd.read_table(dir_path + 'exday_99per_DJF_CASM_1980_2019.txt', delim_whitespace=True, names=('day_of_seq', 'year', 'month', 'day'))\n",
        "nex_dates = pd.read_table(dir_path + 'nexday_99per_DJF_CASM_1980_2019.txt', delim_whitespace=True, names=('day_of_seq', 'year', 'month', 'day'))\n",
        "ex_dates.insert(0, 'ex', pd.Series([1]*len(ex_dates)))\n",
        "nex_dates.insert(0, 'ex', pd.Series([0]*len(nex_dates)))\n",
        "\n",
        "features = ['h500', 'ivt', 'qv2m', 'slp', 'tpw', 'uqv', 'vqv', 'w500']\n",
        "mean_vals = dict()\n",
        "\n",
        "for feature in features:\n",
        "    ex_X = pd.read_table(dir_path + f'ERA5/CASM/ERA5_DJF_CASM_99per_ex_n{feature}_1980_2019.txt', delim_whitespace=True, header = None)\n",
        "    nex_X = pd.read_table(dir_path + f'ERA5/CASM/ERA5_DJF_CASM_99per_nex_n{feature}_1980_2019.txt', delim_whitespace=True, header = None)\n",
        "    ex = pd.concat([ex_dates, ex_X], axis = 1)\n",
        "    nex = pd.concat([nex_dates, nex_X], axis = 1)\n",
        "    X_mean = pd.concat([ex, nex]).sort_values('day_of_seq').reset_index(drop=True)\n",
        "    mean = X_mean.iloc[:,5:].values.mean(axis=1)\n",
        "    mean_vals[feature] = mean"
      ]
    },
    {
      "cell_type": "code",
      "execution_count": null,
      "metadata": {
        "id": "B-ITN9irsW5A"
      },
      "outputs": [],
      "source": [
        "ex_dates = pd.read_table(dir_path + 'exday_99per_DJF_CASM_1980_2019.txt', delim_whitespace=True, names=('day_of_seq', 'year', 'month', 'day'))\n",
        "nex_dates = pd.read_table(dir_path + 'nexday_99per_DJF_CASM_1980_2019.txt', delim_whitespace=True, names=('day_of_seq', 'year', 'month', 'day'))\n",
        "ex_dates.insert(0, 'ex', pd.Series([1]*len(ex_dates)))\n",
        "nex_dates.insert(0, 'ex', pd.Series([0]*len(nex_dates)))\n",
        "\n",
        "features = ['h500', 'ivt', 'qv2m', 'slp', 'tpw', 'uqv', 'vqv', 'w500']\n",
        "std_vals = dict()\n",
        "\n",
        "for feature in features:\n",
        "    ex_X = pd.read_table(dir_path + f'ERA5/CASM/ERA5_DJF_CASM_99per_ex_n{feature}_1980_2019.txt', delim_whitespace=True, header = None)\n",
        "    nex_X = pd.read_table(dir_path + f'ERA5/CASM/ERA5_DJF_CASM_99per_nex_n{feature}_1980_2019.txt', delim_whitespace=True, header = None)\n",
        "    ex = pd.concat([ex_dates, ex_X], axis = 1)\n",
        "    nex = pd.concat([nex_dates, nex_X], axis = 1)\n",
        "    X_std = pd.concat([ex, nex]).sort_values('day_of_seq').reset_index(drop=True)\n",
        "    std = X_std.iloc[:,5:].values.std(axis=1)\n",
        "    std_vals[feature] = std"
      ]
    },
    {
      "cell_type": "code",
      "execution_count": null,
      "metadata": {
        "id": "EKTNnheUsW5B"
      },
      "outputs": [],
      "source": [
        "X_mean['date'] = pd.to_datetime(X_mean[['year', 'month', 'day']])\n",
        "df_mean = pd.DataFrame.from_dict(mean_vals)\n",
        "df_mean['date'] = X_mean.date\n",
        "df_mean.set_index('date', inplace = True, drop = True)\n",
        "df_mean['ex'] = X_mean['ex'].values\n",
        "df_mean.columns = ['h500_m', 'ivt_m', 'qv2m_m', 'slp_m', 'tpw_m', 'uqv_m', 'vqv_m', 'w500_m', 'ex']\n",
        "df_mean.drop(columns = 'ex', inplace = True)\n",
        "\n",
        "X_std['date'] = pd.to_datetime(X_std[['year', 'month', 'day']])\n",
        "df_std = pd.DataFrame.from_dict(std_vals)\n",
        "df_std['date'] = X_std.date\n",
        "df_std.set_index('date', inplace = True, drop = True)\n",
        "df_std['ex'] = X_std['ex'].values\n",
        "df_std.columns = ['h500_std', 'ivt_std', 'qv2m_std', 'slp_std', 'tpw_std', 'uqv_std', 'vqv_std', 'w500_std', 'ex']\n",
        "\n",
        "df = pd.concat([df_mean, df_std], axis = 1)"
      ]
    },
    {
      "cell_type": "code",
      "execution_count": null,
      "metadata": {
        "id": "jO3l2RZ-sW5B"
      },
      "outputs": [],
      "source": [
        "from datetime import datetime"
      ]
    },
    {
      "cell_type": "code",
      "execution_count": null,
      "metadata": {
        "id": "ieLuM5KBsW5B"
      },
      "outputs": [],
      "source": [
        "df = df.reset_index()\n",
        "df[\"day\"] = df[\"date\"].dt.dayofyear"
      ]
    },
    {
      "cell_type": "code",
      "source": [
        "df"
      ],
      "metadata": {
        "outputId": "8cf3f3dc-b9c5-4ffa-94ca-3e9bf5b4cf77",
        "colab": {
          "base_uri": "https://localhost:8080/",
          "height": 641
        },
        "id": "pnLfE5dPsW5B"
      },
      "execution_count": null,
      "outputs": [
        {
          "output_type": "execute_result",
          "data": {
            "text/html": [
              "\n",
              "  <div id=\"df-be5cec11-2e15-4bdb-9fd2-768ad93ae103\">\n",
              "    <div class=\"colab-df-container\">\n",
              "      <div>\n",
              "<style scoped>\n",
              "    .dataframe tbody tr th:only-of-type {\n",
              "        vertical-align: middle;\n",
              "    }\n",
              "\n",
              "    .dataframe tbody tr th {\n",
              "        vertical-align: top;\n",
              "    }\n",
              "\n",
              "    .dataframe thead th {\n",
              "        text-align: right;\n",
              "    }\n",
              "</style>\n",
              "<table border=\"1\" class=\"dataframe\">\n",
              "  <thead>\n",
              "    <tr style=\"text-align: right;\">\n",
              "      <th></th>\n",
              "      <th>date</th>\n",
              "      <th>h500_m</th>\n",
              "      <th>ivt_m</th>\n",
              "      <th>qv2m_m</th>\n",
              "      <th>slp_m</th>\n",
              "      <th>tpw_m</th>\n",
              "      <th>uqv_m</th>\n",
              "      <th>vqv_m</th>\n",
              "      <th>w500_m</th>\n",
              "      <th>h500_std</th>\n",
              "      <th>ivt_std</th>\n",
              "      <th>qv2m_std</th>\n",
              "      <th>slp_std</th>\n",
              "      <th>tpw_std</th>\n",
              "      <th>uqv_std</th>\n",
              "      <th>vqv_std</th>\n",
              "      <th>w500_std</th>\n",
              "      <th>ex</th>\n",
              "      <th>day</th>\n",
              "      <th>day_of_year</th>\n",
              "    </tr>\n",
              "  </thead>\n",
              "  <tbody>\n",
              "    <tr>\n",
              "      <th>0</th>\n",
              "      <td>1980-01-01</td>\n",
              "      <td>0.101096</td>\n",
              "      <td>-0.190439</td>\n",
              "      <td>0.411886</td>\n",
              "      <td>-0.273224</td>\n",
              "      <td>0.303355</td>\n",
              "      <td>-0.163311</td>\n",
              "      <td>0.322961</td>\n",
              "      <td>-0.190548</td>\n",
              "      <td>0.530999</td>\n",
              "      <td>0.908322</td>\n",
              "      <td>0.906029</td>\n",
              "      <td>0.673107</td>\n",
              "      <td>0.849400</td>\n",
              "      <td>0.569867</td>\n",
              "      <td>1.079062</td>\n",
              "      <td>0.965381</td>\n",
              "      <td>0</td>\n",
              "      <td>1</td>\n",
              "      <td>32</td>\n",
              "    </tr>\n",
              "    <tr>\n",
              "      <th>1</th>\n",
              "      <td>1980-01-02</td>\n",
              "      <td>-0.077368</td>\n",
              "      <td>-0.128947</td>\n",
              "      <td>0.317478</td>\n",
              "      <td>-0.274342</td>\n",
              "      <td>0.250636</td>\n",
              "      <td>-0.104342</td>\n",
              "      <td>0.238004</td>\n",
              "      <td>-0.172237</td>\n",
              "      <td>0.676455</td>\n",
              "      <td>0.973508</td>\n",
              "      <td>0.926271</td>\n",
              "      <td>0.794021</td>\n",
              "      <td>0.929831</td>\n",
              "      <td>0.832833</td>\n",
              "      <td>1.105084</td>\n",
              "      <td>1.067417</td>\n",
              "      <td>0</td>\n",
              "      <td>2</td>\n",
              "      <td>33</td>\n",
              "    </tr>\n",
              "    <tr>\n",
              "      <th>2</th>\n",
              "      <td>1980-01-03</td>\n",
              "      <td>-0.333794</td>\n",
              "      <td>-0.330526</td>\n",
              "      <td>-0.016974</td>\n",
              "      <td>-0.325768</td>\n",
              "      <td>0.018004</td>\n",
              "      <td>-0.087368</td>\n",
              "      <td>0.013048</td>\n",
              "      <td>-0.151075</td>\n",
              "      <td>0.740520</td>\n",
              "      <td>0.856347</td>\n",
              "      <td>0.968628</td>\n",
              "      <td>0.800628</td>\n",
              "      <td>0.971815</td>\n",
              "      <td>0.811637</td>\n",
              "      <td>1.060485</td>\n",
              "      <td>1.022756</td>\n",
              "      <td>0</td>\n",
              "      <td>3</td>\n",
              "      <td>34</td>\n",
              "    </tr>\n",
              "    <tr>\n",
              "      <th>3</th>\n",
              "      <td>1980-01-04</td>\n",
              "      <td>-0.490461</td>\n",
              "      <td>-0.315219</td>\n",
              "      <td>-0.333487</td>\n",
              "      <td>-0.375833</td>\n",
              "      <td>-0.181184</td>\n",
              "      <td>-0.119781</td>\n",
              "      <td>-0.086184</td>\n",
              "      <td>-0.056316</td>\n",
              "      <td>0.895034</td>\n",
              "      <td>0.905010</td>\n",
              "      <td>0.934050</td>\n",
              "      <td>1.134577</td>\n",
              "      <td>1.037330</td>\n",
              "      <td>0.905180</td>\n",
              "      <td>1.155132</td>\n",
              "      <td>1.221864</td>\n",
              "      <td>0</td>\n",
              "      <td>4</td>\n",
              "      <td>35</td>\n",
              "    </tr>\n",
              "    <tr>\n",
              "      <th>4</th>\n",
              "      <td>1980-01-05</td>\n",
              "      <td>-0.530000</td>\n",
              "      <td>-0.075943</td>\n",
              "      <td>-0.423838</td>\n",
              "      <td>-0.501952</td>\n",
              "      <td>-0.127149</td>\n",
              "      <td>0.031535</td>\n",
              "      <td>0.107346</td>\n",
              "      <td>-0.132105</td>\n",
              "      <td>1.308361</td>\n",
              "      <td>1.063673</td>\n",
              "      <td>0.933331</td>\n",
              "      <td>1.499013</td>\n",
              "      <td>1.091915</td>\n",
              "      <td>1.252556</td>\n",
              "      <td>1.295984</td>\n",
              "      <td>1.303256</td>\n",
              "      <td>0</td>\n",
              "      <td>5</td>\n",
              "      <td>36</td>\n",
              "    </tr>\n",
              "    <tr>\n",
              "      <th>...</th>\n",
              "      <td>...</td>\n",
              "      <td>...</td>\n",
              "      <td>...</td>\n",
              "      <td>...</td>\n",
              "      <td>...</td>\n",
              "      <td>...</td>\n",
              "      <td>...</td>\n",
              "      <td>...</td>\n",
              "      <td>...</td>\n",
              "      <td>...</td>\n",
              "      <td>...</td>\n",
              "      <td>...</td>\n",
              "      <td>...</td>\n",
              "      <td>...</td>\n",
              "      <td>...</td>\n",
              "      <td>...</td>\n",
              "      <td>...</td>\n",
              "      <td>...</td>\n",
              "      <td>...</td>\n",
              "      <td>...</td>\n",
              "    </tr>\n",
              "    <tr>\n",
              "      <th>3605</th>\n",
              "      <td>2019-12-27</td>\n",
              "      <td>-0.175351</td>\n",
              "      <td>-0.014452</td>\n",
              "      <td>0.167785</td>\n",
              "      <td>-0.391974</td>\n",
              "      <td>0.374825</td>\n",
              "      <td>0.219232</td>\n",
              "      <td>0.174035</td>\n",
              "      <td>-0.075000</td>\n",
              "      <td>0.673514</td>\n",
              "      <td>0.844738</td>\n",
              "      <td>0.860278</td>\n",
              "      <td>0.595738</td>\n",
              "      <td>0.944596</td>\n",
              "      <td>0.826753</td>\n",
              "      <td>0.992366</td>\n",
              "      <td>1.061812</td>\n",
              "      <td>0</td>\n",
              "      <td>361</td>\n",
              "      <td>26</td>\n",
              "    </tr>\n",
              "    <tr>\n",
              "      <th>3606</th>\n",
              "      <td>2019-12-28</td>\n",
              "      <td>-0.092259</td>\n",
              "      <td>0.247281</td>\n",
              "      <td>0.184232</td>\n",
              "      <td>-0.134211</td>\n",
              "      <td>0.361140</td>\n",
              "      <td>0.244408</td>\n",
              "      <td>0.149496</td>\n",
              "      <td>0.022939</td>\n",
              "      <td>0.793587</td>\n",
              "      <td>1.026481</td>\n",
              "      <td>0.775458</td>\n",
              "      <td>0.647114</td>\n",
              "      <td>0.881771</td>\n",
              "      <td>0.928708</td>\n",
              "      <td>1.150588</td>\n",
              "      <td>1.106486</td>\n",
              "      <td>0</td>\n",
              "      <td>362</td>\n",
              "      <td>27</td>\n",
              "    </tr>\n",
              "    <tr>\n",
              "      <th>3607</th>\n",
              "      <td>2019-12-29</td>\n",
              "      <td>0.118947</td>\n",
              "      <td>0.122281</td>\n",
              "      <td>0.104649</td>\n",
              "      <td>0.306382</td>\n",
              "      <td>0.121842</td>\n",
              "      <td>0.032127</td>\n",
              "      <td>-0.331382</td>\n",
              "      <td>0.303882</td>\n",
              "      <td>0.792444</td>\n",
              "      <td>0.894909</td>\n",
              "      <td>0.720232</td>\n",
              "      <td>0.623433</td>\n",
              "      <td>0.810617</td>\n",
              "      <td>1.057763</td>\n",
              "      <td>0.772130</td>\n",
              "      <td>0.787905</td>\n",
              "      <td>0</td>\n",
              "      <td>363</td>\n",
              "      <td>28</td>\n",
              "    </tr>\n",
              "    <tr>\n",
              "      <th>3608</th>\n",
              "      <td>2019-12-30</td>\n",
              "      <td>0.397171</td>\n",
              "      <td>0.292785</td>\n",
              "      <td>0.161206</td>\n",
              "      <td>0.354846</td>\n",
              "      <td>0.254408</td>\n",
              "      <td>0.188180</td>\n",
              "      <td>-0.247193</td>\n",
              "      <td>0.229408</td>\n",
              "      <td>0.850200</td>\n",
              "      <td>1.046206</td>\n",
              "      <td>0.957128</td>\n",
              "      <td>0.743761</td>\n",
              "      <td>0.976063</td>\n",
              "      <td>1.262103</td>\n",
              "      <td>0.959247</td>\n",
              "      <td>0.888829</td>\n",
              "      <td>0</td>\n",
              "      <td>364</td>\n",
              "      <td>29</td>\n",
              "    </tr>\n",
              "    <tr>\n",
              "      <th>3609</th>\n",
              "      <td>2019-12-31</td>\n",
              "      <td>0.384518</td>\n",
              "      <td>0.776623</td>\n",
              "      <td>0.427785</td>\n",
              "      <td>0.013794</td>\n",
              "      <td>0.585592</td>\n",
              "      <td>0.652654</td>\n",
              "      <td>-0.145351</td>\n",
              "      <td>0.020899</td>\n",
              "      <td>1.019784</td>\n",
              "      <td>1.218084</td>\n",
              "      <td>1.134392</td>\n",
              "      <td>1.016845</td>\n",
              "      <td>1.171826</td>\n",
              "      <td>1.643082</td>\n",
              "      <td>1.079942</td>\n",
              "      <td>1.077312</td>\n",
              "      <td>0</td>\n",
              "      <td>365</td>\n",
              "      <td>30</td>\n",
              "    </tr>\n",
              "  </tbody>\n",
              "</table>\n",
              "<p>3610 rows × 20 columns</p>\n",
              "</div>\n",
              "      <button class=\"colab-df-convert\" onclick=\"convertToInteractive('df-be5cec11-2e15-4bdb-9fd2-768ad93ae103')\"\n",
              "              title=\"Convert this dataframe to an interactive table.\"\n",
              "              style=\"display:none;\">\n",
              "        \n",
              "  <svg xmlns=\"http://www.w3.org/2000/svg\" height=\"24px\"viewBox=\"0 0 24 24\"\n",
              "       width=\"24px\">\n",
              "    <path d=\"M0 0h24v24H0V0z\" fill=\"none\"/>\n",
              "    <path d=\"M18.56 5.44l.94 2.06.94-2.06 2.06-.94-2.06-.94-.94-2.06-.94 2.06-2.06.94zm-11 1L8.5 8.5l.94-2.06 2.06-.94-2.06-.94L8.5 2.5l-.94 2.06-2.06.94zm10 10l.94 2.06.94-2.06 2.06-.94-2.06-.94-.94-2.06-.94 2.06-2.06.94z\"/><path d=\"M17.41 7.96l-1.37-1.37c-.4-.4-.92-.59-1.43-.59-.52 0-1.04.2-1.43.59L10.3 9.45l-7.72 7.72c-.78.78-.78 2.05 0 2.83L4 21.41c.39.39.9.59 1.41.59.51 0 1.02-.2 1.41-.59l7.78-7.78 2.81-2.81c.8-.78.8-2.07 0-2.86zM5.41 20L4 18.59l7.72-7.72 1.47 1.35L5.41 20z\"/>\n",
              "  </svg>\n",
              "      </button>\n",
              "      \n",
              "  <style>\n",
              "    .colab-df-container {\n",
              "      display:flex;\n",
              "      flex-wrap:wrap;\n",
              "      gap: 12px;\n",
              "    }\n",
              "\n",
              "    .colab-df-convert {\n",
              "      background-color: #E8F0FE;\n",
              "      border: none;\n",
              "      border-radius: 50%;\n",
              "      cursor: pointer;\n",
              "      display: none;\n",
              "      fill: #1967D2;\n",
              "      height: 32px;\n",
              "      padding: 0 0 0 0;\n",
              "      width: 32px;\n",
              "    }\n",
              "\n",
              "    .colab-df-convert:hover {\n",
              "      background-color: #E2EBFA;\n",
              "      box-shadow: 0px 1px 2px rgba(60, 64, 67, 0.3), 0px 1px 3px 1px rgba(60, 64, 67, 0.15);\n",
              "      fill: #174EA6;\n",
              "    }\n",
              "\n",
              "    [theme=dark] .colab-df-convert {\n",
              "      background-color: #3B4455;\n",
              "      fill: #D2E3FC;\n",
              "    }\n",
              "\n",
              "    [theme=dark] .colab-df-convert:hover {\n",
              "      background-color: #434B5C;\n",
              "      box-shadow: 0px 1px 3px 1px rgba(0, 0, 0, 0.15);\n",
              "      filter: drop-shadow(0px 1px 2px rgba(0, 0, 0, 0.3));\n",
              "      fill: #FFFFFF;\n",
              "    }\n",
              "  </style>\n",
              "\n",
              "      <script>\n",
              "        const buttonEl =\n",
              "          document.querySelector('#df-be5cec11-2e15-4bdb-9fd2-768ad93ae103 button.colab-df-convert');\n",
              "        buttonEl.style.display =\n",
              "          google.colab.kernel.accessAllowed ? 'block' : 'none';\n",
              "\n",
              "        async function convertToInteractive(key) {\n",
              "          const element = document.querySelector('#df-be5cec11-2e15-4bdb-9fd2-768ad93ae103');\n",
              "          const dataTable =\n",
              "            await google.colab.kernel.invokeFunction('convertToInteractive',\n",
              "                                                     [key], {});\n",
              "          if (!dataTable) return;\n",
              "\n",
              "          const docLinkHtml = 'Like what you see? Visit the ' +\n",
              "            '<a target=\"_blank\" href=https://colab.research.google.com/notebooks/data_table.ipynb>data table notebook</a>'\n",
              "            + ' to learn more about interactive tables.';\n",
              "          element.innerHTML = '';\n",
              "          dataTable['output_type'] = 'display_data';\n",
              "          await google.colab.output.renderOutput(dataTable, element);\n",
              "          const docLink = document.createElement('div');\n",
              "          docLink.innerHTML = docLinkHtml;\n",
              "          element.appendChild(docLink);\n",
              "        }\n",
              "      </script>\n",
              "    </div>\n",
              "  </div>\n",
              "  "
            ],
            "text/plain": [
              "           date    h500_m     ivt_m    qv2m_m     slp_m     tpw_m     uqv_m  \\\n",
              "0    1980-01-01  0.101096 -0.190439  0.411886 -0.273224  0.303355 -0.163311   \n",
              "1    1980-01-02 -0.077368 -0.128947  0.317478 -0.274342  0.250636 -0.104342   \n",
              "2    1980-01-03 -0.333794 -0.330526 -0.016974 -0.325768  0.018004 -0.087368   \n",
              "3    1980-01-04 -0.490461 -0.315219 -0.333487 -0.375833 -0.181184 -0.119781   \n",
              "4    1980-01-05 -0.530000 -0.075943 -0.423838 -0.501952 -0.127149  0.031535   \n",
              "...         ...       ...       ...       ...       ...       ...       ...   \n",
              "3605 2019-12-27 -0.175351 -0.014452  0.167785 -0.391974  0.374825  0.219232   \n",
              "3606 2019-12-28 -0.092259  0.247281  0.184232 -0.134211  0.361140  0.244408   \n",
              "3607 2019-12-29  0.118947  0.122281  0.104649  0.306382  0.121842  0.032127   \n",
              "3608 2019-12-30  0.397171  0.292785  0.161206  0.354846  0.254408  0.188180   \n",
              "3609 2019-12-31  0.384518  0.776623  0.427785  0.013794  0.585592  0.652654   \n",
              "\n",
              "         vqv_m    w500_m  h500_std   ivt_std  qv2m_std   slp_std   tpw_std  \\\n",
              "0     0.322961 -0.190548  0.530999  0.908322  0.906029  0.673107  0.849400   \n",
              "1     0.238004 -0.172237  0.676455  0.973508  0.926271  0.794021  0.929831   \n",
              "2     0.013048 -0.151075  0.740520  0.856347  0.968628  0.800628  0.971815   \n",
              "3    -0.086184 -0.056316  0.895034  0.905010  0.934050  1.134577  1.037330   \n",
              "4     0.107346 -0.132105  1.308361  1.063673  0.933331  1.499013  1.091915   \n",
              "...        ...       ...       ...       ...       ...       ...       ...   \n",
              "3605  0.174035 -0.075000  0.673514  0.844738  0.860278  0.595738  0.944596   \n",
              "3606  0.149496  0.022939  0.793587  1.026481  0.775458  0.647114  0.881771   \n",
              "3607 -0.331382  0.303882  0.792444  0.894909  0.720232  0.623433  0.810617   \n",
              "3608 -0.247193  0.229408  0.850200  1.046206  0.957128  0.743761  0.976063   \n",
              "3609 -0.145351  0.020899  1.019784  1.218084  1.134392  1.016845  1.171826   \n",
              "\n",
              "       uqv_std   vqv_std  w500_std  ex  day  day_of_year  \n",
              "0     0.569867  1.079062  0.965381   0    1           32  \n",
              "1     0.832833  1.105084  1.067417   0    2           33  \n",
              "2     0.811637  1.060485  1.022756   0    3           34  \n",
              "3     0.905180  1.155132  1.221864   0    4           35  \n",
              "4     1.252556  1.295984  1.303256   0    5           36  \n",
              "...        ...       ...       ...  ..  ...          ...  \n",
              "3605  0.826753  0.992366  1.061812   0  361           26  \n",
              "3606  0.928708  1.150588  1.106486   0  362           27  \n",
              "3607  1.057763  0.772130  0.787905   0  363           28  \n",
              "3608  1.262103  0.959247  0.888829   0  364           29  \n",
              "3609  1.643082  1.079942  1.077312   0  365           30  \n",
              "\n",
              "[3610 rows x 20 columns]"
            ]
          },
          "metadata": {},
          "execution_count": 25
        }
      ]
    },
    {
      "cell_type": "code",
      "execution_count": null,
      "metadata": {
        "id": "pXPqUa-qsW5B"
      },
      "outputs": [],
      "source": [
        "df['day_of_year'] = (df[\"day\"] + 31) % (335 + 31)"
      ]
    },
    {
      "cell_type": "code",
      "execution_count": null,
      "metadata": {
        "id": "sPCFD1SVsW5C"
      },
      "outputs": [],
      "source": [
        "df_no_std = df.drop([\"day\", \"date\", \"h500_std\",\t\"ivt_std\",\t\"qv2m_std\", \"slp_std\",\t\"tpw_std\",\t\"uqv_std\",\t\"vqv_std\",\t\"w500_std\"], axis=1)"
      ]
    },
    {
      "cell_type": "code",
      "execution_count": null,
      "metadata": {
        "id": "-kPNoC4UsW5C"
      },
      "outputs": [],
      "source": [
        "to_shift = df_no_std.columns[:-2]"
      ]
    },
    {
      "cell_type": "code",
      "execution_count": null,
      "metadata": {
        "id": "cl0iYn-vsW5C"
      },
      "outputs": [],
      "source": [
        "for feature in to_shift:\n",
        "  for i in range(1, 4):\n",
        "    df_no_std[feature + str(-i)] = df_no_std[feature].shift(i)"
      ]
    },
    {
      "cell_type": "code",
      "execution_count": null,
      "metadata": {
        "colab": {
          "base_uri": "https://localhost:8080/",
          "height": 505
        },
        "outputId": "bb439661-cb19-42e1-8bdc-08e43de7c2d5",
        "id": "erVudO74sW5C"
      },
      "outputs": [
        {
          "output_type": "execute_result",
          "data": {
            "text/html": [
              "\n",
              "  <div id=\"df-fd3efd45-f179-46ab-9255-567d1fbfe609\">\n",
              "    <div class=\"colab-df-container\">\n",
              "      <div>\n",
              "<style scoped>\n",
              "    .dataframe tbody tr th:only-of-type {\n",
              "        vertical-align: middle;\n",
              "    }\n",
              "\n",
              "    .dataframe tbody tr th {\n",
              "        vertical-align: top;\n",
              "    }\n",
              "\n",
              "    .dataframe thead th {\n",
              "        text-align: right;\n",
              "    }\n",
              "</style>\n",
              "<table border=\"1\" class=\"dataframe\">\n",
              "  <thead>\n",
              "    <tr style=\"text-align: right;\">\n",
              "      <th></th>\n",
              "      <th>h500_m</th>\n",
              "      <th>ivt_m</th>\n",
              "      <th>qv2m_m</th>\n",
              "      <th>slp_m</th>\n",
              "      <th>tpw_m</th>\n",
              "      <th>uqv_m</th>\n",
              "      <th>vqv_m</th>\n",
              "      <th>w500_m</th>\n",
              "      <th>ex</th>\n",
              "      <th>day_of_year</th>\n",
              "      <th>...</th>\n",
              "      <th>tpw_m-3</th>\n",
              "      <th>uqv_m-1</th>\n",
              "      <th>uqv_m-2</th>\n",
              "      <th>uqv_m-3</th>\n",
              "      <th>vqv_m-1</th>\n",
              "      <th>vqv_m-2</th>\n",
              "      <th>vqv_m-3</th>\n",
              "      <th>w500_m-1</th>\n",
              "      <th>w500_m-2</th>\n",
              "      <th>w500_m-3</th>\n",
              "    </tr>\n",
              "  </thead>\n",
              "  <tbody>\n",
              "    <tr>\n",
              "      <th>0</th>\n",
              "      <td>0.101096</td>\n",
              "      <td>-0.190439</td>\n",
              "      <td>0.411886</td>\n",
              "      <td>-0.273224</td>\n",
              "      <td>0.303355</td>\n",
              "      <td>-0.163311</td>\n",
              "      <td>0.322961</td>\n",
              "      <td>-0.190548</td>\n",
              "      <td>0</td>\n",
              "      <td>32</td>\n",
              "      <td>...</td>\n",
              "      <td>NaN</td>\n",
              "      <td>NaN</td>\n",
              "      <td>NaN</td>\n",
              "      <td>NaN</td>\n",
              "      <td>NaN</td>\n",
              "      <td>NaN</td>\n",
              "      <td>NaN</td>\n",
              "      <td>NaN</td>\n",
              "      <td>NaN</td>\n",
              "      <td>NaN</td>\n",
              "    </tr>\n",
              "    <tr>\n",
              "      <th>1</th>\n",
              "      <td>-0.077368</td>\n",
              "      <td>-0.128947</td>\n",
              "      <td>0.317478</td>\n",
              "      <td>-0.274342</td>\n",
              "      <td>0.250636</td>\n",
              "      <td>-0.104342</td>\n",
              "      <td>0.238004</td>\n",
              "      <td>-0.172237</td>\n",
              "      <td>0</td>\n",
              "      <td>33</td>\n",
              "      <td>...</td>\n",
              "      <td>NaN</td>\n",
              "      <td>-0.163311</td>\n",
              "      <td>NaN</td>\n",
              "      <td>NaN</td>\n",
              "      <td>0.322961</td>\n",
              "      <td>NaN</td>\n",
              "      <td>NaN</td>\n",
              "      <td>-0.190548</td>\n",
              "      <td>NaN</td>\n",
              "      <td>NaN</td>\n",
              "    </tr>\n",
              "    <tr>\n",
              "      <th>2</th>\n",
              "      <td>-0.333794</td>\n",
              "      <td>-0.330526</td>\n",
              "      <td>-0.016974</td>\n",
              "      <td>-0.325768</td>\n",
              "      <td>0.018004</td>\n",
              "      <td>-0.087368</td>\n",
              "      <td>0.013048</td>\n",
              "      <td>-0.151075</td>\n",
              "      <td>0</td>\n",
              "      <td>34</td>\n",
              "      <td>...</td>\n",
              "      <td>NaN</td>\n",
              "      <td>-0.104342</td>\n",
              "      <td>-0.163311</td>\n",
              "      <td>NaN</td>\n",
              "      <td>0.238004</td>\n",
              "      <td>0.322961</td>\n",
              "      <td>NaN</td>\n",
              "      <td>-0.172237</td>\n",
              "      <td>-0.190548</td>\n",
              "      <td>NaN</td>\n",
              "    </tr>\n",
              "    <tr>\n",
              "      <th>3</th>\n",
              "      <td>-0.490461</td>\n",
              "      <td>-0.315219</td>\n",
              "      <td>-0.333487</td>\n",
              "      <td>-0.375833</td>\n",
              "      <td>-0.181184</td>\n",
              "      <td>-0.119781</td>\n",
              "      <td>-0.086184</td>\n",
              "      <td>-0.056316</td>\n",
              "      <td>0</td>\n",
              "      <td>35</td>\n",
              "      <td>...</td>\n",
              "      <td>0.303355</td>\n",
              "      <td>-0.087368</td>\n",
              "      <td>-0.104342</td>\n",
              "      <td>-0.163311</td>\n",
              "      <td>0.013048</td>\n",
              "      <td>0.238004</td>\n",
              "      <td>0.322961</td>\n",
              "      <td>-0.151075</td>\n",
              "      <td>-0.172237</td>\n",
              "      <td>-0.190548</td>\n",
              "    </tr>\n",
              "    <tr>\n",
              "      <th>4</th>\n",
              "      <td>-0.530000</td>\n",
              "      <td>-0.075943</td>\n",
              "      <td>-0.423838</td>\n",
              "      <td>-0.501952</td>\n",
              "      <td>-0.127149</td>\n",
              "      <td>0.031535</td>\n",
              "      <td>0.107346</td>\n",
              "      <td>-0.132105</td>\n",
              "      <td>0</td>\n",
              "      <td>36</td>\n",
              "      <td>...</td>\n",
              "      <td>0.250636</td>\n",
              "      <td>-0.119781</td>\n",
              "      <td>-0.087368</td>\n",
              "      <td>-0.104342</td>\n",
              "      <td>-0.086184</td>\n",
              "      <td>0.013048</td>\n",
              "      <td>0.238004</td>\n",
              "      <td>-0.056316</td>\n",
              "      <td>-0.151075</td>\n",
              "      <td>-0.172237</td>\n",
              "    </tr>\n",
              "    <tr>\n",
              "      <th>...</th>\n",
              "      <td>...</td>\n",
              "      <td>...</td>\n",
              "      <td>...</td>\n",
              "      <td>...</td>\n",
              "      <td>...</td>\n",
              "      <td>...</td>\n",
              "      <td>...</td>\n",
              "      <td>...</td>\n",
              "      <td>...</td>\n",
              "      <td>...</td>\n",
              "      <td>...</td>\n",
              "      <td>...</td>\n",
              "      <td>...</td>\n",
              "      <td>...</td>\n",
              "      <td>...</td>\n",
              "      <td>...</td>\n",
              "      <td>...</td>\n",
              "      <td>...</td>\n",
              "      <td>...</td>\n",
              "      <td>...</td>\n",
              "      <td>...</td>\n",
              "    </tr>\n",
              "    <tr>\n",
              "      <th>3605</th>\n",
              "      <td>-0.175351</td>\n",
              "      <td>-0.014452</td>\n",
              "      <td>0.167785</td>\n",
              "      <td>-0.391974</td>\n",
              "      <td>0.374825</td>\n",
              "      <td>0.219232</td>\n",
              "      <td>0.174035</td>\n",
              "      <td>-0.075000</td>\n",
              "      <td>0</td>\n",
              "      <td>26</td>\n",
              "      <td>...</td>\n",
              "      <td>0.089825</td>\n",
              "      <td>0.094978</td>\n",
              "      <td>0.083860</td>\n",
              "      <td>0.231491</td>\n",
              "      <td>-0.006316</td>\n",
              "      <td>0.024803</td>\n",
              "      <td>0.313553</td>\n",
              "      <td>0.015614</td>\n",
              "      <td>-0.002149</td>\n",
              "      <td>0.040680</td>\n",
              "    </tr>\n",
              "    <tr>\n",
              "      <th>3606</th>\n",
              "      <td>-0.092259</td>\n",
              "      <td>0.247281</td>\n",
              "      <td>0.184232</td>\n",
              "      <td>-0.134211</td>\n",
              "      <td>0.361140</td>\n",
              "      <td>0.244408</td>\n",
              "      <td>0.149496</td>\n",
              "      <td>0.022939</td>\n",
              "      <td>0</td>\n",
              "      <td>27</td>\n",
              "      <td>...</td>\n",
              "      <td>0.146754</td>\n",
              "      <td>0.219232</td>\n",
              "      <td>0.094978</td>\n",
              "      <td>0.083860</td>\n",
              "      <td>0.174035</td>\n",
              "      <td>-0.006316</td>\n",
              "      <td>0.024803</td>\n",
              "      <td>-0.075000</td>\n",
              "      <td>0.015614</td>\n",
              "      <td>-0.002149</td>\n",
              "    </tr>\n",
              "    <tr>\n",
              "      <th>3607</th>\n",
              "      <td>0.118947</td>\n",
              "      <td>0.122281</td>\n",
              "      <td>0.104649</td>\n",
              "      <td>0.306382</td>\n",
              "      <td>0.121842</td>\n",
              "      <td>0.032127</td>\n",
              "      <td>-0.331382</td>\n",
              "      <td>0.303882</td>\n",
              "      <td>0</td>\n",
              "      <td>28</td>\n",
              "      <td>...</td>\n",
              "      <td>0.143224</td>\n",
              "      <td>0.244408</td>\n",
              "      <td>0.219232</td>\n",
              "      <td>0.094978</td>\n",
              "      <td>0.149496</td>\n",
              "      <td>0.174035</td>\n",
              "      <td>-0.006316</td>\n",
              "      <td>0.022939</td>\n",
              "      <td>-0.075000</td>\n",
              "      <td>0.015614</td>\n",
              "    </tr>\n",
              "    <tr>\n",
              "      <th>3608</th>\n",
              "      <td>0.397171</td>\n",
              "      <td>0.292785</td>\n",
              "      <td>0.161206</td>\n",
              "      <td>0.354846</td>\n",
              "      <td>0.254408</td>\n",
              "      <td>0.188180</td>\n",
              "      <td>-0.247193</td>\n",
              "      <td>0.229408</td>\n",
              "      <td>0</td>\n",
              "      <td>29</td>\n",
              "      <td>...</td>\n",
              "      <td>0.374825</td>\n",
              "      <td>0.032127</td>\n",
              "      <td>0.244408</td>\n",
              "      <td>0.219232</td>\n",
              "      <td>-0.331382</td>\n",
              "      <td>0.149496</td>\n",
              "      <td>0.174035</td>\n",
              "      <td>0.303882</td>\n",
              "      <td>0.022939</td>\n",
              "      <td>-0.075000</td>\n",
              "    </tr>\n",
              "    <tr>\n",
              "      <th>3609</th>\n",
              "      <td>0.384518</td>\n",
              "      <td>0.776623</td>\n",
              "      <td>0.427785</td>\n",
              "      <td>0.013794</td>\n",
              "      <td>0.585592</td>\n",
              "      <td>0.652654</td>\n",
              "      <td>-0.145351</td>\n",
              "      <td>0.020899</td>\n",
              "      <td>0</td>\n",
              "      <td>30</td>\n",
              "      <td>...</td>\n",
              "      <td>0.361140</td>\n",
              "      <td>0.188180</td>\n",
              "      <td>0.032127</td>\n",
              "      <td>0.244408</td>\n",
              "      <td>-0.247193</td>\n",
              "      <td>-0.331382</td>\n",
              "      <td>0.149496</td>\n",
              "      <td>0.229408</td>\n",
              "      <td>0.303882</td>\n",
              "      <td>0.022939</td>\n",
              "    </tr>\n",
              "  </tbody>\n",
              "</table>\n",
              "<p>3610 rows × 34 columns</p>\n",
              "</div>\n",
              "      <button class=\"colab-df-convert\" onclick=\"convertToInteractive('df-fd3efd45-f179-46ab-9255-567d1fbfe609')\"\n",
              "              title=\"Convert this dataframe to an interactive table.\"\n",
              "              style=\"display:none;\">\n",
              "        \n",
              "  <svg xmlns=\"http://www.w3.org/2000/svg\" height=\"24px\"viewBox=\"0 0 24 24\"\n",
              "       width=\"24px\">\n",
              "    <path d=\"M0 0h24v24H0V0z\" fill=\"none\"/>\n",
              "    <path d=\"M18.56 5.44l.94 2.06.94-2.06 2.06-.94-2.06-.94-.94-2.06-.94 2.06-2.06.94zm-11 1L8.5 8.5l.94-2.06 2.06-.94-2.06-.94L8.5 2.5l-.94 2.06-2.06.94zm10 10l.94 2.06.94-2.06 2.06-.94-2.06-.94-.94-2.06-.94 2.06-2.06.94z\"/><path d=\"M17.41 7.96l-1.37-1.37c-.4-.4-.92-.59-1.43-.59-.52 0-1.04.2-1.43.59L10.3 9.45l-7.72 7.72c-.78.78-.78 2.05 0 2.83L4 21.41c.39.39.9.59 1.41.59.51 0 1.02-.2 1.41-.59l7.78-7.78 2.81-2.81c.8-.78.8-2.07 0-2.86zM5.41 20L4 18.59l7.72-7.72 1.47 1.35L5.41 20z\"/>\n",
              "  </svg>\n",
              "      </button>\n",
              "      \n",
              "  <style>\n",
              "    .colab-df-container {\n",
              "      display:flex;\n",
              "      flex-wrap:wrap;\n",
              "      gap: 12px;\n",
              "    }\n",
              "\n",
              "    .colab-df-convert {\n",
              "      background-color: #E8F0FE;\n",
              "      border: none;\n",
              "      border-radius: 50%;\n",
              "      cursor: pointer;\n",
              "      display: none;\n",
              "      fill: #1967D2;\n",
              "      height: 32px;\n",
              "      padding: 0 0 0 0;\n",
              "      width: 32px;\n",
              "    }\n",
              "\n",
              "    .colab-df-convert:hover {\n",
              "      background-color: #E2EBFA;\n",
              "      box-shadow: 0px 1px 2px rgba(60, 64, 67, 0.3), 0px 1px 3px 1px rgba(60, 64, 67, 0.15);\n",
              "      fill: #174EA6;\n",
              "    }\n",
              "\n",
              "    [theme=dark] .colab-df-convert {\n",
              "      background-color: #3B4455;\n",
              "      fill: #D2E3FC;\n",
              "    }\n",
              "\n",
              "    [theme=dark] .colab-df-convert:hover {\n",
              "      background-color: #434B5C;\n",
              "      box-shadow: 0px 1px 3px 1px rgba(0, 0, 0, 0.15);\n",
              "      filter: drop-shadow(0px 1px 2px rgba(0, 0, 0, 0.3));\n",
              "      fill: #FFFFFF;\n",
              "    }\n",
              "  </style>\n",
              "\n",
              "      <script>\n",
              "        const buttonEl =\n",
              "          document.querySelector('#df-fd3efd45-f179-46ab-9255-567d1fbfe609 button.colab-df-convert');\n",
              "        buttonEl.style.display =\n",
              "          google.colab.kernel.accessAllowed ? 'block' : 'none';\n",
              "\n",
              "        async function convertToInteractive(key) {\n",
              "          const element = document.querySelector('#df-fd3efd45-f179-46ab-9255-567d1fbfe609');\n",
              "          const dataTable =\n",
              "            await google.colab.kernel.invokeFunction('convertToInteractive',\n",
              "                                                     [key], {});\n",
              "          if (!dataTable) return;\n",
              "\n",
              "          const docLinkHtml = 'Like what you see? Visit the ' +\n",
              "            '<a target=\"_blank\" href=https://colab.research.google.com/notebooks/data_table.ipynb>data table notebook</a>'\n",
              "            + ' to learn more about interactive tables.';\n",
              "          element.innerHTML = '';\n",
              "          dataTable['output_type'] = 'display_data';\n",
              "          await google.colab.output.renderOutput(dataTable, element);\n",
              "          const docLink = document.createElement('div');\n",
              "          docLink.innerHTML = docLinkHtml;\n",
              "          element.appendChild(docLink);\n",
              "        }\n",
              "      </script>\n",
              "    </div>\n",
              "  </div>\n",
              "  "
            ],
            "text/plain": [
              "        h500_m     ivt_m    qv2m_m     slp_m     tpw_m     uqv_m     vqv_m  \\\n",
              "0     0.101096 -0.190439  0.411886 -0.273224  0.303355 -0.163311  0.322961   \n",
              "1    -0.077368 -0.128947  0.317478 -0.274342  0.250636 -0.104342  0.238004   \n",
              "2    -0.333794 -0.330526 -0.016974 -0.325768  0.018004 -0.087368  0.013048   \n",
              "3    -0.490461 -0.315219 -0.333487 -0.375833 -0.181184 -0.119781 -0.086184   \n",
              "4    -0.530000 -0.075943 -0.423838 -0.501952 -0.127149  0.031535  0.107346   \n",
              "...        ...       ...       ...       ...       ...       ...       ...   \n",
              "3605 -0.175351 -0.014452  0.167785 -0.391974  0.374825  0.219232  0.174035   \n",
              "3606 -0.092259  0.247281  0.184232 -0.134211  0.361140  0.244408  0.149496   \n",
              "3607  0.118947  0.122281  0.104649  0.306382  0.121842  0.032127 -0.331382   \n",
              "3608  0.397171  0.292785  0.161206  0.354846  0.254408  0.188180 -0.247193   \n",
              "3609  0.384518  0.776623  0.427785  0.013794  0.585592  0.652654 -0.145351   \n",
              "\n",
              "        w500_m  ex  day_of_year  ...   tpw_m-3   uqv_m-1   uqv_m-2   uqv_m-3  \\\n",
              "0    -0.190548   0           32  ...       NaN       NaN       NaN       NaN   \n",
              "1    -0.172237   0           33  ...       NaN -0.163311       NaN       NaN   \n",
              "2    -0.151075   0           34  ...       NaN -0.104342 -0.163311       NaN   \n",
              "3    -0.056316   0           35  ...  0.303355 -0.087368 -0.104342 -0.163311   \n",
              "4    -0.132105   0           36  ...  0.250636 -0.119781 -0.087368 -0.104342   \n",
              "...        ...  ..          ...  ...       ...       ...       ...       ...   \n",
              "3605 -0.075000   0           26  ...  0.089825  0.094978  0.083860  0.231491   \n",
              "3606  0.022939   0           27  ...  0.146754  0.219232  0.094978  0.083860   \n",
              "3607  0.303882   0           28  ...  0.143224  0.244408  0.219232  0.094978   \n",
              "3608  0.229408   0           29  ...  0.374825  0.032127  0.244408  0.219232   \n",
              "3609  0.020899   0           30  ...  0.361140  0.188180  0.032127  0.244408   \n",
              "\n",
              "       vqv_m-1   vqv_m-2   vqv_m-3  w500_m-1  w500_m-2  w500_m-3  \n",
              "0          NaN       NaN       NaN       NaN       NaN       NaN  \n",
              "1     0.322961       NaN       NaN -0.190548       NaN       NaN  \n",
              "2     0.238004  0.322961       NaN -0.172237 -0.190548       NaN  \n",
              "3     0.013048  0.238004  0.322961 -0.151075 -0.172237 -0.190548  \n",
              "4    -0.086184  0.013048  0.238004 -0.056316 -0.151075 -0.172237  \n",
              "...        ...       ...       ...       ...       ...       ...  \n",
              "3605 -0.006316  0.024803  0.313553  0.015614 -0.002149  0.040680  \n",
              "3606  0.174035 -0.006316  0.024803 -0.075000  0.015614 -0.002149  \n",
              "3607  0.149496  0.174035 -0.006316  0.022939 -0.075000  0.015614  \n",
              "3608 -0.331382  0.149496  0.174035  0.303882  0.022939 -0.075000  \n",
              "3609 -0.247193 -0.331382  0.149496  0.229408  0.303882  0.022939  \n",
              "\n",
              "[3610 rows x 34 columns]"
            ]
          },
          "metadata": {},
          "execution_count": 12
        }
      ],
      "source": [
        "df_no_std"
      ]
    },
    {
      "cell_type": "code",
      "execution_count": null,
      "metadata": {
        "id": "m4fno2P0sW5C"
      },
      "outputs": [],
      "source": [
        "df_no_std = df_no_std.drop([df_no_std.index[0] , df_no_std.index[1], df_no_std.index[2]])"
      ]
    },
    {
      "cell_type": "code",
      "execution_count": null,
      "metadata": {
        "colab": {
          "base_uri": "https://localhost:8080/",
          "height": 505
        },
        "outputId": "dbd85350-c437-414f-bad7-db80406fa3dc",
        "id": "w5YlEjJTsW5C"
      },
      "outputs": [
        {
          "output_type": "execute_result",
          "data": {
            "text/html": [
              "\n",
              "  <div id=\"df-b7662e41-4809-4cb9-abe3-5092040ba3d3\">\n",
              "    <div class=\"colab-df-container\">\n",
              "      <div>\n",
              "<style scoped>\n",
              "    .dataframe tbody tr th:only-of-type {\n",
              "        vertical-align: middle;\n",
              "    }\n",
              "\n",
              "    .dataframe tbody tr th {\n",
              "        vertical-align: top;\n",
              "    }\n",
              "\n",
              "    .dataframe thead th {\n",
              "        text-align: right;\n",
              "    }\n",
              "</style>\n",
              "<table border=\"1\" class=\"dataframe\">\n",
              "  <thead>\n",
              "    <tr style=\"text-align: right;\">\n",
              "      <th></th>\n",
              "      <th>h500_m</th>\n",
              "      <th>ivt_m</th>\n",
              "      <th>qv2m_m</th>\n",
              "      <th>slp_m</th>\n",
              "      <th>tpw_m</th>\n",
              "      <th>uqv_m</th>\n",
              "      <th>vqv_m</th>\n",
              "      <th>w500_m</th>\n",
              "      <th>ex</th>\n",
              "      <th>day_of_year</th>\n",
              "      <th>...</th>\n",
              "      <th>tpw_m-3</th>\n",
              "      <th>uqv_m-1</th>\n",
              "      <th>uqv_m-2</th>\n",
              "      <th>uqv_m-3</th>\n",
              "      <th>vqv_m-1</th>\n",
              "      <th>vqv_m-2</th>\n",
              "      <th>vqv_m-3</th>\n",
              "      <th>w500_m-1</th>\n",
              "      <th>w500_m-2</th>\n",
              "      <th>w500_m-3</th>\n",
              "    </tr>\n",
              "  </thead>\n",
              "  <tbody>\n",
              "    <tr>\n",
              "      <th>3</th>\n",
              "      <td>-0.490461</td>\n",
              "      <td>-0.315219</td>\n",
              "      <td>-0.333487</td>\n",
              "      <td>-0.375833</td>\n",
              "      <td>-0.181184</td>\n",
              "      <td>-0.119781</td>\n",
              "      <td>-0.086184</td>\n",
              "      <td>-0.056316</td>\n",
              "      <td>0</td>\n",
              "      <td>35</td>\n",
              "      <td>...</td>\n",
              "      <td>0.303355</td>\n",
              "      <td>-0.087368</td>\n",
              "      <td>-0.104342</td>\n",
              "      <td>-0.163311</td>\n",
              "      <td>0.013048</td>\n",
              "      <td>0.238004</td>\n",
              "      <td>0.322961</td>\n",
              "      <td>-0.151075</td>\n",
              "      <td>-0.172237</td>\n",
              "      <td>-0.190548</td>\n",
              "    </tr>\n",
              "    <tr>\n",
              "      <th>4</th>\n",
              "      <td>-0.530000</td>\n",
              "      <td>-0.075943</td>\n",
              "      <td>-0.423838</td>\n",
              "      <td>-0.501952</td>\n",
              "      <td>-0.127149</td>\n",
              "      <td>0.031535</td>\n",
              "      <td>0.107346</td>\n",
              "      <td>-0.132105</td>\n",
              "      <td>0</td>\n",
              "      <td>36</td>\n",
              "      <td>...</td>\n",
              "      <td>0.250636</td>\n",
              "      <td>-0.119781</td>\n",
              "      <td>-0.087368</td>\n",
              "      <td>-0.104342</td>\n",
              "      <td>-0.086184</td>\n",
              "      <td>0.013048</td>\n",
              "      <td>0.238004</td>\n",
              "      <td>-0.056316</td>\n",
              "      <td>-0.151075</td>\n",
              "      <td>-0.172237</td>\n",
              "    </tr>\n",
              "    <tr>\n",
              "      <th>5</th>\n",
              "      <td>-0.447346</td>\n",
              "      <td>-0.014737</td>\n",
              "      <td>-0.298947</td>\n",
              "      <td>-0.293465</td>\n",
              "      <td>-0.122763</td>\n",
              "      <td>0.056864</td>\n",
              "      <td>0.028706</td>\n",
              "      <td>-0.131798</td>\n",
              "      <td>0</td>\n",
              "      <td>37</td>\n",
              "      <td>...</td>\n",
              "      <td>0.018004</td>\n",
              "      <td>0.031535</td>\n",
              "      <td>-0.119781</td>\n",
              "      <td>-0.087368</td>\n",
              "      <td>0.107346</td>\n",
              "      <td>-0.086184</td>\n",
              "      <td>0.013048</td>\n",
              "      <td>-0.132105</td>\n",
              "      <td>-0.056316</td>\n",
              "      <td>-0.151075</td>\n",
              "    </tr>\n",
              "    <tr>\n",
              "      <th>6</th>\n",
              "      <td>-0.668465</td>\n",
              "      <td>-0.103816</td>\n",
              "      <td>-0.161798</td>\n",
              "      <td>-0.213092</td>\n",
              "      <td>-0.072785</td>\n",
              "      <td>0.136096</td>\n",
              "      <td>-0.137785</td>\n",
              "      <td>-0.129583</td>\n",
              "      <td>0</td>\n",
              "      <td>38</td>\n",
              "      <td>...</td>\n",
              "      <td>-0.181184</td>\n",
              "      <td>0.056864</td>\n",
              "      <td>0.031535</td>\n",
              "      <td>-0.119781</td>\n",
              "      <td>0.028706</td>\n",
              "      <td>0.107346</td>\n",
              "      <td>-0.086184</td>\n",
              "      <td>-0.131798</td>\n",
              "      <td>-0.132105</td>\n",
              "      <td>-0.056316</td>\n",
              "    </tr>\n",
              "    <tr>\n",
              "      <th>7</th>\n",
              "      <td>-0.872390</td>\n",
              "      <td>-0.209868</td>\n",
              "      <td>-0.179035</td>\n",
              "      <td>-0.162237</td>\n",
              "      <td>-0.150373</td>\n",
              "      <td>0.186776</td>\n",
              "      <td>-0.153596</td>\n",
              "      <td>0.142478</td>\n",
              "      <td>0</td>\n",
              "      <td>39</td>\n",
              "      <td>...</td>\n",
              "      <td>-0.127149</td>\n",
              "      <td>0.136096</td>\n",
              "      <td>0.056864</td>\n",
              "      <td>0.031535</td>\n",
              "      <td>-0.137785</td>\n",
              "      <td>0.028706</td>\n",
              "      <td>0.107346</td>\n",
              "      <td>-0.129583</td>\n",
              "      <td>-0.131798</td>\n",
              "      <td>-0.132105</td>\n",
              "    </tr>\n",
              "    <tr>\n",
              "      <th>...</th>\n",
              "      <td>...</td>\n",
              "      <td>...</td>\n",
              "      <td>...</td>\n",
              "      <td>...</td>\n",
              "      <td>...</td>\n",
              "      <td>...</td>\n",
              "      <td>...</td>\n",
              "      <td>...</td>\n",
              "      <td>...</td>\n",
              "      <td>...</td>\n",
              "      <td>...</td>\n",
              "      <td>...</td>\n",
              "      <td>...</td>\n",
              "      <td>...</td>\n",
              "      <td>...</td>\n",
              "      <td>...</td>\n",
              "      <td>...</td>\n",
              "      <td>...</td>\n",
              "      <td>...</td>\n",
              "      <td>...</td>\n",
              "      <td>...</td>\n",
              "    </tr>\n",
              "    <tr>\n",
              "      <th>3605</th>\n",
              "      <td>-0.175351</td>\n",
              "      <td>-0.014452</td>\n",
              "      <td>0.167785</td>\n",
              "      <td>-0.391974</td>\n",
              "      <td>0.374825</td>\n",
              "      <td>0.219232</td>\n",
              "      <td>0.174035</td>\n",
              "      <td>-0.075000</td>\n",
              "      <td>0</td>\n",
              "      <td>26</td>\n",
              "      <td>...</td>\n",
              "      <td>0.089825</td>\n",
              "      <td>0.094978</td>\n",
              "      <td>0.083860</td>\n",
              "      <td>0.231491</td>\n",
              "      <td>-0.006316</td>\n",
              "      <td>0.024803</td>\n",
              "      <td>0.313553</td>\n",
              "      <td>0.015614</td>\n",
              "      <td>-0.002149</td>\n",
              "      <td>0.040680</td>\n",
              "    </tr>\n",
              "    <tr>\n",
              "      <th>3606</th>\n",
              "      <td>-0.092259</td>\n",
              "      <td>0.247281</td>\n",
              "      <td>0.184232</td>\n",
              "      <td>-0.134211</td>\n",
              "      <td>0.361140</td>\n",
              "      <td>0.244408</td>\n",
              "      <td>0.149496</td>\n",
              "      <td>0.022939</td>\n",
              "      <td>0</td>\n",
              "      <td>27</td>\n",
              "      <td>...</td>\n",
              "      <td>0.146754</td>\n",
              "      <td>0.219232</td>\n",
              "      <td>0.094978</td>\n",
              "      <td>0.083860</td>\n",
              "      <td>0.174035</td>\n",
              "      <td>-0.006316</td>\n",
              "      <td>0.024803</td>\n",
              "      <td>-0.075000</td>\n",
              "      <td>0.015614</td>\n",
              "      <td>-0.002149</td>\n",
              "    </tr>\n",
              "    <tr>\n",
              "      <th>3607</th>\n",
              "      <td>0.118947</td>\n",
              "      <td>0.122281</td>\n",
              "      <td>0.104649</td>\n",
              "      <td>0.306382</td>\n",
              "      <td>0.121842</td>\n",
              "      <td>0.032127</td>\n",
              "      <td>-0.331382</td>\n",
              "      <td>0.303882</td>\n",
              "      <td>0</td>\n",
              "      <td>28</td>\n",
              "      <td>...</td>\n",
              "      <td>0.143224</td>\n",
              "      <td>0.244408</td>\n",
              "      <td>0.219232</td>\n",
              "      <td>0.094978</td>\n",
              "      <td>0.149496</td>\n",
              "      <td>0.174035</td>\n",
              "      <td>-0.006316</td>\n",
              "      <td>0.022939</td>\n",
              "      <td>-0.075000</td>\n",
              "      <td>0.015614</td>\n",
              "    </tr>\n",
              "    <tr>\n",
              "      <th>3608</th>\n",
              "      <td>0.397171</td>\n",
              "      <td>0.292785</td>\n",
              "      <td>0.161206</td>\n",
              "      <td>0.354846</td>\n",
              "      <td>0.254408</td>\n",
              "      <td>0.188180</td>\n",
              "      <td>-0.247193</td>\n",
              "      <td>0.229408</td>\n",
              "      <td>0</td>\n",
              "      <td>29</td>\n",
              "      <td>...</td>\n",
              "      <td>0.374825</td>\n",
              "      <td>0.032127</td>\n",
              "      <td>0.244408</td>\n",
              "      <td>0.219232</td>\n",
              "      <td>-0.331382</td>\n",
              "      <td>0.149496</td>\n",
              "      <td>0.174035</td>\n",
              "      <td>0.303882</td>\n",
              "      <td>0.022939</td>\n",
              "      <td>-0.075000</td>\n",
              "    </tr>\n",
              "    <tr>\n",
              "      <th>3609</th>\n",
              "      <td>0.384518</td>\n",
              "      <td>0.776623</td>\n",
              "      <td>0.427785</td>\n",
              "      <td>0.013794</td>\n",
              "      <td>0.585592</td>\n",
              "      <td>0.652654</td>\n",
              "      <td>-0.145351</td>\n",
              "      <td>0.020899</td>\n",
              "      <td>0</td>\n",
              "      <td>30</td>\n",
              "      <td>...</td>\n",
              "      <td>0.361140</td>\n",
              "      <td>0.188180</td>\n",
              "      <td>0.032127</td>\n",
              "      <td>0.244408</td>\n",
              "      <td>-0.247193</td>\n",
              "      <td>-0.331382</td>\n",
              "      <td>0.149496</td>\n",
              "      <td>0.229408</td>\n",
              "      <td>0.303882</td>\n",
              "      <td>0.022939</td>\n",
              "    </tr>\n",
              "  </tbody>\n",
              "</table>\n",
              "<p>3607 rows × 34 columns</p>\n",
              "</div>\n",
              "      <button class=\"colab-df-convert\" onclick=\"convertToInteractive('df-b7662e41-4809-4cb9-abe3-5092040ba3d3')\"\n",
              "              title=\"Convert this dataframe to an interactive table.\"\n",
              "              style=\"display:none;\">\n",
              "        \n",
              "  <svg xmlns=\"http://www.w3.org/2000/svg\" height=\"24px\"viewBox=\"0 0 24 24\"\n",
              "       width=\"24px\">\n",
              "    <path d=\"M0 0h24v24H0V0z\" fill=\"none\"/>\n",
              "    <path d=\"M18.56 5.44l.94 2.06.94-2.06 2.06-.94-2.06-.94-.94-2.06-.94 2.06-2.06.94zm-11 1L8.5 8.5l.94-2.06 2.06-.94-2.06-.94L8.5 2.5l-.94 2.06-2.06.94zm10 10l.94 2.06.94-2.06 2.06-.94-2.06-.94-.94-2.06-.94 2.06-2.06.94z\"/><path d=\"M17.41 7.96l-1.37-1.37c-.4-.4-.92-.59-1.43-.59-.52 0-1.04.2-1.43.59L10.3 9.45l-7.72 7.72c-.78.78-.78 2.05 0 2.83L4 21.41c.39.39.9.59 1.41.59.51 0 1.02-.2 1.41-.59l7.78-7.78 2.81-2.81c.8-.78.8-2.07 0-2.86zM5.41 20L4 18.59l7.72-7.72 1.47 1.35L5.41 20z\"/>\n",
              "  </svg>\n",
              "      </button>\n",
              "      \n",
              "  <style>\n",
              "    .colab-df-container {\n",
              "      display:flex;\n",
              "      flex-wrap:wrap;\n",
              "      gap: 12px;\n",
              "    }\n",
              "\n",
              "    .colab-df-convert {\n",
              "      background-color: #E8F0FE;\n",
              "      border: none;\n",
              "      border-radius: 50%;\n",
              "      cursor: pointer;\n",
              "      display: none;\n",
              "      fill: #1967D2;\n",
              "      height: 32px;\n",
              "      padding: 0 0 0 0;\n",
              "      width: 32px;\n",
              "    }\n",
              "\n",
              "    .colab-df-convert:hover {\n",
              "      background-color: #E2EBFA;\n",
              "      box-shadow: 0px 1px 2px rgba(60, 64, 67, 0.3), 0px 1px 3px 1px rgba(60, 64, 67, 0.15);\n",
              "      fill: #174EA6;\n",
              "    }\n",
              "\n",
              "    [theme=dark] .colab-df-convert {\n",
              "      background-color: #3B4455;\n",
              "      fill: #D2E3FC;\n",
              "    }\n",
              "\n",
              "    [theme=dark] .colab-df-convert:hover {\n",
              "      background-color: #434B5C;\n",
              "      box-shadow: 0px 1px 3px 1px rgba(0, 0, 0, 0.15);\n",
              "      filter: drop-shadow(0px 1px 2px rgba(0, 0, 0, 0.3));\n",
              "      fill: #FFFFFF;\n",
              "    }\n",
              "  </style>\n",
              "\n",
              "      <script>\n",
              "        const buttonEl =\n",
              "          document.querySelector('#df-b7662e41-4809-4cb9-abe3-5092040ba3d3 button.colab-df-convert');\n",
              "        buttonEl.style.display =\n",
              "          google.colab.kernel.accessAllowed ? 'block' : 'none';\n",
              "\n",
              "        async function convertToInteractive(key) {\n",
              "          const element = document.querySelector('#df-b7662e41-4809-4cb9-abe3-5092040ba3d3');\n",
              "          const dataTable =\n",
              "            await google.colab.kernel.invokeFunction('convertToInteractive',\n",
              "                                                     [key], {});\n",
              "          if (!dataTable) return;\n",
              "\n",
              "          const docLinkHtml = 'Like what you see? Visit the ' +\n",
              "            '<a target=\"_blank\" href=https://colab.research.google.com/notebooks/data_table.ipynb>data table notebook</a>'\n",
              "            + ' to learn more about interactive tables.';\n",
              "          element.innerHTML = '';\n",
              "          dataTable['output_type'] = 'display_data';\n",
              "          await google.colab.output.renderOutput(dataTable, element);\n",
              "          const docLink = document.createElement('div');\n",
              "          docLink.innerHTML = docLinkHtml;\n",
              "          element.appendChild(docLink);\n",
              "        }\n",
              "      </script>\n",
              "    </div>\n",
              "  </div>\n",
              "  "
            ],
            "text/plain": [
              "        h500_m     ivt_m    qv2m_m     slp_m     tpw_m     uqv_m     vqv_m  \\\n",
              "3    -0.490461 -0.315219 -0.333487 -0.375833 -0.181184 -0.119781 -0.086184   \n",
              "4    -0.530000 -0.075943 -0.423838 -0.501952 -0.127149  0.031535  0.107346   \n",
              "5    -0.447346 -0.014737 -0.298947 -0.293465 -0.122763  0.056864  0.028706   \n",
              "6    -0.668465 -0.103816 -0.161798 -0.213092 -0.072785  0.136096 -0.137785   \n",
              "7    -0.872390 -0.209868 -0.179035 -0.162237 -0.150373  0.186776 -0.153596   \n",
              "...        ...       ...       ...       ...       ...       ...       ...   \n",
              "3605 -0.175351 -0.014452  0.167785 -0.391974  0.374825  0.219232  0.174035   \n",
              "3606 -0.092259  0.247281  0.184232 -0.134211  0.361140  0.244408  0.149496   \n",
              "3607  0.118947  0.122281  0.104649  0.306382  0.121842  0.032127 -0.331382   \n",
              "3608  0.397171  0.292785  0.161206  0.354846  0.254408  0.188180 -0.247193   \n",
              "3609  0.384518  0.776623  0.427785  0.013794  0.585592  0.652654 -0.145351   \n",
              "\n",
              "        w500_m  ex  day_of_year  ...   tpw_m-3   uqv_m-1   uqv_m-2   uqv_m-3  \\\n",
              "3    -0.056316   0           35  ...  0.303355 -0.087368 -0.104342 -0.163311   \n",
              "4    -0.132105   0           36  ...  0.250636 -0.119781 -0.087368 -0.104342   \n",
              "5    -0.131798   0           37  ...  0.018004  0.031535 -0.119781 -0.087368   \n",
              "6    -0.129583   0           38  ... -0.181184  0.056864  0.031535 -0.119781   \n",
              "7     0.142478   0           39  ... -0.127149  0.136096  0.056864  0.031535   \n",
              "...        ...  ..          ...  ...       ...       ...       ...       ...   \n",
              "3605 -0.075000   0           26  ...  0.089825  0.094978  0.083860  0.231491   \n",
              "3606  0.022939   0           27  ...  0.146754  0.219232  0.094978  0.083860   \n",
              "3607  0.303882   0           28  ...  0.143224  0.244408  0.219232  0.094978   \n",
              "3608  0.229408   0           29  ...  0.374825  0.032127  0.244408  0.219232   \n",
              "3609  0.020899   0           30  ...  0.361140  0.188180  0.032127  0.244408   \n",
              "\n",
              "       vqv_m-1   vqv_m-2   vqv_m-3  w500_m-1  w500_m-2  w500_m-3  \n",
              "3     0.013048  0.238004  0.322961 -0.151075 -0.172237 -0.190548  \n",
              "4    -0.086184  0.013048  0.238004 -0.056316 -0.151075 -0.172237  \n",
              "5     0.107346 -0.086184  0.013048 -0.132105 -0.056316 -0.151075  \n",
              "6     0.028706  0.107346 -0.086184 -0.131798 -0.132105 -0.056316  \n",
              "7    -0.137785  0.028706  0.107346 -0.129583 -0.131798 -0.132105  \n",
              "...        ...       ...       ...       ...       ...       ...  \n",
              "3605 -0.006316  0.024803  0.313553  0.015614 -0.002149  0.040680  \n",
              "3606  0.174035 -0.006316  0.024803 -0.075000  0.015614 -0.002149  \n",
              "3607  0.149496  0.174035 -0.006316  0.022939 -0.075000  0.015614  \n",
              "3608 -0.331382  0.149496  0.174035  0.303882  0.022939 -0.075000  \n",
              "3609 -0.247193 -0.331382  0.149496  0.229408  0.303882  0.022939  \n",
              "\n",
              "[3607 rows x 34 columns]"
            ]
          },
          "metadata": {},
          "execution_count": 14
        }
      ],
      "source": [
        "df_no_std"
      ]
    },
    {
      "cell_type": "code",
      "execution_count": null,
      "metadata": {
        "id": "PaA6kd7IsW5C"
      },
      "outputs": [],
      "source": [
        "def scores(y_actual, y_predicted):\n",
        "    print(\"Accuracy = \" , accuracy_score(y_actual, y_predicted))\n",
        "    print(\"Precision = \" ,precision_score(y_actual, y_predicted))\n",
        "    print(\"Recall = \" ,recall_score(y_actual, y_predicted))\n",
        "    print(\"F1 Score = \" ,f1_score(y_actual, y_predicted))\n",
        "\n",
        "from sklearn.metrics import confusion_matrix\n",
        "\n",
        "def conf(y_test, y_pred):\n",
        "  return confusion_matrix(y_test, y_pred)"
      ]
    },
    {
      "cell_type": "code",
      "execution_count": null,
      "metadata": {
        "id": "CrG-K5zvsW5D"
      },
      "outputs": [],
      "source": [
        "X_train, X_test, y_train, y_test = train_test_split(df_no_std.drop([\"ex\"], axis=1), df_no_std[\"ex\"], stratify = df_no_std[\"ex\"], test_size=0.25)"
      ]
    },
    {
      "cell_type": "code",
      "execution_count": null,
      "metadata": {
        "id": "SFZqMelhsW5D"
      },
      "outputs": [],
      "source": [
        "oversample = SMOTE(k_neighbors = 7)\n",
        "X_train_smote, y_train_smote = oversample.fit_resample(X_train, y_train)"
      ]
    },
    {
      "cell_type": "code",
      "execution_count": null,
      "metadata": {
        "colab": {
          "base_uri": "https://localhost:8080/"
        },
        "outputId": "e79dfeeb-1524-4fc0-ae25-5585041b78d9",
        "id": "jguc-ClusW5D"
      },
      "outputs": [
        {
          "output_type": "stream",
          "name": "stdout",
          "text": [
            "Requirement already satisfied: catboost in /usr/local/lib/python3.7/dist-packages (1.0.4)\n",
            "Requirement already satisfied: matplotlib in /usr/local/lib/python3.7/dist-packages (from catboost) (3.2.2)\n",
            "Requirement already satisfied: graphviz in /usr/local/lib/python3.7/dist-packages (from catboost) (0.10.1)\n",
            "Requirement already satisfied: pandas>=0.24.0 in /usr/local/lib/python3.7/dist-packages (from catboost) (1.3.5)\n",
            "Requirement already satisfied: scipy in /usr/local/lib/python3.7/dist-packages (from catboost) (1.4.1)\n",
            "Requirement already satisfied: six in /usr/local/lib/python3.7/dist-packages (from catboost) (1.15.0)\n",
            "Requirement already satisfied: numpy>=1.16.0 in /usr/local/lib/python3.7/dist-packages (from catboost) (1.21.5)\n",
            "Requirement already satisfied: plotly in /usr/local/lib/python3.7/dist-packages (from catboost) (5.5.0)\n",
            "Requirement already satisfied: python-dateutil>=2.7.3 in /usr/local/lib/python3.7/dist-packages (from pandas>=0.24.0->catboost) (2.8.2)\n",
            "Requirement already satisfied: pytz>=2017.3 in /usr/local/lib/python3.7/dist-packages (from pandas>=0.24.0->catboost) (2018.9)\n",
            "Requirement already satisfied: cycler>=0.10 in /usr/local/lib/python3.7/dist-packages (from matplotlib->catboost) (0.11.0)\n",
            "Requirement already satisfied: pyparsing!=2.0.4,!=2.1.2,!=2.1.6,>=2.0.1 in /usr/local/lib/python3.7/dist-packages (from matplotlib->catboost) (3.0.7)\n",
            "Requirement already satisfied: kiwisolver>=1.0.1 in /usr/local/lib/python3.7/dist-packages (from matplotlib->catboost) (1.3.2)\n",
            "Requirement already satisfied: tenacity>=6.2.0 in /usr/local/lib/python3.7/dist-packages (from plotly->catboost) (8.0.1)\n"
          ]
        }
      ],
      "source": [
        "!pip install catboost"
      ]
    },
    {
      "cell_type": "code",
      "execution_count": null,
      "metadata": {
        "id": "BLECiwMgsW5D"
      },
      "outputs": [],
      "source": [
        "from catboost import CatBoostClassifier"
      ]
    },
    {
      "cell_type": "code",
      "execution_count": null,
      "metadata": {
        "colab": {
          "base_uri": "https://localhost:8080/"
        },
        "outputId": "cfb6e87c-6f7b-4a7b-ac75-048e8752d20c",
        "id": "IjXyYyYpsW5D"
      },
      "outputs": [
        {
          "output_type": "execute_result",
          "data": {
            "text/plain": [
              "<catboost.core.CatBoostClassifier at 0x7f9e76e6a650>"
            ]
          },
          "metadata": {},
          "execution_count": 37
        }
      ],
      "source": [
        "model = CatBoostClassifier(verbose=0)\n",
        "model.fit(X_train_smote, y_train_smote)"
      ]
    },
    {
      "cell_type": "code",
      "execution_count": null,
      "metadata": {
        "colab": {
          "base_uri": "https://localhost:8080/"
        },
        "outputId": "455891f9-ae52-418d-bafd-6a7c03ed415f",
        "id": "L7-sggffsW5D"
      },
      "outputs": [
        {
          "output_type": "stream",
          "name": "stdout",
          "text": [
            "Accuracy =  0.9478935698447893\n",
            "Precision =  0.16666666666666666\n",
            "Recall =  0.3684210526315789\n",
            "F1 Score =  0.22950819672131145\n"
          ]
        }
      ],
      "source": [
        "scores(y_test, model.predict(X_test))"
      ]
    },
    {
      "cell_type": "code",
      "execution_count": null,
      "metadata": {
        "colab": {
          "base_uri": "https://localhost:8080/"
        },
        "outputId": "6556a499-de7e-4387-d59d-2c32cf33d9c9",
        "id": "q8ZlsntWsW5D"
      },
      "outputs": [
        {
          "output_type": "execute_result",
          "data": {
            "text/plain": [
              "array([[848,  35],\n",
              "       [ 12,   7]])"
            ]
          },
          "metadata": {},
          "execution_count": 39
        }
      ],
      "source": [
        "conf(y_test, model.predict(X_test))"
      ]
    },
    {
      "cell_type": "code",
      "source": [
        "from lightgbm import LGBMClassifier"
      ],
      "metadata": {
        "id": "qviyC7stsW5D"
      },
      "execution_count": null,
      "outputs": []
    },
    {
      "cell_type": "code",
      "execution_count": null,
      "metadata": {
        "colab": {
          "base_uri": "https://localhost:8080/"
        },
        "outputId": "d629329d-dede-4b9d-a878-eaae7f606097",
        "id": "ctJ94FEGsW5D"
      },
      "outputs": [
        {
          "output_type": "execute_result",
          "data": {
            "text/plain": [
              "RandomizedSearchCV(estimator=LGBMClassifier(verbose=0), n_iter=25, n_jobs=-1,\n",
              "                   param_distributions={'learning_rate': array([0.001     , 0.00148718, 0.00197436, 0.00246154, 0.00294872,\n",
              "       0.0034359 , 0.00392308, 0.00441026, 0.00489744, 0.00538462,\n",
              "       0.00587179, 0.00635897, 0.00684615, 0.00733333, 0.00782051,\n",
              "       0.00830769, 0.00879487, 0.00928205, 0.00976923, 0.01025641,\n",
              "       0.01074359, 0.0112...\n",
              "       1.26896100e-03, 1.74332882e-03, 2.39502662e-03, 3.29034456e-03,\n",
              "       4.52035366e-03, 6.21016942e-03, 8.53167852e-03, 1.17210230e-02,\n",
              "       1.61026203e-02, 2.21221629e-02, 3.03919538e-02, 4.17531894e-02,\n",
              "       5.73615251e-02, 7.88046282e-02, 1.08263673e-01, 1.48735211e-01,\n",
              "       2.04335972e-01, 2.80721620e-01, 3.85662042e-01, 5.29831691e-01,\n",
              "       7.27895384e-01, 1.00000000e+00])},\n",
              "                   scoring='recall')"
            ]
          },
          "metadata": {},
          "execution_count": 41
        }
      ],
      "source": [
        "search_cat = RandomizedSearchCV(\n",
        "      estimator=LGBMClassifier(verbose=0),\n",
        "      param_distributions={\n",
        "          \"reg_lambda\": np.logspace(-4, 0, 30),\n",
        "          \"n_estimators\" : np.arange(450, 1000, 20),\n",
        "          \"learning_rate\" : np.linspace(0.001, 0.02, 40),\n",
        "          \"max_depth\": np.arange(4, 20)\n",
        "      },\n",
        "      scoring='recall',\n",
        "      n_iter=25,\n",
        "      n_jobs=-1\n",
        ")\n",
        "search_cat.fit(X_train_smote, y_train_smote)"
      ]
    },
    {
      "cell_type": "code",
      "execution_count": null,
      "metadata": {
        "colab": {
          "base_uri": "https://localhost:8080/"
        },
        "outputId": "4e5b141a-2af2-4d69-ddea-c7356b426e45",
        "id": "2ASEYlllsW5E"
      },
      "outputs": [
        {
          "output_type": "execute_result",
          "data": {
            "text/plain": [
              "{'learning_rate': 0.016102564102564103,\n",
              " 'max_depth': 6,\n",
              " 'n_estimators': 830,\n",
              " 'reg_lambda': 0.0006723357536499335}"
            ]
          },
          "metadata": {},
          "execution_count": 42
        }
      ],
      "source": [
        "search_cat.best_params_"
      ]
    },
    {
      "cell_type": "code",
      "execution_count": null,
      "metadata": {
        "colab": {
          "base_uri": "https://localhost:8080/"
        },
        "outputId": "fe51abd8-2d74-448b-a822-05620c503246",
        "id": "RmFomgGxsW5E"
      },
      "outputs": [
        {
          "output_type": "execute_result",
          "data": {
            "text/plain": [
              "array([[851,  32],\n",
              "       [ 12,   7]])"
            ]
          },
          "metadata": {},
          "execution_count": 43
        }
      ],
      "source": [
        "conf(y_test, search_cat.predict(X_test))"
      ]
    },
    {
      "cell_type": "markdown",
      "metadata": {
        "id": "SE8StinssW5E"
      },
      "source": [
        "# SVM"
      ]
    },
    {
      "cell_type": "markdown",
      "metadata": {
        "id": "DVXGww97sW5E"
      },
      "source": [
        "kernel = linear"
      ]
    },
    {
      "cell_type": "code",
      "execution_count": null,
      "metadata": {
        "colab": {
          "base_uri": "https://localhost:8080/"
        },
        "outputId": "cf666cec-5b1e-4203-dca0-0a0b23a0932b",
        "id": "7OBIGr15sW5E"
      },
      "outputs": [
        {
          "data": {
            "text/plain": [
              "GridSearchCV(cv=5, estimator=SVC(kernel='linear', probability=True),\n",
              "             param_grid={'C': [0.0001, 0.001, 0.01, 0.1, 1, 10]},\n",
              "             scoring=make_scorer(average_precision_score))"
            ]
          },
          "execution_count": 71,
          "metadata": {},
          "output_type": "execute_result"
        }
      ],
      "source": [
        "svc_l = SVC(kernel='linear', probability=True)\n",
        "parameters = {'C': [0.0001, 0.001, 0.01, 0.1, 1, 10]}\n",
        "\n",
        "score = make_scorer(average_precision_score)\n",
        "\n",
        "clf_l = GridSearchCV(svc_l, parameters, cv=5, scoring=score)\n",
        "clf_l.fit(X_train, y_train)"
      ]
    },
    {
      "cell_type": "markdown",
      "metadata": {
        "id": "1jKHo0CYsW5E"
      },
      "source": [
        "kernel = rbf"
      ]
    },
    {
      "cell_type": "code",
      "execution_count": null,
      "metadata": {
        "colab": {
          "base_uri": "https://localhost:8080/"
        },
        "outputId": "6813d632-5d5e-457b-f3e6-f5f7bff7fad6",
        "id": "lo93kX0-sW5E"
      },
      "outputs": [
        {
          "data": {
            "text/plain": [
              "GridSearchCV(cv=5, estimator=SVC(probability=True),\n",
              "             param_grid={'C': [0.0001, 0.001, 0.01, 0.1, 1, 10]},\n",
              "             scoring=make_scorer(average_precision_score))"
            ]
          },
          "execution_count": 72,
          "metadata": {},
          "output_type": "execute_result"
        }
      ],
      "source": [
        "svc_r = SVC(kernel='rbf', probability=True)\n",
        "parameters = {'C': [0.0001, 0.001, 0.01, 0.1, 1, 10]}\n",
        "\n",
        "score = make_scorer(average_precision_score)\n",
        "\n",
        "clf_r = GridSearchCV(svc_r, parameters, cv=5, scoring=score)\n",
        "clf_r.fit(X_train, y_train)"
      ]
    },
    {
      "cell_type": "code",
      "execution_count": null,
      "metadata": {
        "id": "HUMWHX-3sW5E"
      },
      "outputs": [],
      "source": [
        "y_pred_l = clf_l.predict(X_test)\n",
        "y_pred_r = clf_r.predict(X_test)"
      ]
    },
    {
      "cell_type": "code",
      "execution_count": null,
      "metadata": {
        "colab": {
          "base_uri": "https://localhost:8080/"
        },
        "outputId": "d0d5fb37-6dd7-4b0f-dbdd-e8107cef6211",
        "id": "ZUA43Rv7sW5G"
      },
      "outputs": [
        {
          "name": "stdout",
          "output_type": "stream",
          "text": [
            "Accuracy =  0.9722991689750693\n",
            "Precision =  0.0\n",
            "Recall =  0.0\n",
            "F1 Score =  0.0\n"
          ]
        },
        {
          "name": "stderr",
          "output_type": "stream",
          "text": [
            "/usr/local/lib/python3.7/dist-packages/sklearn/metrics/_classification.py:1318: UndefinedMetricWarning: Precision is ill-defined and being set to 0.0 due to no predicted samples. Use `zero_division` parameter to control this behavior.\n",
            "  _warn_prf(average, modifier, msg_start, len(result))\n"
          ]
        }
      ],
      "source": [
        "scores(y_test, y_pred_l)"
      ]
    },
    {
      "cell_type": "code",
      "execution_count": null,
      "metadata": {
        "colab": {
          "base_uri": "https://localhost:8080/",
          "height": 286
        },
        "outputId": "98cf4ec8-ad27-4b7d-972e-cedc0ace26e6",
        "id": "ZrThOhE4sW5G"
      },
      "outputs": [
        {
          "data": {
            "image/png": "[encoded data removed]",
            "text/plain": [
              "<Figure size 432x288 with 1 Axes>"
            ]
          },
          "metadata": {},
          "output_type": "display_data"
        }
      ],
      "source": [
        "auc_roc_curve(clf_l, X_test)"
      ]
    },
    {
      "cell_type": "code",
      "execution_count": null,
      "metadata": {
        "colab": {
          "base_uri": "https://localhost:8080/"
        },
        "outputId": "2640fa49-730f-426f-dcc8-0064c5f49f76",
        "id": "Y7sCEdpEsW5G"
      },
      "outputs": [
        {
          "name": "stdout",
          "output_type": "stream",
          "text": [
            "Accuracy =  0.971375807940905\n",
            "Precision =  0.0\n",
            "Recall =  0.0\n",
            "F1 Score =  0.0\n"
          ]
        }
      ],
      "source": [
        "scores(y_test, y_pred_r)"
      ]
    },
    {
      "cell_type": "code",
      "execution_count": null,
      "metadata": {
        "colab": {
          "base_uri": "https://localhost:8080/",
          "height": 286
        },
        "outputId": "96fea012-f0d8-42ba-8c9a-f9cf80368608",
        "id": "pwfPOfI4sW5H"
      },
      "outputs": [
        {
          "data": {
            "image/png": "[encoded data removed]",
            "text/plain": [
              "<Figure size 432x288 with 1 Axes>"
            ]
          },
          "metadata": {},
          "output_type": "display_data"
        }
      ],
      "source": [
        "auc_roc_curve(clf_r, X_test)"
      ]
    },
    {
      "cell_type": "code",
      "execution_count": null,
      "metadata": {
        "colab": {
          "base_uri": "https://localhost:8080/",
          "height": 673
        },
        "outputId": "10fe182b-5f35-446b-c9a0-24555344a86c",
        "id": "77GxFhAusW5H"
      },
      "outputs": [
        {
          "data": {
            "text/html": [
              "\n",
              "  <div id=\"df-542171c4-64e6-42ff-a785-3c4cf46c5df1\">\n",
              "    <div class=\"colab-df-container\">\n",
              "      <div>\n",
              "<style scoped>\n",
              "    .dataframe tbody tr th:only-of-type {\n",
              "        vertical-align: middle;\n",
              "    }\n",
              "\n",
              "    .dataframe tbody tr th {\n",
              "        vertical-align: top;\n",
              "    }\n",
              "\n",
              "    .dataframe thead th {\n",
              "        text-align: right;\n",
              "    }\n",
              "</style>\n",
              "<table border=\"1\" class=\"dataframe\">\n",
              "  <thead>\n",
              "    <tr style=\"text-align: right;\">\n",
              "      <th></th>\n",
              "      <th>h500</th>\n",
              "      <th>ivt</th>\n",
              "      <th>qv2m</th>\n",
              "      <th>slp</th>\n",
              "      <th>tpw</th>\n",
              "      <th>uqv</th>\n",
              "      <th>vqv</th>\n",
              "      <th>w500</th>\n",
              "      <th>ex</th>\n",
              "      <th>h500_2</th>\n",
              "      <th>ivt_2</th>\n",
              "      <th>qv2m_2</th>\n",
              "      <th>slm_2</th>\n",
              "      <th>tpw_2</th>\n",
              "      <th>uqv_2</th>\n",
              "      <th>vqv_2</th>\n",
              "      <th>w500_2</th>\n",
              "    </tr>\n",
              "    <tr>\n",
              "      <th>date</th>\n",
              "      <th></th>\n",
              "      <th></th>\n",
              "      <th></th>\n",
              "      <th></th>\n",
              "      <th></th>\n",
              "      <th></th>\n",
              "      <th></th>\n",
              "      <th></th>\n",
              "      <th></th>\n",
              "      <th></th>\n",
              "      <th></th>\n",
              "      <th></th>\n",
              "      <th></th>\n",
              "      <th></th>\n",
              "      <th></th>\n",
              "      <th></th>\n",
              "      <th></th>\n",
              "    </tr>\n",
              "  </thead>\n",
              "  <tbody>\n",
              "    <tr>\n",
              "      <th>1980-01-03</th>\n",
              "      <td>0.676455</td>\n",
              "      <td>0.973508</td>\n",
              "      <td>0.926271</td>\n",
              "      <td>0.794021</td>\n",
              "      <td>0.929831</td>\n",
              "      <td>0.832833</td>\n",
              "      <td>1.105084</td>\n",
              "      <td>1.067417</td>\n",
              "      <td>0</td>\n",
              "      <td>0.530999</td>\n",
              "      <td>0.908322</td>\n",
              "      <td>0.906029</td>\n",
              "      <td>0.673107</td>\n",
              "      <td>0.849400</td>\n",
              "      <td>0.569867</td>\n",
              "      <td>1.079062</td>\n",
              "      <td>0.965381</td>\n",
              "    </tr>\n",
              "    <tr>\n",
              "      <th>1980-01-04</th>\n",
              "      <td>0.740520</td>\n",
              "      <td>0.856347</td>\n",
              "      <td>0.968628</td>\n",
              "      <td>0.800628</td>\n",
              "      <td>0.971815</td>\n",
              "      <td>0.811637</td>\n",
              "      <td>1.060485</td>\n",
              "      <td>1.022756</td>\n",
              "      <td>0</td>\n",
              "      <td>0.676455</td>\n",
              "      <td>0.973508</td>\n",
              "      <td>0.926271</td>\n",
              "      <td>0.794021</td>\n",
              "      <td>0.929831</td>\n",
              "      <td>0.832833</td>\n",
              "      <td>1.105084</td>\n",
              "      <td>1.067417</td>\n",
              "    </tr>\n",
              "    <tr>\n",
              "      <th>1980-01-05</th>\n",
              "      <td>0.895034</td>\n",
              "      <td>0.905010</td>\n",
              "      <td>0.934050</td>\n",
              "      <td>1.134577</td>\n",
              "      <td>1.037330</td>\n",
              "      <td>0.905180</td>\n",
              "      <td>1.155132</td>\n",
              "      <td>1.221864</td>\n",
              "      <td>0</td>\n",
              "      <td>0.740520</td>\n",
              "      <td>0.856347</td>\n",
              "      <td>0.968628</td>\n",
              "      <td>0.800628</td>\n",
              "      <td>0.971815</td>\n",
              "      <td>0.811637</td>\n",
              "      <td>1.060485</td>\n",
              "      <td>1.022756</td>\n",
              "    </tr>\n",
              "    <tr>\n",
              "      <th>1980-01-06</th>\n",
              "      <td>1.308361</td>\n",
              "      <td>1.063673</td>\n",
              "      <td>0.933331</td>\n",
              "      <td>1.499013</td>\n",
              "      <td>1.091915</td>\n",
              "      <td>1.252556</td>\n",
              "      <td>1.295984</td>\n",
              "      <td>1.303256</td>\n",
              "      <td>0</td>\n",
              "      <td>0.895034</td>\n",
              "      <td>0.905010</td>\n",
              "      <td>0.934050</td>\n",
              "      <td>1.134577</td>\n",
              "      <td>1.037330</td>\n",
              "      <td>0.905180</td>\n",
              "      <td>1.155132</td>\n",
              "      <td>1.221864</td>\n",
              "    </tr>\n",
              "    <tr>\n",
              "      <th>1980-01-07</th>\n",
              "      <td>1.273507</td>\n",
              "      <td>0.790399</td>\n",
              "      <td>1.057820</td>\n",
              "      <td>1.484075</td>\n",
              "      <td>0.896990</td>\n",
              "      <td>1.288264</td>\n",
              "      <td>1.095220</td>\n",
              "      <td>1.015022</td>\n",
              "      <td>0</td>\n",
              "      <td>1.308361</td>\n",
              "      <td>1.063673</td>\n",
              "      <td>0.933331</td>\n",
              "      <td>1.499013</td>\n",
              "      <td>1.091915</td>\n",
              "      <td>1.252556</td>\n",
              "      <td>1.295984</td>\n",
              "      <td>1.303256</td>\n",
              "    </tr>\n",
              "    <tr>\n",
              "      <th>...</th>\n",
              "      <td>...</td>\n",
              "      <td>...</td>\n",
              "      <td>...</td>\n",
              "      <td>...</td>\n",
              "      <td>...</td>\n",
              "      <td>...</td>\n",
              "      <td>...</td>\n",
              "      <td>...</td>\n",
              "      <td>...</td>\n",
              "      <td>...</td>\n",
              "      <td>...</td>\n",
              "      <td>...</td>\n",
              "      <td>...</td>\n",
              "      <td>...</td>\n",
              "      <td>...</td>\n",
              "      <td>...</td>\n",
              "      <td>...</td>\n",
              "    </tr>\n",
              "    <tr>\n",
              "      <th>2019-12-27</th>\n",
              "      <td>0.745371</td>\n",
              "      <td>0.695266</td>\n",
              "      <td>0.824282</td>\n",
              "      <td>0.685195</td>\n",
              "      <td>0.730762</td>\n",
              "      <td>0.786755</td>\n",
              "      <td>0.758509</td>\n",
              "      <td>0.988913</td>\n",
              "      <td>0</td>\n",
              "      <td>0.807414</td>\n",
              "      <td>0.681451</td>\n",
              "      <td>0.904883</td>\n",
              "      <td>0.577267</td>\n",
              "      <td>0.711015</td>\n",
              "      <td>0.688971</td>\n",
              "      <td>0.989776</td>\n",
              "      <td>0.909792</td>\n",
              "    </tr>\n",
              "    <tr>\n",
              "      <th>2019-12-28</th>\n",
              "      <td>0.673514</td>\n",
              "      <td>0.844738</td>\n",
              "      <td>0.860278</td>\n",
              "      <td>0.595738</td>\n",
              "      <td>0.944596</td>\n",
              "      <td>0.826753</td>\n",
              "      <td>0.992366</td>\n",
              "      <td>1.061812</td>\n",
              "      <td>0</td>\n",
              "      <td>0.745371</td>\n",
              "      <td>0.695266</td>\n",
              "      <td>0.824282</td>\n",
              "      <td>0.685195</td>\n",
              "      <td>0.730762</td>\n",
              "      <td>0.786755</td>\n",
              "      <td>0.758509</td>\n",
              "      <td>0.988913</td>\n",
              "    </tr>\n",
              "    <tr>\n",
              "      <th>2019-12-29</th>\n",
              "      <td>0.793587</td>\n",
              "      <td>1.026481</td>\n",
              "      <td>0.775458</td>\n",
              "      <td>0.647114</td>\n",
              "      <td>0.881771</td>\n",
              "      <td>0.928708</td>\n",
              "      <td>1.150588</td>\n",
              "      <td>1.106486</td>\n",
              "      <td>0</td>\n",
              "      <td>0.673514</td>\n",
              "      <td>0.844738</td>\n",
              "      <td>0.860278</td>\n",
              "      <td>0.595738</td>\n",
              "      <td>0.944596</td>\n",
              "      <td>0.826753</td>\n",
              "      <td>0.992366</td>\n",
              "      <td>1.061812</td>\n",
              "    </tr>\n",
              "    <tr>\n",
              "      <th>2019-12-30</th>\n",
              "      <td>0.792444</td>\n",
              "      <td>0.894909</td>\n",
              "      <td>0.720232</td>\n",
              "      <td>0.623433</td>\n",
              "      <td>0.810617</td>\n",
              "      <td>1.057763</td>\n",
              "      <td>0.772130</td>\n",
              "      <td>0.787905</td>\n",
              "      <td>0</td>\n",
              "      <td>0.793587</td>\n",
              "      <td>1.026481</td>\n",
              "      <td>0.775458</td>\n",
              "      <td>0.647114</td>\n",
              "      <td>0.881771</td>\n",
              "      <td>0.928708</td>\n",
              "      <td>1.150588</td>\n",
              "      <td>1.106486</td>\n",
              "    </tr>\n",
              "    <tr>\n",
              "      <th>2019-12-31</th>\n",
              "      <td>0.850200</td>\n",
              "      <td>1.046206</td>\n",
              "      <td>0.957128</td>\n",
              "      <td>0.743761</td>\n",
              "      <td>0.976063</td>\n",
              "      <td>1.262103</td>\n",
              "      <td>0.959247</td>\n",
              "      <td>0.888829</td>\n",
              "      <td>0</td>\n",
              "      <td>0.792444</td>\n",
              "      <td>0.894909</td>\n",
              "      <td>0.720232</td>\n",
              "      <td>0.623433</td>\n",
              "      <td>0.810617</td>\n",
              "      <td>1.057763</td>\n",
              "      <td>0.772130</td>\n",
              "      <td>0.787905</td>\n",
              "    </tr>\n",
              "  </tbody>\n",
              "</table>\n",
              "<p>3608 rows × 17 columns</p>\n",
              "</div>\n",
              "      <button class=\"colab-df-convert\" onclick=\"convertToInteractive('df-542171c4-64e6-42ff-a785-3c4cf46c5df1')\"\n",
              "              title=\"Convert this dataframe to an interactive table.\"\n",
              "              style=\"display:none;\">\n",
              "        \n",
              "  <svg xmlns=\"http://www.w3.org/2000/svg\" height=\"24px\"viewBox=\"0 0 24 24\"\n",
              "       width=\"24px\">\n",
              "    <path d=\"M0 0h24v24H0V0z\" fill=\"none\"/>\n",
              "    <path d=\"M18.56 5.44l.94 2.06.94-2.06 2.06-.94-2.06-.94-.94-2.06-.94 2.06-2.06.94zm-11 1L8.5 8.5l.94-2.06 2.06-.94-2.06-.94L8.5 2.5l-.94 2.06-2.06.94zm10 10l.94 2.06.94-2.06 2.06-.94-2.06-.94-.94-2.06-.94 2.06-2.06.94z\"/><path d=\"M17.41 7.96l-1.37-1.37c-.4-.4-.92-.59-1.43-.59-.52 0-1.04.2-1.43.59L10.3 9.45l-7.72 7.72c-.78.78-.78 2.05 0 2.83L4 21.41c.39.39.9.59 1.41.59.51 0 1.02-.2 1.41-.59l7.78-7.78 2.81-2.81c.8-.78.8-2.07 0-2.86zM5.41 20L4 18.59l7.72-7.72 1.47 1.35L5.41 20z\"/>\n",
              "  </svg>\n",
              "      </button>\n",
              "      \n",
              "  <style>\n",
              "    .colab-df-container {\n",
              "      display:flex;\n",
              "      flex-wrap:wrap;\n",
              "      gap: 12px;\n",
              "    }\n",
              "\n",
              "    .colab-df-convert {\n",
              "      background-color: #E8F0FE;\n",
              "      border: none;\n",
              "      border-radius: 50%;\n",
              "      cursor: pointer;\n",
              "      display: none;\n",
              "      fill: #1967D2;\n",
              "      height: 32px;\n",
              "      padding: 0 0 0 0;\n",
              "      width: 32px;\n",
              "    }\n",
              "\n",
              "    .colab-df-convert:hover {\n",
              "      background-color: #E2EBFA;\n",
              "      box-shadow: 0px 1px 2px rgba(60, 64, 67, 0.3), 0px 1px 3px 1px rgba(60, 64, 67, 0.15);\n",
              "      fill: #174EA6;\n",
              "    }\n",
              "\n",
              "    [theme=dark] .colab-df-convert {\n",
              "      background-color: #3B4455;\n",
              "      fill: #D2E3FC;\n",
              "    }\n",
              "\n",
              "    [theme=dark] .colab-df-convert:hover {\n",
              "      background-color: #434B5C;\n",
              "      box-shadow: 0px 1px 3px 1px rgba(0, 0, 0, 0.15);\n",
              "      filter: drop-shadow(0px 1px 2px rgba(0, 0, 0, 0.3));\n",
              "      fill: #FFFFFF;\n",
              "    }\n",
              "  </style>\n",
              "\n",
              "      <script>\n",
              "        const buttonEl =\n",
              "          document.querySelector('#df-542171c4-64e6-42ff-a785-3c4cf46c5df1 button.colab-df-convert');\n",
              "        buttonEl.style.display =\n",
              "          google.colab.kernel.accessAllowed ? 'block' : 'none';\n",
              "\n",
              "        async function convertToInteractive(key) {\n",
              "          const element = document.querySelector('#df-542171c4-64e6-42ff-a785-3c4cf46c5df1');\n",
              "          const dataTable =\n",
              "            await google.colab.kernel.invokeFunction('convertToInteractive',\n",
              "                                                     [key], {});\n",
              "          if (!dataTable) return;\n",
              "\n",
              "          const docLinkHtml = 'Like what you see? Visit the ' +\n",
              "            '<a target=\"_blank\" href=https://colab.research.google.com/notebooks/data_table.ipynb>data table notebook</a>'\n",
              "            + ' to learn more about interactive tables.';\n",
              "          element.innerHTML = '';\n",
              "          dataTable['output_type'] = 'display_data';\n",
              "          await google.colab.output.renderOutput(dataTable, element);\n",
              "          const docLink = document.createElement('div');\n",
              "          docLink.innerHTML = docLinkHtml;\n",
              "          element.appendChild(docLink);\n",
              "        }\n",
              "      </script>\n",
              "    </div>\n",
              "  </div>\n",
              "  "
            ],
            "text/plain": [
              "                h500       ivt      qv2m  ...     uqv_2     vqv_2    w500_2\n",
              "date                                      ...                              \n",
              "1980-01-03  0.676455  0.973508  0.926271  ...  0.569867  1.079062  0.965381\n",
              "1980-01-04  0.740520  0.856347  0.968628  ...  0.832833  1.105084  1.067417\n",
              "1980-01-05  0.895034  0.905010  0.934050  ...  0.811637  1.060485  1.022756\n",
              "1980-01-06  1.308361  1.063673  0.933331  ...  0.905180  1.155132  1.221864\n",
              "1980-01-07  1.273507  0.790399  1.057820  ...  1.252556  1.295984  1.303256\n",
              "...              ...       ...       ...  ...       ...       ...       ...\n",
              "2019-12-27  0.745371  0.695266  0.824282  ...  0.688971  0.989776  0.909792\n",
              "2019-12-28  0.673514  0.844738  0.860278  ...  0.786755  0.758509  0.988913\n",
              "2019-12-29  0.793587  1.026481  0.775458  ...  0.826753  0.992366  1.061812\n",
              "2019-12-30  0.792444  0.894909  0.720232  ...  0.928708  1.150588  1.106486\n",
              "2019-12-31  0.850200  1.046206  0.957128  ...  1.057763  0.772130  0.787905\n",
              "\n",
              "[3608 rows x 17 columns]"
            ]
          },
          "execution_count": 92,
          "metadata": {},
          "output_type": "execute_result"
        }
      ],
      "source": [
        "dff"
      ]
    },
    {
      "cell_type": "markdown",
      "metadata": {
        "id": "xEgB6QTWsW5H"
      },
      "source": [
        "# SVM + SMOTE"
      ]
    },
    {
      "cell_type": "code",
      "execution_count": null,
      "metadata": {
        "id": "LtO1uPgSsW5H"
      },
      "outputs": [],
      "source": [
        "oversample = SMOTE(k_neighbors = 7)\n",
        "X_train_smote, y_train_smote = oversample.fit_resample(X_train, y_train)"
      ]
    },
    {
      "cell_type": "code",
      "execution_count": null,
      "metadata": {
        "colab": {
          "base_uri": "https://localhost:8080/"
        },
        "outputId": "a79b06bd-064d-4784-ddb5-88ea58411eb1",
        "id": "JD1MuHq-sW5H"
      },
      "outputs": [
        {
          "data": {
            "text/plain": [
              "{0: 2480, 1: 2480}"
            ]
          },
          "execution_count": 80,
          "metadata": {},
          "output_type": "execute_result"
        }
      ],
      "source": [
        "unique, count = np.unique(y_train_smote, return_counts=True)\n",
        "y_train_smote_value_count = { k:v for (k,v) in zip(unique, count)}\n",
        "y_train_smote_value_count"
      ]
    },
    {
      "cell_type": "markdown",
      "metadata": {
        "id": "sKiJlO7GsW5I"
      },
      "source": [
        "kernel = 'linear'"
      ]
    },
    {
      "cell_type": "code",
      "execution_count": null,
      "metadata": {
        "colab": {
          "base_uri": "https://localhost:8080/"
        },
        "outputId": "3be37bd1-ade2-490d-b11a-c834793f001e",
        "id": "Xk7GiAvtsW5I"
      },
      "outputs": [
        {
          "data": {
            "text/plain": [
              "GridSearchCV(cv=5, estimator=SVC(kernel='linear', probability=True),\n",
              "             param_grid={'C': [0.0001, 0.001, 0.01, 0.1, 1, 10]},\n",
              "             scoring=make_scorer(average_precision_score))"
            ]
          },
          "execution_count": 81,
          "metadata": {},
          "output_type": "execute_result"
        }
      ],
      "source": [
        "svc_l = SVC(kernel='linear', probability=True)\n",
        "parameters = {'C': [0.0001, 0.001, 0.01, 0.1, 1, 10]}\n",
        "\n",
        "score = make_scorer(average_precision_score)\n",
        "\n",
        "clf_l = GridSearchCV(svc_l, parameters, cv=5, scoring=score)\n",
        "clf_l.fit(X_train_smote, y_train_smote)"
      ]
    },
    {
      "cell_type": "code",
      "execution_count": null,
      "metadata": {
        "id": "S6f-q3LOsW5I"
      },
      "outputs": [],
      "source": [
        "y_pred_l = clf_l.predict(X_test)"
      ]
    },
    {
      "cell_type": "code",
      "execution_count": null,
      "metadata": {
        "colab": {
          "base_uri": "https://localhost:8080/"
        },
        "outputId": "d5021fc6-c1ba-4526-e376-e12a9b8f2276",
        "id": "dPV5DOJBsW5I"
      },
      "outputs": [
        {
          "name": "stdout",
          "output_type": "stream",
          "text": [
            "Accuracy =  0.925207756232687\n",
            "Precision =  0.1506849315068493\n",
            "Recall =  0.36666666666666664\n",
            "F1 Score =  0.21359223300970873\n"
          ]
        }
      ],
      "source": [
        "scores(y_test, y_pred_l)"
      ]
    },
    {
      "cell_type": "code",
      "execution_count": null,
      "metadata": {
        "id": "uk7SbPizsW5I"
      },
      "outputs": [],
      "source": [
        "Accuracy =  0.8337950138504155\n",
        "Precision =  0.1134020618556701\n",
        "Recall =  0.7333333333333333\n",
        "F1 Score =  0.19642857142857142"
      ]
    },
    {
      "cell_type": "code",
      "execution_count": null,
      "metadata": {
        "colab": {
          "base_uri": "https://localhost:8080/",
          "height": 286
        },
        "outputId": "4f67874e-e2ae-431d-b650-cd72d28b41ad",
        "id": "47mWGGSasW5I"
      },
      "outputs": [
        {
          "data": {
            "image/png": "[encoded data removed]",
            "text/plain": [
              "<Figure size 432x288 with 1 Axes>"
            ]
          },
          "metadata": {},
          "output_type": "display_data"
        }
      ],
      "source": [
        "auc_roc_curve(clf_l, X_test)"
      ]
    },
    {
      "cell_type": "code",
      "execution_count": null,
      "metadata": {
        "colab": {
          "base_uri": "https://localhost:8080/"
        },
        "outputId": "4bdbb6a6-915d-470f-9205-23d10cee3bee",
        "id": "SRSGMyq_sW5I"
      },
      "outputs": [
        {
          "data": {
            "text/plain": [
              "array([[991,  62],\n",
              "       [ 19,  11]])"
            ]
          },
          "execution_count": 85,
          "metadata": {},
          "output_type": "execute_result"
        }
      ],
      "source": [
        "conf(y_test, y_pred_l)"
      ]
    },
    {
      "cell_type": "code",
      "execution_count": null,
      "metadata": {
        "colab": {
          "base_uri": "https://localhost:8080/"
        },
        "outputId": "fa955f60-8d23-4c5b-e3e5-f1d9b69ec61e",
        "id": "_hrCl95TsW5I"
      },
      "outputs": [
        {
          "data": {
            "text/plain": [
              "array([[893, 160],\n",
              "       [ 10,  20]])"
            ]
          },
          "execution_count": 99,
          "metadata": {},
          "output_type": "execute_result"
        }
      ],
      "source": [
        "conf(y_test, y_pred_l)"
      ]
    },
    {
      "cell_type": "markdown",
      "metadata": {
        "id": "7-OP_VlnsW5I"
      },
      "source": [
        "kernel = rbf"
      ]
    },
    {
      "cell_type": "code",
      "execution_count": null,
      "metadata": {
        "colab": {
          "base_uri": "https://localhost:8080/"
        },
        "outputId": "3a87c0b8-1952-403f-8734-118f404ad0bd",
        "id": "9bs7D2gFsW5I"
      },
      "outputs": [
        {
          "data": {
            "text/plain": [
              "GridSearchCV(cv=5, estimator=SVC(probability=True),\n",
              "             param_grid={'C': [0.0001, 0.001, 0.01, 0.1, 1, 10]},\n",
              "             scoring=make_scorer(average_precision_score))"
            ]
          },
          "execution_count": 86,
          "metadata": {},
          "output_type": "execute_result"
        }
      ],
      "source": [
        "svc_r = SVC(kernel='rbf', probability=True)\n",
        "parameters = {'C': [0.0001, 0.001, 0.01, 0.1, 1, 10]}\n",
        "\n",
        "score = make_scorer(average_precision_score)\n",
        "\n",
        "clf_r = GridSearchCV(svc_r, parameters, cv=5, scoring=score)\n",
        "clf_r.fit(X_train_smote, y_train_smote)"
      ]
    },
    {
      "cell_type": "code",
      "execution_count": null,
      "metadata": {
        "id": "AOJCbSIOsW5I"
      },
      "outputs": [],
      "source": [
        "y_pred_r = clf_r.predict(X_test)"
      ]
    },
    {
      "cell_type": "code",
      "execution_count": null,
      "metadata": {
        "colab": {
          "base_uri": "https://localhost:8080/"
        },
        "outputId": "3f0e1b06-7afe-4448-f19b-d6c842be927b",
        "id": "CTRr4uhdsW5J"
      },
      "outputs": [
        {
          "name": "stdout",
          "output_type": "stream",
          "text": [
            "Accuracy =  0.9630655586334257\n",
            "Precision =  0.2222222222222222\n",
            "Recall =  0.13333333333333333\n",
            "F1 Score =  0.16666666666666669\n"
          ]
        }
      ],
      "source": [
        "scores(y_test, y_pred_r)"
      ]
    },
    {
      "cell_type": "code",
      "execution_count": null,
      "metadata": {
        "colab": {
          "base_uri": "https://localhost:8080/",
          "height": 149
        },
        "outputId": "ce5d138c-5a29-42c7-e8cb-fc3c3722fec3",
        "id": "3-l-oVLMsW5J"
      },
      "outputs": [
        {
          "ename": "SyntaxError",
          "evalue": "ignored",
          "output_type": "error",
          "traceback": [
            "\u001b[0;36m  File \u001b[0;32m\"<ipython-input-47-99c3c5fef093>\"\u001b[0;36m, line \u001b[0;32m4\u001b[0m\n\u001b[0;31m    F1 Score =  0.14634146341463417\u001b[0m\n\u001b[0m           ^\u001b[0m\n\u001b[0;31mSyntaxError\u001b[0m\u001b[0;31m:\u001b[0m invalid syntax\n"
          ]
        }
      ],
      "source": [
        "Accuracy =  0.9353647276084949\n",
        "Precision =  0.11538461538461539\n",
        "Recall =  0.2\n",
        "F1 Score =  0.14634146341463417"
      ]
    },
    {
      "cell_type": "code",
      "execution_count": null,
      "metadata": {
        "colab": {
          "base_uri": "https://localhost:8080/",
          "height": 286
        },
        "outputId": "a818bd8b-e33c-4a06-dedb-370b5a53eb8d",
        "id": "JcLejIO8sW5J"
      },
      "outputs": [
        {
          "data": {
            "image/png": "[encoded data removed]",
            "text/plain": [
              "<Figure size 432x288 with 1 Axes>"
            ]
          },
          "metadata": {},
          "output_type": "display_data"
        }
      ],
      "source": [
        "auc_roc_curve(clf_r, X_test)"
      ]
    },
    {
      "cell_type": "code",
      "execution_count": null,
      "metadata": {
        "colab": {
          "base_uri": "https://localhost:8080/"
        },
        "outputId": "5f695d1f-7f0b-4a5d-d90e-5059921ba70b",
        "id": "qpWtM6iusW5J"
      },
      "outputs": [
        {
          "data": {
            "text/plain": [
              "array([[1039,   14],\n",
              "       [  26,    4]])"
            ]
          },
          "execution_count": 90,
          "metadata": {},
          "output_type": "execute_result"
        }
      ],
      "source": [
        "conf(y_test, y_pred_r)"
      ]
    },
    {
      "cell_type": "markdown",
      "metadata": {
        "id": "YS72qzYPsW5J"
      },
      "source": [
        "# SVM + RandomUndersampling"
      ]
    },
    {
      "cell_type": "code",
      "execution_count": null,
      "metadata": {
        "id": "8IWnguj6sW5J"
      },
      "outputs": [],
      "source": [
        "undersample = RandomUnderSampler(sampling_strategy='majority')\n",
        "X_over, y_over = undersample.fit_resample(X_train, y_train)"
      ]
    },
    {
      "cell_type": "markdown",
      "metadata": {
        "id": "gr0k6kX1sW5J"
      },
      "source": [
        "kernel='rbf'"
      ]
    },
    {
      "cell_type": "code",
      "execution_count": null,
      "metadata": {
        "colab": {
          "base_uri": "https://localhost:8080/"
        },
        "outputId": "3dcc8d87-80f8-4891-eae8-b69f8afd17ce",
        "id": "XCW6_4btsW5J"
      },
      "outputs": [
        {
          "data": {
            "text/plain": [
              "GridSearchCV(cv=5, estimator=SVC(probability=True),\n",
              "             param_grid={'C': [0.0001, 0.001, 0.01, 0.1, 1, 10]},\n",
              "             scoring=make_scorer(average_precision_score))"
            ]
          },
          "execution_count": 92,
          "metadata": {},
          "output_type": "execute_result"
        }
      ],
      "source": [
        "svc_r = SVC(kernel='rbf', probability=True)\n",
        "parameters = {'C': [0.0001, 0.001, 0.01, 0.1, 1, 10]}\n",
        "\n",
        "score = make_scorer(average_precision_score)\n",
        "\n",
        "clf_ru = GridSearchCV(svc_r, parameters, cv=5, scoring=score)\n",
        "clf_ru.fit(X_over, y_over)"
      ]
    },
    {
      "cell_type": "code",
      "execution_count": null,
      "metadata": {
        "colab": {
          "base_uri": "https://localhost:8080/"
        },
        "outputId": "4929043d-10c2-4560-f425-4216f450da7b",
        "id": "DhHFh8DEsW5K"
      },
      "outputs": [
        {
          "name": "stdout",
          "output_type": "stream",
          "text": [
            "Accuracy =  0.9012003693444137\n",
            "Precision =  0.14678899082568808\n",
            "Recall =  0.5333333333333333\n",
            "F1 Score =  0.23021582733812954\n"
          ]
        }
      ],
      "source": [
        "y_pred_r = clf_ru.predict(X_test)\n",
        "scores(y_test, y_pred_r)"
      ]
    },
    {
      "cell_type": "code",
      "execution_count": null,
      "metadata": {
        "id": "0TgQ5f0ZsW5K"
      },
      "outputs": [],
      "source": [
        "Accuracy =  0.7774699907663897\n",
        "Precision =  0.08300395256916997\n",
        "Recall =  0.7\n",
        "F1 Score =  0.14840989399293286"
      ]
    },
    {
      "cell_type": "code",
      "execution_count": null,
      "metadata": {
        "colab": {
          "base_uri": "https://localhost:8080/"
        },
        "outputId": "5b806626-b9be-4433-bcee-697c091189c3",
        "id": "LnkzXf76sW5K"
      },
      "outputs": [
        {
          "data": {
            "text/plain": [
              "array([[960,  93],\n",
              "       [ 14,  16]])"
            ]
          },
          "execution_count": 94,
          "metadata": {},
          "output_type": "execute_result"
        }
      ],
      "source": [
        "conf(y_test, y_pred_r)"
      ]
    },
    {
      "cell_type": "code",
      "execution_count": null,
      "metadata": {
        "colab": {
          "base_uri": "https://localhost:8080/",
          "height": 286
        },
        "outputId": "8bb8a148-9ea8-4fe0-db31-3224075af106",
        "id": "pHjno-58sW5K"
      },
      "outputs": [
        {
          "data": {
            "image/png": "[encoded data removed]",
            "text/plain": [
              "<Figure size 432x288 with 1 Axes>"
            ]
          },
          "metadata": {},
          "output_type": "display_data"
        }
      ],
      "source": [
        "auc_roc_curve(clf_ru, X_test)"
      ]
    },
    {
      "cell_type": "markdown",
      "metadata": {
        "id": "sz-HvkTtsW5L"
      },
      "source": [
        "kernel = linear"
      ]
    },
    {
      "cell_type": "code",
      "execution_count": null,
      "metadata": {
        "colab": {
          "base_uri": "https://localhost:8080/"
        },
        "outputId": "6fbd9f45-4ff9-43e0-9d76-8459ef5e1216",
        "id": "X_YPu0AjsW5L"
      },
      "outputs": [
        {
          "data": {
            "text/plain": [
              "GridSearchCV(cv=5, estimator=SVC(kernel='linear', probability=True),\n",
              "             param_grid={'C': [0.0001, 0.001, 0.01, 0.1, 1, 10]},\n",
              "             scoring=make_scorer(average_precision_score))"
            ]
          },
          "execution_count": 95,
          "metadata": {},
          "output_type": "execute_result"
        }
      ],
      "source": [
        "svc_l = SVC(kernel='linear', probability=True)\n",
        "parameters = {'C': [0.0001, 0.001, 0.01, 0.1, 1, 10]}\n",
        "\n",
        "score = make_scorer(average_precision_score)\n",
        "\n",
        "clf_ru = GridSearchCV(svc_l, parameters, cv=5, scoring=score)\n",
        "clf_ru.fit(X_over, y_over)"
      ]
    },
    {
      "cell_type": "code",
      "execution_count": null,
      "metadata": {
        "colab": {
          "base_uri": "https://localhost:8080/"
        },
        "outputId": "3cbbee47-83ba-495c-e29a-a63623a5dd86",
        "id": "YkMCiur8sW5L"
      },
      "outputs": [
        {
          "name": "stdout",
          "output_type": "stream",
          "text": [
            "Accuracy =  0.8928901200369345\n",
            "Precision =  0.13559322033898305\n",
            "Recall =  0.5333333333333333\n",
            "F1 Score =  0.21621621621621623\n"
          ]
        }
      ],
      "source": [
        "y_pred_l = clf_ru.predict(X_test)\n",
        "scores(y_test, y_pred_l)"
      ]
    },
    {
      "cell_type": "code",
      "execution_count": null,
      "metadata": {
        "colab": {
          "base_uri": "https://localhost:8080/"
        },
        "outputId": "617ce838-f75b-4e36-add6-1b2615e93cf6",
        "id": "Z9OECVPXsW5M"
      },
      "outputs": [
        {
          "data": {
            "text/plain": [
              "array([[951, 102],\n",
              "       [ 14,  16]])"
            ]
          },
          "execution_count": 97,
          "metadata": {},
          "output_type": "execute_result"
        }
      ],
      "source": [
        "conf(y_test, y_pred_l)"
      ]
    },
    {
      "cell_type": "markdown",
      "metadata": {
        "id": "84UXRmzrsW5M"
      },
      "source": [
        "# LogReg"
      ]
    },
    {
      "cell_type": "code",
      "execution_count": null,
      "metadata": {
        "colab": {
          "base_uri": "https://localhost:8080/"
        },
        "outputId": "a0a72de1-f661-439c-c45f-838a5ad0d87f",
        "id": "3HChC3ynsW5M"
      },
      "outputs": [
        {
          "name": "stderr",
          "output_type": "stream",
          "text": [
            "/usr/local/lib/python3.7/dist-packages/sklearn/linear_model/_logistic.py:818: ConvergenceWarning: lbfgs failed to converge (status=1):\n",
            "STOP: TOTAL NO. of ITERATIONS REACHED LIMIT.\n",
            "\n",
            "Increase the number of iterations (max_iter) or scale the data as shown in:\n",
            "    https://scikit-learn.org/stable/modules/preprocessing.html\n",
            "Please also refer to the documentation for alternative solver options:\n",
            "    https://scikit-learn.org/stable/modules/linear_model.html#logistic-regression\n",
            "  extra_warning_msg=_LOGISTIC_SOLVER_CONVERGENCE_MSG,\n",
            "/usr/local/lib/python3.7/dist-packages/sklearn/linear_model/_logistic.py:818: ConvergenceWarning: lbfgs failed to converge (status=1):\n",
            "STOP: TOTAL NO. of ITERATIONS REACHED LIMIT.\n",
            "\n",
            "Increase the number of iterations (max_iter) or scale the data as shown in:\n",
            "    https://scikit-learn.org/stable/modules/preprocessing.html\n",
            "Please also refer to the documentation for alternative solver options:\n",
            "    https://scikit-learn.org/stable/modules/linear_model.html#logistic-regression\n",
            "  extra_warning_msg=_LOGISTIC_SOLVER_CONVERGENCE_MSG,\n",
            "/usr/local/lib/python3.7/dist-packages/sklearn/linear_model/_logistic.py:818: ConvergenceWarning: lbfgs failed to converge (status=1):\n",
            "STOP: TOTAL NO. of ITERATIONS REACHED LIMIT.\n",
            "\n",
            "Increase the number of iterations (max_iter) or scale the data as shown in:\n",
            "    https://scikit-learn.org/stable/modules/preprocessing.html\n",
            "Please also refer to the documentation for alternative solver options:\n",
            "    https://scikit-learn.org/stable/modules/linear_model.html#logistic-regression\n",
            "  extra_warning_msg=_LOGISTIC_SOLVER_CONVERGENCE_MSG,\n",
            "/usr/local/lib/python3.7/dist-packages/sklearn/linear_model/_logistic.py:818: ConvergenceWarning: lbfgs failed to converge (status=1):\n",
            "STOP: TOTAL NO. of ITERATIONS REACHED LIMIT.\n",
            "\n",
            "Increase the number of iterations (max_iter) or scale the data as shown in:\n",
            "    https://scikit-learn.org/stable/modules/preprocessing.html\n",
            "Please also refer to the documentation for alternative solver options:\n",
            "    https://scikit-learn.org/stable/modules/linear_model.html#logistic-regression\n",
            "  extra_warning_msg=_LOGISTIC_SOLVER_CONVERGENCE_MSG,\n",
            "/usr/local/lib/python3.7/dist-packages/sklearn/linear_model/_logistic.py:818: ConvergenceWarning: lbfgs failed to converge (status=1):\n",
            "STOP: TOTAL NO. of ITERATIONS REACHED LIMIT.\n",
            "\n",
            "Increase the number of iterations (max_iter) or scale the data as shown in:\n",
            "    https://scikit-learn.org/stable/modules/preprocessing.html\n",
            "Please also refer to the documentation for alternative solver options:\n",
            "    https://scikit-learn.org/stable/modules/linear_model.html#logistic-regression\n",
            "  extra_warning_msg=_LOGISTIC_SOLVER_CONVERGENCE_MSG,\n"
          ]
        },
        {
          "data": {
            "text/plain": [
              "GridSearchCV(cv=5, estimator=LogisticRegression(),\n",
              "             param_grid={'C': [0.0001, 0.001, 0.01, 0.1, 1, 10]},\n",
              "             scoring=make_scorer(recall_score))"
            ]
          },
          "execution_count": 98,
          "metadata": {},
          "output_type": "execute_result"
        }
      ],
      "source": [
        "log_reg = LogisticRegression(penalty='l2')\n",
        "parameters = {'C': [0.0001, 0.001, 0.01, 0.1, 1, 10]}\n",
        "\n",
        "score = make_scorer(recall_score)\n",
        "\n",
        "clf_log = GridSearchCV(log_reg, parameters, cv=5, scoring=score)\n",
        "clf_log.fit(X_train, y_train)"
      ]
    },
    {
      "cell_type": "code",
      "execution_count": null,
      "metadata": {
        "id": "f-mIEHOosW5M"
      },
      "outputs": [],
      "source": [
        "y_log_pred = clf_log.predict(X_test)"
      ]
    },
    {
      "cell_type": "code",
      "execution_count": null,
      "metadata": {
        "colab": {
          "base_uri": "https://localhost:8080/"
        },
        "outputId": "3f0eb180-6148-4df0-8f26-00fa6fd78822",
        "id": "QYnS8j-gsW5M"
      },
      "outputs": [
        {
          "name": "stdout",
          "output_type": "stream",
          "text": [
            "Accuracy =  0.9695290858725761\n",
            "Precision =  0.0\n",
            "Recall =  0.0\n",
            "F1 Score =  0.0\n"
          ]
        }
      ],
      "source": [
        "scores(y_test, y_log_pred)"
      ]
    },
    {
      "cell_type": "code",
      "execution_count": null,
      "metadata": {
        "colab": {
          "base_uri": "https://localhost:8080/",
          "height": 286
        },
        "outputId": "1765a3c0-fbb1-4304-cb31-63d98d8fbcf1",
        "id": "regEQ5r4sW5M"
      },
      "outputs": [
        {
          "data": {
            "image/png": "[encoded data removed]",
            "text/plain": [
              "<Figure size 432x288 with 1 Axes>"
            ]
          },
          "metadata": {},
          "output_type": "display_data"
        }
      ],
      "source": [
        "auc_roc_curve(clf_log, X_test)"
      ]
    },
    {
      "cell_type": "markdown",
      "metadata": {
        "id": "vBvnVMlnsW5M"
      },
      "source": [
        "# LogReg + SMOTE"
      ]
    },
    {
      "cell_type": "code",
      "execution_count": null,
      "metadata": {
        "colab": {
          "base_uri": "https://localhost:8080/"
        },
        "outputId": "e1587fc4-bca1-4f60-a1b1-4fd63100121b",
        "id": "wu0iAChFsW5M"
      },
      "outputs": [
        {
          "name": "stderr",
          "output_type": "stream",
          "text": [
            "/usr/local/lib/python3.7/dist-packages/sklearn/linear_model/_logistic.py:818: ConvergenceWarning: lbfgs failed to converge (status=1):\n",
            "STOP: TOTAL NO. of ITERATIONS REACHED LIMIT.\n",
            "\n",
            "Increase the number of iterations (max_iter) or scale the data as shown in:\n",
            "    https://scikit-learn.org/stable/modules/preprocessing.html\n",
            "Please also refer to the documentation for alternative solver options:\n",
            "    https://scikit-learn.org/stable/modules/linear_model.html#logistic-regression\n",
            "  extra_warning_msg=_LOGISTIC_SOLVER_CONVERGENCE_MSG,\n",
            "/usr/local/lib/python3.7/dist-packages/sklearn/linear_model/_logistic.py:818: ConvergenceWarning: lbfgs failed to converge (status=1):\n",
            "STOP: TOTAL NO. of ITERATIONS REACHED LIMIT.\n",
            "\n",
            "Increase the number of iterations (max_iter) or scale the data as shown in:\n",
            "    https://scikit-learn.org/stable/modules/preprocessing.html\n",
            "Please also refer to the documentation for alternative solver options:\n",
            "    https://scikit-learn.org/stable/modules/linear_model.html#logistic-regression\n",
            "  extra_warning_msg=_LOGISTIC_SOLVER_CONVERGENCE_MSG,\n",
            "/usr/local/lib/python3.7/dist-packages/sklearn/linear_model/_logistic.py:818: ConvergenceWarning: lbfgs failed to converge (status=1):\n",
            "STOP: TOTAL NO. of ITERATIONS REACHED LIMIT.\n",
            "\n",
            "Increase the number of iterations (max_iter) or scale the data as shown in:\n",
            "    https://scikit-learn.org/stable/modules/preprocessing.html\n",
            "Please also refer to the documentation for alternative solver options:\n",
            "    https://scikit-learn.org/stable/modules/linear_model.html#logistic-regression\n",
            "  extra_warning_msg=_LOGISTIC_SOLVER_CONVERGENCE_MSG,\n",
            "/usr/local/lib/python3.7/dist-packages/sklearn/linear_model/_logistic.py:818: ConvergenceWarning: lbfgs failed to converge (status=1):\n",
            "STOP: TOTAL NO. of ITERATIONS REACHED LIMIT.\n",
            "\n",
            "Increase the number of iterations (max_iter) or scale the data as shown in:\n",
            "    https://scikit-learn.org/stable/modules/preprocessing.html\n",
            "Please also refer to the documentation for alternative solver options:\n",
            "    https://scikit-learn.org/stable/modules/linear_model.html#logistic-regression\n",
            "  extra_warning_msg=_LOGISTIC_SOLVER_CONVERGENCE_MSG,\n",
            "/usr/local/lib/python3.7/dist-packages/sklearn/linear_model/_logistic.py:818: ConvergenceWarning: lbfgs failed to converge (status=1):\n",
            "STOP: TOTAL NO. of ITERATIONS REACHED LIMIT.\n",
            "\n",
            "Increase the number of iterations (max_iter) or scale the data as shown in:\n",
            "    https://scikit-learn.org/stable/modules/preprocessing.html\n",
            "Please also refer to the documentation for alternative solver options:\n",
            "    https://scikit-learn.org/stable/modules/linear_model.html#logistic-regression\n",
            "  extra_warning_msg=_LOGISTIC_SOLVER_CONVERGENCE_MSG,\n",
            "/usr/local/lib/python3.7/dist-packages/sklearn/linear_model/_logistic.py:818: ConvergenceWarning: lbfgs failed to converge (status=1):\n",
            "STOP: TOTAL NO. of ITERATIONS REACHED LIMIT.\n",
            "\n",
            "Increase the number of iterations (max_iter) or scale the data as shown in:\n",
            "    https://scikit-learn.org/stable/modules/preprocessing.html\n",
            "Please also refer to the documentation for alternative solver options:\n",
            "    https://scikit-learn.org/stable/modules/linear_model.html#logistic-regression\n",
            "  extra_warning_msg=_LOGISTIC_SOLVER_CONVERGENCE_MSG,\n",
            "/usr/local/lib/python3.7/dist-packages/sklearn/linear_model/_logistic.py:818: ConvergenceWarning: lbfgs failed to converge (status=1):\n",
            "STOP: TOTAL NO. of ITERATIONS REACHED LIMIT.\n",
            "\n",
            "Increase the number of iterations (max_iter) or scale the data as shown in:\n",
            "    https://scikit-learn.org/stable/modules/preprocessing.html\n",
            "Please also refer to the documentation for alternative solver options:\n",
            "    https://scikit-learn.org/stable/modules/linear_model.html#logistic-regression\n",
            "  extra_warning_msg=_LOGISTIC_SOLVER_CONVERGENCE_MSG,\n"
          ]
        },
        {
          "data": {
            "text/plain": [
              "GridSearchCV(cv=5, estimator=LogisticRegression(),\n",
              "             param_grid={'C': [0.0001, 0.001, 0.01, 0.1, 1, 10]},\n",
              "             scoring=make_scorer(recall_score))"
            ]
          },
          "execution_count": 102,
          "metadata": {},
          "output_type": "execute_result"
        }
      ],
      "source": [
        "log_reg = LogisticRegression(penalty='l2')\n",
        "parameters = {'C': [0.0001, 0.001, 0.01, 0.1, 1, 10]}\n",
        "\n",
        "score = make_scorer(recall_score)\n",
        "\n",
        "clf_log = GridSearchCV(log_reg, parameters, cv=5, scoring=score)\n",
        "clf_log.fit(X_train_smote, y_train_smote)"
      ]
    },
    {
      "cell_type": "code",
      "execution_count": null,
      "metadata": {
        "id": "jOo3bfZRsW5M"
      },
      "outputs": [],
      "source": [
        "y_log_pred_sm = clf_log.predict(X_test)"
      ]
    },
    {
      "cell_type": "code",
      "execution_count": null,
      "metadata": {
        "colab": {
          "base_uri": "https://localhost:8080/"
        },
        "outputId": "edd9fe33-9536-457a-c9ac-957ada4758d4",
        "id": "BbcmezhAsW5M"
      },
      "outputs": [
        {
          "name": "stdout",
          "output_type": "stream",
          "text": [
            "Accuracy =  0.9353647276084949\n",
            "Precision =  0.1774193548387097\n",
            "Recall =  0.36666666666666664\n",
            "F1 Score =  0.23913043478260868\n"
          ]
        }
      ],
      "source": [
        "scores(y_test, y_log_pred_sm)"
      ]
    },
    {
      "cell_type": "code",
      "execution_count": null,
      "metadata": {
        "id": "BN_ltq3jsW5M"
      },
      "outputs": [],
      "source": [
        "Accuracy =  0.8457987072945522\n",
        "Precision =  0.12154696132596685\n",
        "Recall =  0.7333333333333333\n",
        "F1 Score =  0.20853080568720378"
      ]
    },
    {
      "cell_type": "code",
      "execution_count": null,
      "metadata": {
        "colab": {
          "base_uri": "https://localhost:8080/",
          "height": 286
        },
        "outputId": "ccbff998-ffa8-423e-97d0-1e7e20845fa1",
        "id": "fwgrV-FOsW5M"
      },
      "outputs": [
        {
          "data": {
            "image/png": "[encoded data removed]",
            "text/plain": [
              "<Figure size 432x288 with 1 Axes>"
            ]
          },
          "metadata": {},
          "output_type": "display_data"
        }
      ],
      "source": [
        "auc_roc_curve(clf_log, X_test)"
      ]
    },
    {
      "cell_type": "code",
      "execution_count": null,
      "metadata": {
        "colab": {
          "base_uri": "https://localhost:8080/"
        },
        "outputId": "ec20613f-8237-4631-f638-556fa8b9b715",
        "id": "cmZDzvsmsW5N"
      },
      "outputs": [
        {
          "data": {
            "text/plain": [
              "array([[1002,   51],\n",
              "       [  19,   11]])"
            ]
          },
          "execution_count": 105,
          "metadata": {},
          "output_type": "execute_result"
        }
      ],
      "source": [
        "conf(y_test, y_log_pred_sm)"
      ]
    },
    {
      "cell_type": "markdown",
      "metadata": {
        "id": "eXdkdG8TsW5N"
      },
      "source": [
        "# Boosting"
      ]
    },
    {
      "cell_type": "code",
      "execution_count": null,
      "metadata": {
        "colab": {
          "base_uri": "https://localhost:8080/"
        },
        "outputId": "9966d3e8-2cd9-472f-ae77-7100c2cde3aa",
        "id": "bB_C5ST6sW5N"
      },
      "outputs": [
        {
          "name": "stdout",
          "output_type": "stream",
          "text": [
            "Randomized search..\n",
            "Fitting 2 folds for each of 20 candidates, totalling 40 fits\n",
            "[CV] END colsample_bylevel=0.6, colsample_bytree=0.6, eval_metric=aucpr, gamma=0.5, learning_rate=0.2, max_depth=6, min_child_weight=1.0, n_estimators=300, reg_lambda=10.0, silent=False, subsample=1.0; total time=   0.6s\n",
            "[CV] END colsample_bylevel=0.6, colsample_bytree=0.6, eval_metric=aucpr, gamma=0.5, learning_rate=0.2, max_depth=6, min_child_weight=1.0, n_estimators=300, reg_lambda=10.0, silent=False, subsample=1.0; total time=   0.5s\n",
            "[CV] END colsample_bylevel=0.9, colsample_bytree=1.0, eval_metric=auc, gamma=0, learning_rate=0.001, max_depth=15, min_child_weight=10.0, n_estimators=100, reg_lambda=5.0, silent=False, subsample=0.9; total time=   0.2s\n",
            "[CV] END colsample_bylevel=0.9, colsample_bytree=1.0, eval_metric=auc, gamma=0, learning_rate=0.001, max_depth=15, min_child_weight=10.0, n_estimators=100, reg_lambda=5.0, silent=False, subsample=0.9; total time=   0.1s\n",
            "[CV] END colsample_bylevel=1.0, colsample_bytree=0.9, eval_metric=auc, gamma=0, learning_rate=0.001, max_depth=15, min_child_weight=5.0, n_estimators=300, reg_lambda=50.0, silent=False, subsample=0.9; total time=   0.5s\n",
            "[CV] END colsample_bylevel=1.0, colsample_bytree=0.9, eval_metric=auc, gamma=0, learning_rate=0.001, max_depth=15, min_child_weight=5.0, n_estimators=300, reg_lambda=50.0, silent=False, subsample=0.9; total time=   0.3s\n",
            "[CV] END colsample_bylevel=0.7, colsample_bytree=0.4, eval_metric=auc, gamma=0, learning_rate=0.1, max_depth=6, min_child_weight=1.0, n_estimators=500, reg_lambda=0.1, silent=False, subsample=1.0; total time=   0.4s\n",
            "[CV] END colsample_bylevel=0.7, colsample_bytree=0.4, eval_metric=auc, gamma=0, learning_rate=0.1, max_depth=6, min_child_weight=1.0, n_estimators=500, reg_lambda=0.1, silent=False, subsample=1.0; total time=   0.4s\n",
            "[CV] END colsample_bylevel=0.6, colsample_bytree=0.5, eval_metric=aucpr, gamma=0.25, learning_rate=0.001, max_depth=15, min_child_weight=10.0, n_estimators=100, reg_lambda=1.0, silent=False, subsample=0.9; total time=   0.1s\n",
            "[CV] END colsample_bylevel=0.6, colsample_bytree=0.5, eval_metric=aucpr, gamma=0.25, learning_rate=0.001, max_depth=15, min_child_weight=10.0, n_estimators=100, reg_lambda=1.0, silent=False, subsample=0.9; total time=   0.1s\n",
            "[CV] END colsample_bylevel=0.5, colsample_bytree=0.7, eval_metric=auc, gamma=1.0, learning_rate=0.2, max_depth=10, min_child_weight=1.0, n_estimators=100, reg_lambda=10.0, silent=False, subsample=0.9; total time=   0.2s\n",
            "[CV] END colsample_bylevel=0.5, colsample_bytree=0.7, eval_metric=auc, gamma=1.0, learning_rate=0.2, max_depth=10, min_child_weight=1.0, n_estimators=100, reg_lambda=10.0, silent=False, subsample=0.9; total time=   0.2s\n",
            "[CV] END colsample_bylevel=0.9, colsample_bytree=0.8, eval_metric=aucpr, gamma=0, learning_rate=0.001, max_depth=15, min_child_weight=0.5, n_estimators=300, reg_lambda=100.0, silent=False, subsample=1.0; total time=   0.7s\n",
            "[CV] END colsample_bylevel=0.9, colsample_bytree=0.8, eval_metric=aucpr, gamma=0, learning_rate=0.001, max_depth=15, min_child_weight=0.5, n_estimators=300, reg_lambda=100.0, silent=False, subsample=1.0; total time=   0.5s\n",
            "[CV] END colsample_bylevel=0.5, colsample_bytree=0.8, eval_metric=auc, gamma=1.0, learning_rate=0.2, max_depth=10, min_child_weight=3.0, n_estimators=300, reg_lambda=100.0, silent=False, subsample=1.0; total time=   0.3s\n",
            "[CV] END colsample_bylevel=0.5, colsample_bytree=0.8, eval_metric=auc, gamma=1.0, learning_rate=0.2, max_depth=10, min_child_weight=3.0, n_estimators=300, reg_lambda=100.0, silent=False, subsample=1.0; total time=   0.4s\n",
            "[CV] END colsample_bylevel=1.0, colsample_bytree=0.5, eval_metric=aucpr, gamma=0.25, learning_rate=0.001, max_depth=10, min_child_weight=10.0, n_estimators=500, reg_lambda=1.0, silent=False, subsample=1.0; total time=   0.6s\n",
            "[CV] END colsample_bylevel=1.0, colsample_bytree=0.5, eval_metric=aucpr, gamma=0.25, learning_rate=0.001, max_depth=10, min_child_weight=10.0, n_estimators=500, reg_lambda=1.0, silent=False, subsample=1.0; total time=   0.6s\n",
            "[CV] END colsample_bylevel=0.6, colsample_bytree=1.0, eval_metric=auc, gamma=0, learning_rate=1, max_depth=20, min_child_weight=7.0, n_estimators=300, reg_lambda=10.0, silent=False, subsample=0.9; total time=   0.2s\n",
            "[CV] END colsample_bylevel=0.6, colsample_bytree=1.0, eval_metric=auc, gamma=0, learning_rate=1, max_depth=20, min_child_weight=7.0, n_estimators=300, reg_lambda=10.0, silent=False, subsample=0.9; total time=   0.2s\n",
            "[CV] END colsample_bylevel=1.0, colsample_bytree=0.5, eval_metric=auc, gamma=0.25, learning_rate=0.001, max_depth=6, min_child_weight=10.0, n_estimators=500, reg_lambda=5.0, silent=False, subsample=1.0; total time=   0.5s\n",
            "[CV] END colsample_bylevel=1.0, colsample_bytree=0.5, eval_metric=auc, gamma=0.25, learning_rate=0.001, max_depth=6, min_child_weight=10.0, n_estimators=500, reg_lambda=5.0, silent=False, subsample=1.0; total time=   0.5s\n",
            "[CV] END colsample_bylevel=1.0, colsample_bytree=1.0, eval_metric=aucpr, gamma=0, learning_rate=0.01, max_depth=20, min_child_weight=5.0, n_estimators=100, reg_lambda=0.1, silent=False, subsample=1.0; total time=   0.3s\n",
            "[CV] END colsample_bylevel=1.0, colsample_bytree=1.0, eval_metric=aucpr, gamma=0, learning_rate=0.01, max_depth=20, min_child_weight=5.0, n_estimators=100, reg_lambda=0.1, silent=False, subsample=1.0; total time=   0.4s\n",
            "[CV] END colsample_bylevel=0.6, colsample_bytree=0.7, eval_metric=aucpr, gamma=0, learning_rate=0.01, max_depth=15, min_child_weight=7.0, n_estimators=100, reg_lambda=1.0, silent=False, subsample=1.0; total time=   0.1s\n",
            "[CV] END colsample_bylevel=0.6, colsample_bytree=0.7, eval_metric=aucpr, gamma=0, learning_rate=0.01, max_depth=15, min_child_weight=7.0, n_estimators=100, reg_lambda=1.0, silent=False, subsample=1.0; total time=   0.1s\n",
            "[CV] END colsample_bylevel=1.0, colsample_bytree=0.5, eval_metric=auc, gamma=0, learning_rate=1, max_depth=10, min_child_weight=3.0, n_estimators=300, reg_lambda=50.0, silent=False, subsample=0.6; total time=   0.3s\n",
            "[CV] END colsample_bylevel=1.0, colsample_bytree=0.5, eval_metric=auc, gamma=0, learning_rate=1, max_depth=10, min_child_weight=3.0, n_estimators=300, reg_lambda=50.0, silent=False, subsample=0.6; total time=   0.3s\n",
            "[CV] END colsample_bylevel=0.8, colsample_bytree=0.8, eval_metric=aucpr, gamma=0.5, learning_rate=0.001, max_depth=10, min_child_weight=7.0, n_estimators=100, reg_lambda=1.0, silent=False, subsample=0.8; total time=   0.2s\n",
            "[CV] END colsample_bylevel=0.8, colsample_bytree=0.8, eval_metric=aucpr, gamma=0.5, learning_rate=0.001, max_depth=10, min_child_weight=7.0, n_estimators=100, reg_lambda=1.0, silent=False, subsample=0.8; total time=   0.2s\n",
            "[CV] END colsample_bylevel=0.5, colsample_bytree=0.4, eval_metric=auc, gamma=0.25, learning_rate=0.001, max_depth=10, min_child_weight=7.0, n_estimators=500, reg_lambda=100.0, silent=False, subsample=0.6; total time=   0.3s\n",
            "[CV] END colsample_bylevel=0.5, colsample_bytree=0.4, eval_metric=auc, gamma=0.25, learning_rate=0.001, max_depth=10, min_child_weight=7.0, n_estimators=500, reg_lambda=100.0, silent=False, subsample=0.6; total time=   0.3s\n",
            "[CV] END colsample_bylevel=0.4, colsample_bytree=0.4, eval_metric=auc, gamma=1.0, learning_rate=1, max_depth=20, min_child_weight=3.0, n_estimators=500, reg_lambda=100.0, silent=False, subsample=1.0; total time=   0.3s\n",
            "[CV] END colsample_bylevel=0.4, colsample_bytree=0.4, eval_metric=auc, gamma=1.0, learning_rate=1, max_depth=20, min_child_weight=3.0, n_estimators=500, reg_lambda=100.0, silent=False, subsample=1.0; total time=   0.4s\n",
            "[CV] END colsample_bylevel=0.5, colsample_bytree=0.9, eval_metric=aucpr, gamma=0.25, learning_rate=0.1, max_depth=6, min_child_weight=7.0, n_estimators=100, reg_lambda=5.0, silent=False, subsample=0.9; total time=   0.1s\n",
            "[CV] END colsample_bylevel=0.5, colsample_bytree=0.9, eval_metric=aucpr, gamma=0.25, learning_rate=0.1, max_depth=6, min_child_weight=7.0, n_estimators=100, reg_lambda=5.0, silent=False, subsample=0.9; total time=   0.1s\n",
            "[CV] END colsample_bylevel=0.5, colsample_bytree=1.0, eval_metric=aucpr, gamma=1.0, learning_rate=0.2, max_depth=15, min_child_weight=3.0, n_estimators=100, reg_lambda=5.0, silent=False, subsample=1.0; total time=   0.1s\n",
            "[CV] END colsample_bylevel=0.5, colsample_bytree=1.0, eval_metric=aucpr, gamma=1.0, learning_rate=0.2, max_depth=15, min_child_weight=3.0, n_estimators=100, reg_lambda=5.0, silent=False, subsample=1.0; total time=   0.2s\n",
            "[CV] END colsample_bylevel=0.5, colsample_bytree=0.9, eval_metric=auc, gamma=0, learning_rate=1, max_depth=10, min_child_weight=5.0, n_estimators=100, reg_lambda=100.0, silent=False, subsample=0.6; total time=   0.1s\n",
            "[CV] END colsample_bylevel=0.5, colsample_bytree=0.9, eval_metric=auc, gamma=0, learning_rate=1, max_depth=10, min_child_weight=5.0, n_estimators=100, reg_lambda=100.0, silent=False, subsample=0.6; total time=   0.1s\n",
            "Randomized search time: 12.458030700683594\n",
            "Best score: 0.14285714285714285\n",
            "Best params: \n",
            "colsample_bylevel: 0.6\n",
            "colsample_bytree: 1.0\n",
            "eval_metric: 'auc'\n",
            "gamma: 0\n",
            "learning_rate: 1\n",
            "max_depth: 20\n",
            "min_child_weight: 7.0\n",
            "n_estimators: 300\n",
            "reg_lambda: 10.0\n",
            "silent: False\n",
            "subsample: 0.9\n"
          ]
        }
      ],
      "source": [
        "clf = xgb.XGBClassifier()\n",
        "\n",
        "param_grid = {\n",
        "        'silent': [False],\n",
        "        'max_depth': [6, 10, 15, 20],\n",
        "        'learning_rate': [0.001, 0.01, 0.1, 0.2, 1],\n",
        "        'subsample': [0.5, 0.6, 0.7, 0.8, 0.9, 1.0],\n",
        "        'colsample_bytree': [0.4, 0.5, 0.6, 0.7, 0.8, 0.9, 1.0],\n",
        "        'colsample_bylevel': [0.4, 0.5, 0.6, 0.7, 0.8, 0.9, 1.0],\n",
        "        'min_child_weight': [0.5, 1.0, 3.0, 5.0, 7.0, 10.0],\n",
        "        'gamma': [0, 0.25, 0.5, 1.0],\n",
        "        'reg_lambda': [0.1, 1.0, 5.0, 10.0, 50.0, 100.0],\n",
        "        'n_estimators': [100, 300, 500],\n",
        "        'eval_metric': ['aucpr', 'auc']}\n",
        "\n",
        "fit_params = {'eval_metric': 'mlogloss',\n",
        "              'early_stopping_rounds': 10}\n",
        "\n",
        "rs_clf = RandomizedSearchCV(clf, param_grid, n_iter=20,\n",
        "                            n_jobs=1, verbose=2, cv=2,\n",
        "                            scoring='f1',random_state=42)\n",
        "print(\"Randomized search..\")\n",
        "search_time_start = time.time()\n",
        "rs_clf.fit(X_train, y_train)\n",
        "print(\"Randomized search time:\", time.time() - search_time_start)\n",
        "\n",
        "best_score = rs_clf.best_score_\n",
        "best_params = rs_clf.best_params_\n",
        "print(\"Best score: {}\".format(best_score))\n",
        "print(\"Best params: \")\n",
        "for param_name in sorted(best_params.keys()):\n",
        "    print('%s: %r' % (param_name, best_params[param_name]))"
      ]
    },
    {
      "cell_type": "code",
      "execution_count": null,
      "metadata": {
        "id": "1_75YXvesW5N"
      },
      "outputs": [],
      "source": [
        "y_xg_pred = rs_clf.predict(X_test)"
      ]
    },
    {
      "cell_type": "code",
      "execution_count": null,
      "metadata": {
        "colab": {
          "base_uri": "https://localhost:8080/"
        },
        "outputId": "49329f3a-0026-4b4a-ce25-1d922972fac0",
        "id": "5KC3hi0tsW5N"
      },
      "outputs": [
        {
          "name": "stdout",
          "output_type": "stream",
          "text": [
            "Accuracy =  0.9686057248384118\n",
            "Precision =  0.16666666666666666\n",
            "Recall =  0.03333333333333333\n",
            "F1 Score =  0.05555555555555555\n"
          ]
        }
      ],
      "source": [
        "scores(y_test, y_xg_pred)"
      ]
    },
    {
      "cell_type": "code",
      "execution_count": null,
      "metadata": {
        "colab": {
          "base_uri": "https://localhost:8080/"
        },
        "outputId": "72be221b-1c04-4a0a-9a42-d569d0581b39",
        "id": "6MzmqBlDsW5N"
      },
      "outputs": [
        {
          "data": {
            "text/plain": [
              "array([[1048,    5],\n",
              "       [  29,    1]])"
            ]
          },
          "execution_count": 109,
          "metadata": {},
          "output_type": "execute_result"
        }
      ],
      "source": [
        "conf(y_test, y_xg_pred)"
      ]
    },
    {
      "cell_type": "markdown",
      "metadata": {
        "id": "u6xfzt55sW5N"
      },
      "source": [
        "# Boosting + SMOTE"
      ]
    },
    {
      "cell_type": "code",
      "execution_count": null,
      "metadata": {
        "colab": {
          "base_uri": "https://localhost:8080/"
        },
        "outputId": "c08ba151-7393-4b7c-ddd7-d890105dfe59",
        "id": "VGvGoAgDsW5N"
      },
      "outputs": [
        {
          "name": "stdout",
          "output_type": "stream",
          "text": [
            "Randomized search..\n",
            "Fitting 2 folds for each of 20 candidates, totalling 40 fits\n",
            "[CV] END colsample_bylevel=0.6, colsample_bytree=0.6, eval_metric=aucpr, gamma=0.5, learning_rate=0.2, max_depth=6, min_child_weight=1.0, n_estimators=300, reg_lambda=10.0, silent=False, subsample=1.0; total time=   1.2s\n",
            "[CV] END colsample_bylevel=0.6, colsample_bytree=0.6, eval_metric=aucpr, gamma=0.5, learning_rate=0.2, max_depth=6, min_child_weight=1.0, n_estimators=300, reg_lambda=10.0, silent=False, subsample=1.0; total time=   1.3s\n",
            "[CV] END colsample_bylevel=0.9, colsample_bytree=1.0, eval_metric=auc, gamma=0, learning_rate=0.001, max_depth=15, min_child_weight=10.0, n_estimators=100, reg_lambda=5.0, silent=False, subsample=0.9; total time=   0.9s\n",
            "[CV] END colsample_bylevel=0.9, colsample_bytree=1.0, eval_metric=auc, gamma=0, learning_rate=0.001, max_depth=15, min_child_weight=10.0, n_estimators=100, reg_lambda=5.0, silent=False, subsample=0.9; total time=   1.0s\n",
            "[CV] END colsample_bylevel=1.0, colsample_bytree=0.9, eval_metric=auc, gamma=0, learning_rate=0.001, max_depth=15, min_child_weight=5.0, n_estimators=300, reg_lambda=50.0, silent=False, subsample=0.9; total time=   3.0s\n",
            "[CV] END colsample_bylevel=1.0, colsample_bytree=0.9, eval_metric=auc, gamma=0, learning_rate=0.001, max_depth=15, min_child_weight=5.0, n_estimators=300, reg_lambda=50.0, silent=False, subsample=0.9; total time=   3.5s\n",
            "[CV] END colsample_bylevel=0.7, colsample_bytree=0.4, eval_metric=auc, gamma=0, learning_rate=0.1, max_depth=6, min_child_weight=1.0, n_estimators=500, reg_lambda=0.1, silent=False, subsample=1.0; total time=   1.1s\n",
            "[CV] END colsample_bylevel=0.7, colsample_bytree=0.4, eval_metric=auc, gamma=0, learning_rate=0.1, max_depth=6, min_child_weight=1.0, n_estimators=500, reg_lambda=0.1, silent=False, subsample=1.0; total time=   1.2s\n",
            "[CV] END colsample_bylevel=0.6, colsample_bytree=0.5, eval_metric=aucpr, gamma=0.25, learning_rate=0.001, max_depth=15, min_child_weight=10.0, n_estimators=100, reg_lambda=1.0, silent=False, subsample=0.9; total time=   0.5s\n",
            "[CV] END colsample_bylevel=0.6, colsample_bytree=0.5, eval_metric=aucpr, gamma=0.25, learning_rate=0.001, max_depth=15, min_child_weight=10.0, n_estimators=100, reg_lambda=1.0, silent=False, subsample=0.9; total time=   0.5s\n",
            "[CV] END colsample_bylevel=0.5, colsample_bytree=0.7, eval_metric=auc, gamma=1.0, learning_rate=0.2, max_depth=10, min_child_weight=1.0, n_estimators=100, reg_lambda=10.0, silent=False, subsample=0.9; total time=   0.6s\n",
            "[CV] END colsample_bylevel=0.5, colsample_bytree=0.7, eval_metric=auc, gamma=1.0, learning_rate=0.2, max_depth=10, min_child_weight=1.0, n_estimators=100, reg_lambda=10.0, silent=False, subsample=0.9; total time=   0.6s\n",
            "[CV] END colsample_bylevel=0.9, colsample_bytree=0.8, eval_metric=aucpr, gamma=0, learning_rate=0.001, max_depth=15, min_child_weight=0.5, n_estimators=300, reg_lambda=100.0, silent=False, subsample=1.0; total time=   4.2s\n",
            "[CV] END colsample_bylevel=0.9, colsample_bytree=0.8, eval_metric=aucpr, gamma=0, learning_rate=0.001, max_depth=15, min_child_weight=0.5, n_estimators=300, reg_lambda=100.0, silent=False, subsample=1.0; total time=   4.5s\n",
            "[CV] END colsample_bylevel=0.5, colsample_bytree=0.8, eval_metric=auc, gamma=1.0, learning_rate=0.2, max_depth=10, min_child_weight=3.0, n_estimators=300, reg_lambda=100.0, silent=False, subsample=1.0; total time=   1.5s\n",
            "[CV] END colsample_bylevel=0.5, colsample_bytree=0.8, eval_metric=auc, gamma=1.0, learning_rate=0.2, max_depth=10, min_child_weight=3.0, n_estimators=300, reg_lambda=100.0, silent=False, subsample=1.0; total time=   1.6s\n",
            "[CV] END colsample_bylevel=1.0, colsample_bytree=0.5, eval_metric=aucpr, gamma=0.25, learning_rate=0.001, max_depth=10, min_child_weight=10.0, n_estimators=500, reg_lambda=1.0, silent=False, subsample=1.0; total time=   3.6s\n",
            "[CV] END colsample_bylevel=1.0, colsample_bytree=0.5, eval_metric=aucpr, gamma=0.25, learning_rate=0.001, max_depth=10, min_child_weight=10.0, n_estimators=500, reg_lambda=1.0, silent=False, subsample=1.0; total time=   4.0s\n",
            "[CV] END colsample_bylevel=0.6, colsample_bytree=1.0, eval_metric=auc, gamma=0, learning_rate=1, max_depth=20, min_child_weight=7.0, n_estimators=300, reg_lambda=10.0, silent=False, subsample=0.9; total time=   0.6s\n",
            "[CV] END colsample_bylevel=0.6, colsample_bytree=1.0, eval_metric=auc, gamma=0, learning_rate=1, max_depth=20, min_child_weight=7.0, n_estimators=300, reg_lambda=10.0, silent=False, subsample=0.9; total time=   0.7s\n",
            "[CV] END colsample_bylevel=1.0, colsample_bytree=0.5, eval_metric=auc, gamma=0.25, learning_rate=0.001, max_depth=6, min_child_weight=10.0, n_estimators=500, reg_lambda=5.0, silent=False, subsample=1.0; total time=   2.8s\n",
            "[CV] END colsample_bylevel=1.0, colsample_bytree=0.5, eval_metric=auc, gamma=0.25, learning_rate=0.001, max_depth=6, min_child_weight=10.0, n_estimators=500, reg_lambda=5.0, silent=False, subsample=1.0; total time=   2.9s\n",
            "[CV] END colsample_bylevel=1.0, colsample_bytree=1.0, eval_metric=aucpr, gamma=0, learning_rate=0.01, max_depth=20, min_child_weight=5.0, n_estimators=100, reg_lambda=0.1, silent=False, subsample=1.0; total time=   1.9s\n",
            "[CV] END colsample_bylevel=1.0, colsample_bytree=1.0, eval_metric=aucpr, gamma=0, learning_rate=0.01, max_depth=20, min_child_weight=5.0, n_estimators=100, reg_lambda=0.1, silent=False, subsample=1.0; total time=   2.1s\n",
            "[CV] END colsample_bylevel=0.6, colsample_bytree=0.7, eval_metric=aucpr, gamma=0, learning_rate=0.01, max_depth=15, min_child_weight=7.0, n_estimators=100, reg_lambda=1.0, silent=False, subsample=1.0; total time=   0.7s\n",
            "[CV] END colsample_bylevel=0.6, colsample_bytree=0.7, eval_metric=aucpr, gamma=0, learning_rate=0.01, max_depth=15, min_child_weight=7.0, n_estimators=100, reg_lambda=1.0, silent=False, subsample=1.0; total time=   0.8s\n",
            "[CV] END colsample_bylevel=1.0, colsample_bytree=0.5, eval_metric=auc, gamma=0, learning_rate=1, max_depth=10, min_child_weight=3.0, n_estimators=300, reg_lambda=50.0, silent=False, subsample=0.6; total time=   0.9s\n",
            "[CV] END colsample_bylevel=1.0, colsample_bytree=0.5, eval_metric=auc, gamma=0, learning_rate=1, max_depth=10, min_child_weight=3.0, n_estimators=300, reg_lambda=50.0, silent=False, subsample=0.6; total time=   0.9s\n",
            "[CV] END colsample_bylevel=0.8, colsample_bytree=0.8, eval_metric=aucpr, gamma=0.5, learning_rate=0.001, max_depth=10, min_child_weight=7.0, n_estimators=100, reg_lambda=1.0, silent=False, subsample=0.8; total time=   0.8s\n",
            "[CV] END colsample_bylevel=0.8, colsample_bytree=0.8, eval_metric=aucpr, gamma=0.5, learning_rate=0.001, max_depth=10, min_child_weight=7.0, n_estimators=100, reg_lambda=1.0, silent=False, subsample=0.8; total time=   0.9s\n",
            "[CV] END colsample_bylevel=0.5, colsample_bytree=0.4, eval_metric=auc, gamma=0.25, learning_rate=0.001, max_depth=10, min_child_weight=7.0, n_estimators=500, reg_lambda=100.0, silent=False, subsample=0.6; total time=   1.2s\n",
            "[CV] END colsample_bylevel=0.5, colsample_bytree=0.4, eval_metric=auc, gamma=0.25, learning_rate=0.001, max_depth=10, min_child_weight=7.0, n_estimators=500, reg_lambda=100.0, silent=False, subsample=0.6; total time=   1.3s\n",
            "[CV] END colsample_bylevel=0.4, colsample_bytree=0.4, eval_metric=auc, gamma=1.0, learning_rate=1, max_depth=20, min_child_weight=3.0, n_estimators=500, reg_lambda=100.0, silent=False, subsample=1.0; total time=   1.2s\n",
            "[CV] END colsample_bylevel=0.4, colsample_bytree=0.4, eval_metric=auc, gamma=1.0, learning_rate=1, max_depth=20, min_child_weight=3.0, n_estimators=500, reg_lambda=100.0, silent=False, subsample=1.0; total time=   1.2s\n",
            "[CV] END colsample_bylevel=0.5, colsample_bytree=0.9, eval_metric=aucpr, gamma=0.25, learning_rate=0.1, max_depth=6, min_child_weight=7.0, n_estimators=100, reg_lambda=5.0, silent=False, subsample=0.9; total time=   0.4s\n",
            "[CV] END colsample_bylevel=0.5, colsample_bytree=0.9, eval_metric=aucpr, gamma=0.25, learning_rate=0.1, max_depth=6, min_child_weight=7.0, n_estimators=100, reg_lambda=5.0, silent=False, subsample=0.9; total time=   0.5s\n",
            "[CV] END colsample_bylevel=0.5, colsample_bytree=1.0, eval_metric=aucpr, gamma=1.0, learning_rate=0.2, max_depth=15, min_child_weight=3.0, n_estimators=100, reg_lambda=5.0, silent=False, subsample=1.0; total time=   0.6s\n",
            "[CV] END colsample_bylevel=0.5, colsample_bytree=1.0, eval_metric=aucpr, gamma=1.0, learning_rate=0.2, max_depth=15, min_child_weight=3.0, n_estimators=100, reg_lambda=5.0, silent=False, subsample=1.0; total time=   0.6s\n",
            "[CV] END colsample_bylevel=0.5, colsample_bytree=0.9, eval_metric=auc, gamma=0, learning_rate=1, max_depth=10, min_child_weight=5.0, n_estimators=100, reg_lambda=100.0, silent=False, subsample=0.6; total time=   0.3s\n",
            "[CV] END colsample_bylevel=0.5, colsample_bytree=0.9, eval_metric=auc, gamma=0, learning_rate=1, max_depth=10, min_child_weight=5.0, n_estimators=100, reg_lambda=100.0, silent=False, subsample=0.6; total time=   0.4s\n",
            "Randomized search time: 60.91579508781433\n",
            "Best score: 0.9820654155920049\n",
            "Best params: \n",
            "colsample_bylevel: 0.7\n",
            "colsample_bytree: 0.4\n",
            "eval_metric: 'auc'\n",
            "gamma: 0\n",
            "learning_rate: 0.1\n",
            "max_depth: 6\n",
            "min_child_weight: 1.0\n",
            "n_estimators: 500\n",
            "reg_lambda: 0.1\n",
            "silent: False\n",
            "subsample: 1.0\n"
          ]
        }
      ],
      "source": [
        "clf = xgb.XGBClassifier()яя\n",
        "\n",
        "param_grid = {\n",
        "        'silent': [False],\n",
        "        'max_depth': [6, 10, 15, 20],\n",
        "        'learning_rate': [0.001, 0.01, 0.1, 0.2, 1],\n",
        "        'subsample': [0.5, 0.6, 0.7, 0.8, 0.9, 1.0],\n",
        "        'colsample_bytree': [0.4, 0.5, 0.6, 0.7, 0.8, 0.9, 1.0],\n",
        "        'colsample_bylevel': [0.4, 0.5, 0.6, 0.7, 0.8, 0.9, 1.0],\n",
        "        'min_child_weight': [0.5, 1.0, 3.0, 5.0, 7.0, 10.0],\n",
        "        'gamma': [0, 0.25, 0.5, 1.0],\n",
        "        'reg_lambda': [0.1, 1.0, 5.0, 10.0, 50.0, 100.0],\n",
        "        'n_estimators': [100, 300, 500],\n",
        "        'eval_metric': ['aucpr', 'auc']}\n",
        "rs_clf = RandomizedSearchCV(clf, param_grid, n_iter=20,\n",
        "                            n_jobs=1, verbose=2, cv=2,\n",
        "                            scoring='f1',random_state=42)\n",
        "print(\"Randomized search..\")\n",
        "search_time_start = time.time()\n",
        "rs_clf.fit(X_train_smote, y_train_smote)\n",
        "print(\"Randomized search time:\", time.time() - search_time_start)\n",
        "\n",
        "best_score = rs_clf.best_score_\n",
        "best_params = rs_clf.best_params_\n",
        "print(\"Best score: {}\".format(best_score))\n",
        "print(\"Best params: \")\n",
        "for param_name in sorted(best_params.keys()):\n",
        "    print('%s: %r' % (param_name, best_params[param_name]))"
      ]
    },
    {
      "cell_type": "code",
      "execution_count": null,
      "metadata": {
        "id": "2bxY-WFtsW5N"
      },
      "outputs": [],
      "source": [
        "y_xg_pred = rs_clf.predict(X_test)"
      ]
    },
    {
      "cell_type": "code",
      "execution_count": null,
      "metadata": {
        "colab": {
          "base_uri": "https://localhost:8080/"
        },
        "outputId": "06b56f1f-b566-4b17-d511-9f39169960dc",
        "id": "0sM8uO40sW5N"
      },
      "outputs": [
        {
          "name": "stdout",
          "output_type": "stream",
          "text": [
            "Accuracy =  0.9676823638042474\n",
            "Precision =  0.2222222222222222\n",
            "Recall =  0.06666666666666667\n",
            "F1 Score =  0.10256410256410256\n"
          ]
        }
      ],
      "source": [
        "scores(y_test, y_xg_pred)"
      ]
    },
    {
      "cell_type": "code",
      "execution_count": null,
      "metadata": {
        "colab": {
          "base_uri": "https://localhost:8080/"
        },
        "outputId": "dfa1f414-32f2-405c-89ef-3ffedcf39ca9",
        "id": "pAlAHqxUsW5O"
      },
      "outputs": [
        {
          "data": {
            "text/plain": [
              "array([[1046,    7],\n",
              "       [  28,    2]])"
            ]
          },
          "execution_count": 113,
          "metadata": {},
          "output_type": "execute_result"
        }
      ],
      "source": [
        "conf(y_test, y_xg_pred)"
      ]
    },
    {
      "cell_type": "markdown",
      "metadata": {
        "id": "CBNk5v_esW5O"
      },
      "source": [
        "# Standard Bagging"
      ]
    },
    {
      "cell_type": "code",
      "execution_count": null,
      "metadata": {
        "id": "u6PE67UvsW5O"
      },
      "outputs": [],
      "source": [
        "model = BaggingClassifier()"
      ]
    },
    {
      "cell_type": "code",
      "execution_count": null,
      "metadata": {
        "id": "mGm16dIAsW5O"
      },
      "outputs": [],
      "source": [
        "cv = RepeatedStratifiedKFold(n_splits=10, n_repeats=3, random_state=1)\n",
        "scores = cross_val_score(model, X, y, scoring='recall', cv=cv, n_jobs=-1)"
      ]
    },
    {
      "cell_type": "code",
      "execution_count": null,
      "metadata": {
        "colab": {
          "base_uri": "https://localhost:8080/"
        },
        "outputId": "87ada1e5-46d8-46c8-ddee-7171a472159e",
        "id": "Qzlfi8AYsW5O"
      },
      "outputs": [
        {
          "name": "stdout",
          "output_type": "stream",
          "text": [
            "Mean Recall: 0.052\n"
          ]
        }
      ],
      "source": [
        "print('Mean Recall: %.3f' % np.mean(scores))"
      ]
    },
    {
      "cell_type": "markdown",
      "metadata": {
        "id": "yNJ5qyoNsW5O"
      },
      "source": [
        "# Standard Random Forest"
      ]
    },
    {
      "cell_type": "code",
      "execution_count": null,
      "metadata": {
        "colab": {
          "base_uri": "https://localhost:8080/"
        },
        "outputId": "1c7fa64d-9a9c-4dc7-a581-201b691e0795",
        "id": "4TIvgWWHsW5P"
      },
      "outputs": [
        {
          "name": "stdout",
          "output_type": "stream",
          "text": [
            "ROC AUC: 0.711\n",
            "Precision: 0.233\n",
            "Recall: 0.048\n"
          ]
        }
      ],
      "source": [
        "model = RandomForestClassifier(n_estimators=10)\n",
        "cv = RepeatedStratifiedKFold(n_splits=10, n_repeats=3, random_state=1)\n",
        "recall = cross_val_score(model, X, y, scoring='recall', cv=cv, n_jobs=-1)\n",
        "precision = cross_val_score(model, X, y, scoring='precision', cv=cv, n_jobs=-1)\n",
        "auc = cross_val_score(model, X, y, scoring='roc_auc', cv=cv, n_jobs=-1)\n",
        "print('ROC AUC: %.3f' % np.mean(auc))\n",
        "print('Precision: %.3f' % np.mean(precision))\n",
        "print('Recall: %.3f' % np.mean(recall))"
      ]
    },
    {
      "cell_type": "markdown",
      "metadata": {
        "id": "spy97sp-sW5P"
      },
      "source": [
        "# Random Forest With Class Weighting"
      ]
    },
    {
      "cell_type": "code",
      "execution_count": null,
      "metadata": {
        "colab": {
          "base_uri": "https://localhost:8080/",
          "height": 387
        },
        "outputId": "df57c8d3-423e-4a72-8723-7621dd0fd0c3",
        "id": "dS9xYoy5sW5P"
      },
      "outputs": [
        {
          "ename": "KeyboardInterrupt",
          "evalue": "ignored",
          "output_type": "error",
          "traceback": [
            "\u001b[0;31m---------------------------------------------------------------------------\u001b[0m",
            "\u001b[0;31mKeyboardInterrupt\u001b[0m                         Traceback (most recent call last)",
            "\u001b[0;32m<ipython-input-137-7658afce5445>\u001b[0m in \u001b[0;36m<module>\u001b[0;34m()\u001b[0m\n\u001b[1;32m      1\u001b[0m \u001b[0mmodel\u001b[0m \u001b[0;34m=\u001b[0m \u001b[0mRandomForestClassifier\u001b[0m\u001b[0;34m(\u001b[0m\u001b[0mn_estimators\u001b[0m\u001b[0;34m=\u001b[0m\u001b[0;36m100\u001b[0m\u001b[0;34m,\u001b[0m \u001b[0mclass_weight\u001b[0m\u001b[0;34m=\u001b[0m\u001b[0;34m'balanced'\u001b[0m\u001b[0;34m)\u001b[0m\u001b[0;34m\u001b[0m\u001b[0;34m\u001b[0m\u001b[0m\n\u001b[1;32m      2\u001b[0m \u001b[0mcv\u001b[0m \u001b[0;34m=\u001b[0m \u001b[0mRepeatedStratifiedKFold\u001b[0m\u001b[0;34m(\u001b[0m\u001b[0mn_splits\u001b[0m\u001b[0;34m=\u001b[0m\u001b[0;36m10\u001b[0m\u001b[0;34m,\u001b[0m \u001b[0mn_repeats\u001b[0m\u001b[0;34m=\u001b[0m\u001b[0;36m3\u001b[0m\u001b[0;34m,\u001b[0m \u001b[0mrandom_state\u001b[0m\u001b[0;34m=\u001b[0m\u001b[0;36m1\u001b[0m\u001b[0;34m)\u001b[0m\u001b[0;34m\u001b[0m\u001b[0;34m\u001b[0m\u001b[0m\n\u001b[0;32m----> 3\u001b[0;31m \u001b[0mrecall\u001b[0m \u001b[0;34m=\u001b[0m \u001b[0mcross_val_score\u001b[0m\u001b[0;34m(\u001b[0m\u001b[0mmodel\u001b[0m\u001b[0;34m,\u001b[0m \u001b[0mX\u001b[0m\u001b[0;34m,\u001b[0m \u001b[0my\u001b[0m\u001b[0;34m,\u001b[0m \u001b[0mscoring\u001b[0m\u001b[0;34m=\u001b[0m\u001b[0;34m'recall'\u001b[0m\u001b[0;34m,\u001b[0m \u001b[0mcv\u001b[0m\u001b[0;34m=\u001b[0m\u001b[0mcv\u001b[0m\u001b[0;34m,\u001b[0m \u001b[0mn_jobs\u001b[0m\u001b[0;34m=\u001b[0m\u001b[0;34m-\u001b[0m\u001b[0;36m1\u001b[0m\u001b[0;34m)\u001b[0m\u001b[0;34m\u001b[0m\u001b[0;34m\u001b[0m\u001b[0m\n\u001b[0m\u001b[1;32m      4\u001b[0m \u001b[0mprecision\u001b[0m \u001b[0;34m=\u001b[0m \u001b[0mcross_val_score\u001b[0m\u001b[0;34m(\u001b[0m\u001b[0mmodel\u001b[0m\u001b[0;34m,\u001b[0m \u001b[0mX\u001b[0m\u001b[0;34m,\u001b[0m \u001b[0my\u001b[0m\u001b[0;34m,\u001b[0m \u001b[0mscoring\u001b[0m\u001b[0;34m=\u001b[0m\u001b[0;34m'precision'\u001b[0m\u001b[0;34m,\u001b[0m \u001b[0mcv\u001b[0m\u001b[0;34m=\u001b[0m\u001b[0mcv\u001b[0m\u001b[0;34m,\u001b[0m \u001b[0mn_jobs\u001b[0m\u001b[0;34m=\u001b[0m\u001b[0;34m-\u001b[0m\u001b[0;36m1\u001b[0m\u001b[0;34m)\u001b[0m\u001b[0;34m\u001b[0m\u001b[0;34m\u001b[0m\u001b[0m\n\u001b[1;32m      5\u001b[0m \u001b[0mauc\u001b[0m \u001b[0;34m=\u001b[0m \u001b[0mcross_val_score\u001b[0m\u001b[0;34m(\u001b[0m\u001b[0mmodel\u001b[0m\u001b[0;34m,\u001b[0m \u001b[0mX\u001b[0m\u001b[0;34m,\u001b[0m \u001b[0my\u001b[0m\u001b[0;34m,\u001b[0m \u001b[0mscoring\u001b[0m\u001b[0;34m=\u001b[0m\u001b[0;34m'roc_auc'\u001b[0m\u001b[0;34m,\u001b[0m \u001b[0mcv\u001b[0m\u001b[0;34m=\u001b[0m\u001b[0mcv\u001b[0m\u001b[0;34m,\u001b[0m \u001b[0mn_jobs\u001b[0m\u001b[0;34m=\u001b[0m\u001b[0;34m-\u001b[0m\u001b[0;36m1\u001b[0m\u001b[0;34m)\u001b[0m\u001b[0;34m\u001b[0m\u001b[0;34m\u001b[0m\u001b[0m\n",
            "\u001b[0;32m/usr/local/lib/python3.7/dist-packages/sklearn/model_selection/_validation.py\u001b[0m in \u001b[0;36mcross_val_score\u001b[0;34m(estimator, X, y, groups, scoring, cv, n_jobs, verbose, fit_params, pre_dispatch, error_score)\u001b[0m\n\u001b[1;32m    518\u001b[0m         \u001b[0mfit_params\u001b[0m\u001b[0;34m=\u001b[0m\u001b[0mfit_params\u001b[0m\u001b[0;34m,\u001b[0m\u001b[0;34m\u001b[0m\u001b[0;34m\u001b[0m\u001b[0m\n\u001b[1;32m    519\u001b[0m         \u001b[0mpre_dispatch\u001b[0m\u001b[0;34m=\u001b[0m\u001b[0mpre_dispatch\u001b[0m\u001b[0;34m,\u001b[0m\u001b[0;34m\u001b[0m\u001b[0;34m\u001b[0m\u001b[0m\n\u001b[0;32m--> 520\u001b[0;31m         \u001b[0merror_score\u001b[0m\u001b[0;34m=\u001b[0m\u001b[0merror_score\u001b[0m\u001b[0;34m,\u001b[0m\u001b[0;34m\u001b[0m\u001b[0;34m\u001b[0m\u001b[0m\n\u001b[0m\u001b[1;32m    521\u001b[0m     )\n\u001b[1;32m    522\u001b[0m     \u001b[0;32mreturn\u001b[0m \u001b[0mcv_results\u001b[0m\u001b[0;34m[\u001b[0m\u001b[0;34m\"test_score\"\u001b[0m\u001b[0;34m]\u001b[0m\u001b[0;34m\u001b[0m\u001b[0;34m\u001b[0m\u001b[0m\n",
            "\u001b[0;32m/usr/local/lib/python3.7/dist-packages/sklearn/model_selection/_validation.py\u001b[0m in \u001b[0;36mcross_validate\u001b[0;34m(estimator, X, y, groups, scoring, cv, n_jobs, verbose, fit_params, pre_dispatch, return_train_score, return_estimator, error_score)\u001b[0m\n\u001b[1;32m    281\u001b[0m             \u001b[0merror_score\u001b[0m\u001b[0;34m=\u001b[0m\u001b[0merror_score\u001b[0m\u001b[0;34m,\u001b[0m\u001b[0;34m\u001b[0m\u001b[0;34m\u001b[0m\u001b[0m\n\u001b[1;32m    282\u001b[0m         )\n\u001b[0;32m--> 283\u001b[0;31m         \u001b[0;32mfor\u001b[0m \u001b[0mtrain\u001b[0m\u001b[0;34m,\u001b[0m \u001b[0mtest\u001b[0m \u001b[0;32min\u001b[0m \u001b[0mcv\u001b[0m\u001b[0;34m.\u001b[0m\u001b[0msplit\u001b[0m\u001b[0;34m(\u001b[0m\u001b[0mX\u001b[0m\u001b[0;34m,\u001b[0m \u001b[0my\u001b[0m\u001b[0;34m,\u001b[0m \u001b[0mgroups\u001b[0m\u001b[0;34m)\u001b[0m\u001b[0;34m\u001b[0m\u001b[0;34m\u001b[0m\u001b[0m\n\u001b[0m\u001b[1;32m    284\u001b[0m     )\n\u001b[1;32m    285\u001b[0m \u001b[0;34m\u001b[0m\u001b[0m\n",
            "\u001b[0;32m/usr/local/lib/python3.7/dist-packages/joblib/parallel.py\u001b[0m in \u001b[0;36m__call__\u001b[0;34m(self, iterable)\u001b[0m\n\u001b[1;32m   1054\u001b[0m \u001b[0;34m\u001b[0m\u001b[0m\n\u001b[1;32m   1055\u001b[0m             \u001b[0;32mwith\u001b[0m \u001b[0mself\u001b[0m\u001b[0;34m.\u001b[0m\u001b[0m_backend\u001b[0m\u001b[0;34m.\u001b[0m\u001b[0mretrieval_context\u001b[0m\u001b[0;34m(\u001b[0m\u001b[0;34m)\u001b[0m\u001b[0;34m:\u001b[0m\u001b[0;34m\u001b[0m\u001b[0;34m\u001b[0m\u001b[0m\n\u001b[0;32m-> 1056\u001b[0;31m                 \u001b[0mself\u001b[0m\u001b[0;34m.\u001b[0m\u001b[0mretrieve\u001b[0m\u001b[0;34m(\u001b[0m\u001b[0;34m)\u001b[0m\u001b[0;34m\u001b[0m\u001b[0;34m\u001b[0m\u001b[0m\n\u001b[0m\u001b[1;32m   1057\u001b[0m             \u001b[0;31m# Make sure that we get a last message telling us we are done\u001b[0m\u001b[0;34m\u001b[0m\u001b[0;34m\u001b[0m\u001b[0;34m\u001b[0m\u001b[0m\n\u001b[1;32m   1058\u001b[0m             \u001b[0melapsed_time\u001b[0m \u001b[0;34m=\u001b[0m \u001b[0mtime\u001b[0m\u001b[0;34m.\u001b[0m\u001b[0mtime\u001b[0m\u001b[0;34m(\u001b[0m\u001b[0;34m)\u001b[0m \u001b[0;34m-\u001b[0m \u001b[0mself\u001b[0m\u001b[0;34m.\u001b[0m\u001b[0m_start_time\u001b[0m\u001b[0;34m\u001b[0m\u001b[0;34m\u001b[0m\u001b[0m\n",
            "\u001b[0;32m/usr/local/lib/python3.7/dist-packages/joblib/parallel.py\u001b[0m in \u001b[0;36mretrieve\u001b[0;34m(self)\u001b[0m\n\u001b[1;32m    933\u001b[0m             \u001b[0;32mtry\u001b[0m\u001b[0;34m:\u001b[0m\u001b[0;34m\u001b[0m\u001b[0;34m\u001b[0m\u001b[0m\n\u001b[1;32m    934\u001b[0m                 \u001b[0;32mif\u001b[0m \u001b[0mgetattr\u001b[0m\u001b[0;34m(\u001b[0m\u001b[0mself\u001b[0m\u001b[0;34m.\u001b[0m\u001b[0m_backend\u001b[0m\u001b[0;34m,\u001b[0m \u001b[0;34m'supports_timeout'\u001b[0m\u001b[0;34m,\u001b[0m \u001b[0;32mFalse\u001b[0m\u001b[0;34m)\u001b[0m\u001b[0;34m:\u001b[0m\u001b[0;34m\u001b[0m\u001b[0;34m\u001b[0m\u001b[0m\n\u001b[0;32m--> 935\u001b[0;31m                     \u001b[0mself\u001b[0m\u001b[0;34m.\u001b[0m\u001b[0m_output\u001b[0m\u001b[0;34m.\u001b[0m\u001b[0mextend\u001b[0m\u001b[0;34m(\u001b[0m\u001b[0mjob\u001b[0m\u001b[0;34m.\u001b[0m\u001b[0mget\u001b[0m\u001b[0;34m(\u001b[0m\u001b[0mtimeout\u001b[0m\u001b[0;34m=\u001b[0m\u001b[0mself\u001b[0m\u001b[0;34m.\u001b[0m\u001b[0mtimeout\u001b[0m\u001b[0;34m)\u001b[0m\u001b[0;34m)\u001b[0m\u001b[0;34m\u001b[0m\u001b[0;34m\u001b[0m\u001b[0m\n\u001b[0m\u001b[1;32m    936\u001b[0m                 \u001b[0;32melse\u001b[0m\u001b[0;34m:\u001b[0m\u001b[0;34m\u001b[0m\u001b[0;34m\u001b[0m\u001b[0m\n\u001b[1;32m    937\u001b[0m                     \u001b[0mself\u001b[0m\u001b[0;34m.\u001b[0m\u001b[0m_output\u001b[0m\u001b[0;34m.\u001b[0m\u001b[0mextend\u001b[0m\u001b[0;34m(\u001b[0m\u001b[0mjob\u001b[0m\u001b[0;34m.\u001b[0m\u001b[0mget\u001b[0m\u001b[0;34m(\u001b[0m\u001b[0;34m)\u001b[0m\u001b[0;34m)\u001b[0m\u001b[0;34m\u001b[0m\u001b[0;34m\u001b[0m\u001b[0m\n",
            "\u001b[0;32m/usr/local/lib/python3.7/dist-packages/joblib/_parallel_backends.py\u001b[0m in \u001b[0;36mwrap_future_result\u001b[0;34m(future, timeout)\u001b[0m\n\u001b[1;32m    540\u001b[0m         AsyncResults.get from multiprocessing.\"\"\"\n\u001b[1;32m    541\u001b[0m         \u001b[0;32mtry\u001b[0m\u001b[0;34m:\u001b[0m\u001b[0;34m\u001b[0m\u001b[0;34m\u001b[0m\u001b[0m\n\u001b[0;32m--> 542\u001b[0;31m             \u001b[0;32mreturn\u001b[0m \u001b[0mfuture\u001b[0m\u001b[0;34m.\u001b[0m\u001b[0mresult\u001b[0m\u001b[0;34m(\u001b[0m\u001b[0mtimeout\u001b[0m\u001b[0;34m=\u001b[0m\u001b[0mtimeout\u001b[0m\u001b[0;34m)\u001b[0m\u001b[0;34m\u001b[0m\u001b[0;34m\u001b[0m\u001b[0m\n\u001b[0m\u001b[1;32m    543\u001b[0m         \u001b[0;32mexcept\u001b[0m \u001b[0mCfTimeoutError\u001b[0m \u001b[0;32mas\u001b[0m \u001b[0me\u001b[0m\u001b[0;34m:\u001b[0m\u001b[0;34m\u001b[0m\u001b[0;34m\u001b[0m\u001b[0m\n\u001b[1;32m    544\u001b[0m             \u001b[0;32mraise\u001b[0m \u001b[0mTimeoutError\u001b[0m \u001b[0;32mfrom\u001b[0m \u001b[0me\u001b[0m\u001b[0;34m\u001b[0m\u001b[0;34m\u001b[0m\u001b[0m\n",
            "\u001b[0;32m/usr/lib/python3.7/concurrent/futures/_base.py\u001b[0m in \u001b[0;36mresult\u001b[0;34m(self, timeout)\u001b[0m\n\u001b[1;32m    428\u001b[0m                 \u001b[0;32mreturn\u001b[0m \u001b[0mself\u001b[0m\u001b[0;34m.\u001b[0m\u001b[0m__get_result\u001b[0m\u001b[0;34m(\u001b[0m\u001b[0;34m)\u001b[0m\u001b[0;34m\u001b[0m\u001b[0;34m\u001b[0m\u001b[0m\n\u001b[1;32m    429\u001b[0m \u001b[0;34m\u001b[0m\u001b[0m\n\u001b[0;32m--> 430\u001b[0;31m             \u001b[0mself\u001b[0m\u001b[0;34m.\u001b[0m\u001b[0m_condition\u001b[0m\u001b[0;34m.\u001b[0m\u001b[0mwait\u001b[0m\u001b[0;34m(\u001b[0m\u001b[0mtimeout\u001b[0m\u001b[0;34m)\u001b[0m\u001b[0;34m\u001b[0m\u001b[0;34m\u001b[0m\u001b[0m\n\u001b[0m\u001b[1;32m    431\u001b[0m \u001b[0;34m\u001b[0m\u001b[0m\n\u001b[1;32m    432\u001b[0m             \u001b[0;32mif\u001b[0m \u001b[0mself\u001b[0m\u001b[0;34m.\u001b[0m\u001b[0m_state\u001b[0m \u001b[0;32min\u001b[0m \u001b[0;34m[\u001b[0m\u001b[0mCANCELLED\u001b[0m\u001b[0;34m,\u001b[0m \u001b[0mCANCELLED_AND_NOTIFIED\u001b[0m\u001b[0;34m]\u001b[0m\u001b[0;34m:\u001b[0m\u001b[0;34m\u001b[0m\u001b[0;34m\u001b[0m\u001b[0m\n",
            "\u001b[0;32m/usr/lib/python3.7/threading.py\u001b[0m in \u001b[0;36mwait\u001b[0;34m(self, timeout)\u001b[0m\n\u001b[1;32m    294\u001b[0m         \u001b[0;32mtry\u001b[0m\u001b[0;34m:\u001b[0m    \u001b[0;31m# restore state no matter what (e.g., KeyboardInterrupt)\u001b[0m\u001b[0;34m\u001b[0m\u001b[0;34m\u001b[0m\u001b[0m\n\u001b[1;32m    295\u001b[0m             \u001b[0;32mif\u001b[0m \u001b[0mtimeout\u001b[0m \u001b[0;32mis\u001b[0m \u001b[0;32mNone\u001b[0m\u001b[0;34m:\u001b[0m\u001b[0;34m\u001b[0m\u001b[0;34m\u001b[0m\u001b[0m\n\u001b[0;32m--> 296\u001b[0;31m                 \u001b[0mwaiter\u001b[0m\u001b[0;34m.\u001b[0m\u001b[0macquire\u001b[0m\u001b[0;34m(\u001b[0m\u001b[0;34m)\u001b[0m\u001b[0;34m\u001b[0m\u001b[0;34m\u001b[0m\u001b[0m\n\u001b[0m\u001b[1;32m    297\u001b[0m                 \u001b[0mgotit\u001b[0m \u001b[0;34m=\u001b[0m \u001b[0;32mTrue\u001b[0m\u001b[0;34m\u001b[0m\u001b[0;34m\u001b[0m\u001b[0m\n\u001b[1;32m    298\u001b[0m             \u001b[0;32melse\u001b[0m\u001b[0;34m:\u001b[0m\u001b[0;34m\u001b[0m\u001b[0;34m\u001b[0m\u001b[0m\n",
            "\u001b[0;31mKeyboardInterrupt\u001b[0m: "
          ]
        }
      ],
      "source": [
        "model = RandomForestClassifier(n_estimators=100, class_weight='balanced')\n",
        "cv = RepeatedStratifiedKFold(n_splits=10, n_repeats=3, random_state=1)\n",
        "recall = cross_val_score(model, X, y, scoring='recall', cv=cv, n_jobs=-1)\n",
        "precision = cross_val_score(model, X, y, scoring='precision', cv=cv, n_jobs=-1)\n",
        "auc = cross_val_score(model, X, y, scoring='roc_auc', cv=cv, n_jobs=-1)\n",
        "print('ROC AUC: %.3f' % np.mean(auc))\n",
        "print('Precision: %.3f' % np.mean(precision))\n",
        "print('Recall: %.3f' % np.mean(recall))"
      ]
    },
    {
      "cell_type": "markdown",
      "metadata": {
        "id": "UA-0R4dlsW5P"
      },
      "source": [
        "# Random Forest With Bootstrap Class Weighting"
      ]
    },
    {
      "cell_type": "code",
      "execution_count": null,
      "metadata": {
        "colab": {
          "base_uri": "https://localhost:8080/"
        },
        "outputId": "8544d526-d94a-4832-fa0f-2dbdf5ed3a01",
        "id": "zUlwDGwPsW5P"
      },
      "outputs": [
        {
          "name": "stdout",
          "output_type": "stream",
          "text": [
            "ROC AUC: 0.684\n",
            "Precision: 0.078\n",
            "Recall: 0.008\n"
          ]
        }
      ],
      "source": [
        "model = RandomForestClassifier(n_estimators=10, class_weight='balanced_subsample')\n",
        "cv = RepeatedStratifiedKFold(n_splits=10, n_repeats=3, random_state=1)\n",
        "recall = cross_val_score(model, X, y, scoring='recall', cv=cv, n_jobs=-1)\n",
        "precision = cross_val_score(model, X, y, scoring='precision', cv=cv, n_jobs=-1)\n",
        "auc = cross_val_score(model, X, y, scoring='roc_auc', cv=cv, n_jobs=-1)\n",
        "print('ROC AUC: %.3f' % np.mean(auc))\n",
        "print('Precision: %.3f' % np.mean(precision))\n",
        "print('Recall: %.3f' % np.mean(recall))"
      ]
    },
    {
      "cell_type": "markdown",
      "metadata": {
        "id": "LgSLDG6ksW5P"
      },
      "source": [
        "# Random Forest With Random Undersampling"
      ]
    },
    {
      "cell_type": "code",
      "execution_count": null,
      "metadata": {
        "colab": {
          "base_uri": "https://localhost:8080/"
        },
        "outputId": "c4efc004-4cf6-4011-d7ee-0de4076ded5f",
        "id": "S3RvcDVvsW5P"
      },
      "outputs": [
        {
          "name": "stdout",
          "output_type": "stream",
          "text": [
            "ROC AUC: 0.828\n",
            "Precision: 0.072\n",
            "Recall: 0.748\n"
          ]
        }
      ],
      "source": [
        "from imblearn.ensemble import BalancedRandomForestClassifier\n",
        "model = BalancedRandomForestClassifier(n_estimators=10)\n",
        "cv = RepeatedStratifiedKFold(n_splits=10, n_repeats=3, random_state=1)\n",
        "recall = cross_val_score(model, X, y, scoring='recall', cv=cv, n_jobs=-1)\n",
        "precision = cross_val_score(model, X, y, scoring='precision', cv=cv, n_jobs=-1)\n",
        "auc = cross_val_score(model, X, y, scoring='roc_auc', cv=cv, n_jobs=-1)\n",
        "print('ROC AUC: %.3f' % np.mean(auc))\n",
        "print('Precision: %.3f' % np.mean(precision))\n",
        "print('Recall: %.3f' % np.mean(recall))"
      ]
    },
    {
      "cell_type": "markdown",
      "metadata": {
        "id": "u-LIy4cQsW5P"
      },
      "source": [
        "# Easy Ensemble for Imbalanced Classification"
      ]
    },
    {
      "cell_type": "code",
      "execution_count": null,
      "metadata": {
        "id": "OVT5uC_FsW5P"
      },
      "outputs": [],
      "source": [
        "from imblearn.ensemble import EasyEnsembleClassifier\n",
        "model = EasyEnsembleClassifier(n_estimators=5)\n",
        "cv = RepeatedStratifiedKFold(n_splits=10, n_repeats=2, random_state=1)\n",
        "recall = cross_val_score(model, X, y, scoring='recall', cv=cv, n_jobs=-1)\n",
        "precision = cross_val_score(model, X, y, scoring='precision', cv=cv, n_jobs=-1)\n",
        "auc = cross_val_score(model, X, y, scoring='roc_auc', cv=cv, n_jobs=-1)\n",
        "print('ROC AUC: %.3f' % np.mean(auc))\n",
        "print('Precision: %.3f' % np.mean(precision))\n",
        "print('Recall: %.3f' % np.mean(recall))"
      ]
    },
    {
      "cell_type": "markdown",
      "metadata": {
        "id": "RF0FfKBUsW5P"
      },
      "source": [
        "# RF + Random Oversampling"
      ]
    },
    {
      "cell_type": "markdown",
      "metadata": {
        "id": "oGsa-bOTsW5P"
      },
      "source": [
        "basic rf"
      ]
    },
    {
      "cell_type": "code",
      "execution_count": null,
      "metadata": {
        "colab": {
          "base_uri": "https://localhost:8080/"
        },
        "outputId": "7a84941b-953a-4856-929b-18812e452eb9",
        "id": "NDN8QJnPsW5Q"
      },
      "outputs": [
        {
          "name": "stdout",
          "output_type": "stream",
          "text": [
            "{'criterion': 'entropy', 'max_depth': 5, 'max_features': 'log2', 'n_estimators': 200}\n"
          ]
        }
      ],
      "source": [
        "param_grid = { \n",
        "    'n_estimators': [200],\n",
        "    'max_features': ['auto', 'sqrt', 'log2'],\n",
        "    'max_depth' : [4,5,6,7,8],\n",
        "    'criterion' :['gini', 'entropy']\n",
        "}\n",
        "rfc = RandomForestClassifier()\n",
        "CV_rfc = GridSearchCV(estimator=rfc, param_grid=param_grid, cv= 5)\n",
        "CV_rfc.fit(X_train, y_train)\n",
        "print(CV_rfc.best_params_)"
      ]
    },
    {
      "cell_type": "markdown",
      "metadata": {
        "id": "EPa4BR-5sW5Q"
      },
      "source": [
        "Можно, конечно, увеличить кол-во эстиматоров, но считается долго("
      ]
    },
    {
      "cell_type": "code",
      "execution_count": null,
      "metadata": {
        "id": "WyfihPvhsW5Q"
      },
      "outputs": [],
      "source": [
        "y_pr1 = CV_rfc.predict(X_test)\n",
        "#scores(y_test, y_pr1)"
      ]
    },
    {
      "cell_type": "code",
      "execution_count": null,
      "metadata": {
        "colab": {
          "base_uri": "https://localhost:8080/",
          "height": 182
        },
        "outputId": "7adb2396-7c65-4f15-c08e-5ff1b6152272",
        "id": "Cc33dUNIsW5Q"
      },
      "outputs": [
        {
          "ename": "TypeError",
          "evalue": "ignored",
          "output_type": "error",
          "traceback": [
            "\u001b[0;31m---------------------------------------------------------------------------\u001b[0m",
            "\u001b[0;31mTypeError\u001b[0m                                 Traceback (most recent call last)",
            "\u001b[0;32m<ipython-input-147-ab30762c79ad>\u001b[0m in \u001b[0;36m<module>\u001b[0;34m()\u001b[0m\n\u001b[0;32m----> 1\u001b[0;31m \u001b[0mscores\u001b[0m\u001b[0;34m(\u001b[0m\u001b[0my_test\u001b[0m\u001b[0;34m,\u001b[0m \u001b[0my_pr1\u001b[0m\u001b[0;34m)\u001b[0m\u001b[0;34m\u001b[0m\u001b[0;34m\u001b[0m\u001b[0m\n\u001b[0m",
            "\u001b[0;31mTypeError\u001b[0m: 'numpy.ndarray' object is not callable"
          ]
        }
      ],
      "source": [
        "scores(y_test, y_pr1)"
      ]
    },
    {
      "cell_type": "code",
      "execution_count": null,
      "metadata": {
        "colab": {
          "base_uri": "https://localhost:8080/"
        },
        "outputId": "29360128-d211-409c-c1c4-51500feac94e",
        "id": "qAucQo5asW5Q"
      },
      "outputs": [
        {
          "data": {
            "text/plain": [
              "array([[1053,    0],\n",
              "       [  30,    0]])"
            ]
          },
          "execution_count": 143,
          "metadata": {},
          "output_type": "execute_result"
        }
      ],
      "source": [
        "conf(y_test, y_pr1)"
      ]
    },
    {
      "cell_type": "code",
      "execution_count": null,
      "metadata": {
        "colab": {
          "base_uri": "https://localhost:8080/",
          "height": 286
        },
        "outputId": "6f6ecd26-d410-4869-daa7-24518881b726",
        "id": "Kg6IXP6ysW5Q"
      },
      "outputs": [
        {
          "data": {
            "image/png": "[encoded data removed]",
            "text/plain": [
              "<Figure size 432x288 with 1 Axes>"
            ]
          },
          "metadata": {},
          "output_type": "display_data"
        }
      ],
      "source": [
        "auc_roc_curve(CV_rfc, X_test)"
      ]
    },
    {
      "cell_type": "markdown",
      "metadata": {
        "id": "u-qk1ARwsW5Q"
      },
      "source": [
        "rf + r/u"
      ]
    },
    {
      "cell_type": "code",
      "execution_count": null,
      "metadata": {
        "colab": {
          "base_uri": "https://localhost:8080/"
        },
        "outputId": "4d8b59c0-c7f1-4210-f548-7a37ffafa3f4",
        "id": "mrUOuUT3sW5Q"
      },
      "outputs": [
        {
          "name": "stdout",
          "output_type": "stream",
          "text": [
            "{'criterion': 'gini', 'max_depth': 6, 'max_features': 'sqrt', 'n_estimators': 200}\n"
          ]
        }
      ],
      "source": [
        "param_grid = { \n",
        "    'n_estimators': [200],\n",
        "    'max_features': ['auto', 'sqrt', 'log2'],\n",
        "    'max_depth' : [4,5,6,7,8],\n",
        "    'criterion' :['gini', 'entropy']\n",
        "}\n",
        "rfc = RandomForestClassifier()\n",
        "CV_rfc = GridSearchCV(estimator=rfc, param_grid=param_grid, cv= 5)\n",
        "CV_rfc.fit(X_over, y_over)\n",
        "print(CV_rfc.best_params_)"
      ]
    },
    {
      "cell_type": "code",
      "execution_count": null,
      "metadata": {
        "id": "QfF1HbIPsW5Q"
      },
      "outputs": [],
      "source": [
        "y_pr2 = CV_rfc.predict(X_test)\n",
        "#scores(y_test, y_pr2)"
      ]
    },
    {
      "cell_type": "code",
      "execution_count": null,
      "metadata": {
        "colab": {
          "base_uri": "https://localhost:8080/"
        },
        "outputId": "97df9e36-e045-4b65-927d-a1c3df2f4a39",
        "id": "qOzl8y4CsW5Q"
      },
      "outputs": [
        {
          "name": "stdout",
          "output_type": "stream",
          "text": [
            "Accuracy =  0.9067405355493998\n",
            "Precision =  0.1743119266055046\n",
            "Recall =  0.6333333333333333\n",
            "F1 Score =  0.27338129496402874\n"
          ]
        }
      ],
      "source": [
        "print(\"Accuracy = \" , accuracy_score(y_test, y_pr2))\n",
        "print(\"Precision = \" ,precision_score(y_test, y_pr2))\n",
        "print(\"Recall = \" ,recall_score(y_test, y_pr2))\n",
        "print(\"F1 Score = \" ,f1_score(y_test, y_pr2))\n"
      ]
    },
    {
      "cell_type": "code",
      "execution_count": null,
      "metadata": {
        "colab": {
          "base_uri": "https://localhost:8080/"
        },
        "outputId": "37d9470e-5d8a-412c-beb1-ce0095c7fd8f",
        "id": "_pEOyN4IsW5Q"
      },
      "outputs": [
        {
          "data": {
            "text/plain": [
              "array([[963,  90],\n",
              "       [ 11,  19]])"
            ]
          },
          "execution_count": 118,
          "metadata": {},
          "output_type": "execute_result"
        }
      ],
      "source": [
        "conf(y_test, y_pr2)"
      ]
    }
  ]
}