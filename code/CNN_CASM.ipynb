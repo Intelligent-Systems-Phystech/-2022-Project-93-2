{
 "cells": [
  {
   "cell_type": "code",
   "execution_count": 79,
   "metadata": {},
   "outputs": [],
   "source": [
    "import numpy as np\n",
    "import pandas as pd\n",
    "import matplotlib.pyplot as plt\n",
    "import torch.nn.functional as F\n",
    "import torch.nn as nn\n",
    "import torch\n",
    "import math\n",
    "import os\n",
    "import sys\n",
    "import torchvision.transforms as transforms\n",
    "import torchvision.datasets as datasets\n",
    "\n",
    "import torchvision.transforms as transforms\n",
    "import torchvision.datasets as dsets\n",
    "\n",
    "import matplotlib.pyplot as plt\n",
    "\n",
    "from torch.utils.data import TensorDataset, DataLoader\n",
    "from matplotlib import pyplot\n",
    "from datetime import datetime\n",
    "from torch.autograd import Variable\n",
    "from torch.nn import Parameter\n",
    "from torch import Tensor\n",
    "from IPython.display import Image, display\n",
    "from ipywidgets import widgets, Layout, HBox\n",
    "from time import time\n",
    "from sklearn.model_selection import train_test_split\n",
    "from sklearn.preprocessing import StandardScaler\n",
    "from torch import Tensor\n",
    "from tqdm.notebook import tqdm\n",
    "from IPython.display import clear_output\n",
    "\n",
    "from sklearn.metrics import recall_score, precision_score, accuracy_score\n",
    "\n",
    "# from imblearn.over_sampling import SMOTE\n",
    "\n",
    "from torch.nn.modules.activation import ReLU, LeakyReLU, Tanh\n",
    "import torch.nn.functional as F\n",
    "\n",
    "from torchinfo import summary\n"
   ]
  },
  {
   "cell_type": "code",
   "execution_count": 8,
   "metadata": {
    "id": "x3GC4JztS5gY"
   },
   "outputs": [],
   "source": [
    "cuda = True if torch.cuda.is_available() else False   \n",
    "Tensor = torch.cuda.FloatTensor if cuda else torch.FloatTensor    "
   ]
  },
  {
   "cell_type": "code",
   "execution_count": 9,
   "metadata": {},
   "outputs": [],
   "source": [
    "DATA_DIR = '/data/vapyzh/CASM-floods/'"
   ]
  },
  {
   "cell_type": "code",
   "execution_count": 10,
   "metadata": {},
   "outputs": [
    {
     "name": "stdout",
     "output_type": "stream",
     "text": [
      "\u001b[0m\u001b[01;34mCASM\u001b[0m/                                weights_1_1649031580.5322192\r\n",
      "CASM_DJF_ex_indicator_grid.txt       weights_1_1649031657.0428581\r\n",
      "CASM_coordinate.txt                  weights_1_1649074082.3281558\r\n",
      "exday_99per_DJF_CASM_1980_2019.txt   weights_1_1649074114.2898822\r\n",
      "nexday_99per_DJF_CASM_1980_2019.txt  weights_1_1649074139.6353889\r\n",
      "weights_1_1649027328.278437          weights_1_1649074163.091286\r\n",
      "weights_1_1649027360.1894128         weights_1_1649074188.6728516\r\n",
      "weights_1_1649027364.0663185         weights_1_1649074214.3590503\r\n",
      "weights_1_1649027368.9158125         weights_1_1649074240.8852448\r\n",
      "weights_1_1649027371.2999084         weights_1_1649074264.9349103\r\n",
      "weights_1_1649027378.6490998         weights_1_1649074288.3058794\r\n",
      "weights_1_1649027402.5469725         weights_1_1649074312.2433603\r\n",
      "weights_1_1649027405.0325809         weights_1_1649074393.2776654\r\n",
      "weights_1_1649027409.4916668         weights_1_1649074420.7723997\r\n",
      "weights_1_1649027415.581966          weights_1_1649074445.84565\r\n",
      "weights_1_1649027418.413667          weights_1_1649074468.6520793\r\n",
      "weights_1_1649028533.1526594         weights_1_1649074490.8281999\r\n",
      "weights_1_1649028574.9801214         weights_1_1649074511.587565\r\n",
      "weights_1_1649028581.732536          weights_1_1649074570.160943\r\n",
      "weights_1_1649028588.1166184         weights_1_1649074591.942895\r\n",
      "weights_1_1649028596.391966          weights_1_1649074611.8471544\r\n",
      "weights_1_1649028602.3538074         weights_1_1649074634.3729339\r\n",
      "weights_1_1649028607.35741           weights_1_1649074655.8622487\r\n",
      "weights_1_1649028613.0335903         weights_1_1649074683.248287\r\n",
      "weights_1_1649028632.0109286         weights_1_1649074705.0213838\r\n",
      "weights_1_1649028637.85546           weights_1_1649074731.007988\r\n",
      "weights_1_1649028644.932608          weights_1_1649074752.9730492\r\n",
      "weights_1_1649028652.0706959         weights_1_1649074779.0813146\r\n",
      "weights_1_1649028659.9090414         weights_1_1649074941.8766403\r\n",
      "weights_1_1649028667.9237652         weights_1_1649074972.703207\r\n",
      "weights_1_1649028676.8166687         weights_1_1649075004.2325454\r\n",
      "weights_1_1649028681.9936903         weights_1_1649075046.7015224\r\n",
      "weights_1_1649028687.7639363         weights_1_1649075073.1374216\r\n",
      "weights_1_1649028692.5248957         weights_1_1649075107.3165092\r\n",
      "weights_1_1649028697.613901          weights_1_1649075139.8535094\r\n",
      "weights_1_1649028702.5790408         weights_1_1649075170.5504928\r\n",
      "weights_1_1649028711.1998134         weights_1_1649075200.9600017\r\n",
      "weights_1_1649029688.1985133         weights_2_1649800618.3117108\r\n",
      "weights_1_1649029709.8897462         weights_2_1649800636.9063926\r\n",
      "weights_1_1649029728.1304083         weights_2_1649801270.8509748\r\n",
      "weights_1_1649029748.158575          weights_2_1649801296.0602038\r\n",
      "weights_1_1649029770.2039824         weights_2_1649801316.2933338\r\n",
      "weights_1_1649029791.8196366         weights_2_1649801335.538869\r\n",
      "weights_1_1649029827.786429          weights_2_1649801354.3520525\r\n",
      "weights_1_1649029870.5962765         weights_2_1649801373.3599281\r\n",
      "weights_1_1649029908.7878203         weights_2_1649801521.7054021\r\n",
      "weights_1_1649029950.15234           weights_2_1649801542.592763\r\n",
      "weights_1_1649029994.0382836         weights_2_1649801560.3919625\r\n",
      "weights_1_1649030027.0037296         weights_2_1649801580.0819223\r\n",
      "weights_1_1649030965.1002102         weights_2_1649801596.6831317\r\n",
      "weights_1_1649031043.3512309         weights_2_1649801654.6346028\r\n",
      "weights_1_1649031121.1308913         weights_2_1649802444.9324634\r\n",
      "weights_1_1649031194.9126174         weights_2_1649802496.1687353\r\n",
      "weights_1_1649031274.1987042         weights_2_1649802548.8020253\r\n",
      "weights_1_1649031349.894349          weights_2_1649802601.9630215\r\n",
      "weights_1_1649031427.695857          weights_2_1649802655.3268094\r\n",
      "weights_1_1649031503.0316086         weights_2_1649802854.3778243\r\n"
     ]
    }
   ],
   "source": [
    "ls $DATA_DIR"
   ]
  },
  {
   "cell_type": "code",
   "execution_count": 11,
   "metadata": {
    "colab": {
     "base_uri": "https://localhost:8080/"
    },
    "id": "3n1AonBmehVG",
    "outputId": "bde96735-7479-427a-d7a7-8f926095f250"
   },
   "outputs": [
    {
     "name": "stderr",
     "output_type": "stream",
     "text": [
      "/usr/local/lib/python3.6/dist-packages/ipykernel_launcher.py:1: ParserWarning: Falling back to the 'python' engine because the 'c' engine does not support regex separators (separators > 1 char and different from '\\s+' are interpreted as regex); you can avoid this warning by specifying engine='python'.\n",
      "  \"\"\"Entry point for launching an IPython kernel.\n"
     ]
    }
   ],
   "source": [
    "coords = pd.read_csv(DATA_DIR + \"CASM_coordinate.txt\", header=None, sep=\"   \")"
   ]
  },
  {
   "cell_type": "code",
   "execution_count": 12,
   "metadata": {
    "colab": {
     "base_uri": "https://localhost:8080/",
     "height": 423
    },
    "id": "s3zCl2S6enOj",
    "outputId": "5475dde3-add7-4959-844e-b03bfa8fa938"
   },
   "outputs": [
    {
     "data": {
      "text/html": [
       "<div>\n",
       "<style scoped>\n",
       "    .dataframe tbody tr th:only-of-type {\n",
       "        vertical-align: middle;\n",
       "    }\n",
       "\n",
       "    .dataframe tbody tr th {\n",
       "        vertical-align: top;\n",
       "    }\n",
       "\n",
       "    .dataframe thead th {\n",
       "        text-align: right;\n",
       "    }\n",
       "</style>\n",
       "<table border=\"1\" class=\"dataframe\">\n",
       "  <thead>\n",
       "    <tr style=\"text-align: right;\">\n",
       "      <th></th>\n",
       "      <th>0</th>\n",
       "      <th>1</th>\n",
       "    </tr>\n",
       "  </thead>\n",
       "  <tbody>\n",
       "    <tr>\n",
       "      <th>0</th>\n",
       "      <td>-146.25</td>\n",
       "      <td>61.0</td>\n",
       "    </tr>\n",
       "    <tr>\n",
       "      <th>1</th>\n",
       "      <td>-143.75</td>\n",
       "      <td>61.0</td>\n",
       "    </tr>\n",
       "    <tr>\n",
       "      <th>2</th>\n",
       "      <td>-141.25</td>\n",
       "      <td>61.0</td>\n",
       "    </tr>\n",
       "    <tr>\n",
       "      <th>3</th>\n",
       "      <td>-138.75</td>\n",
       "      <td>61.0</td>\n",
       "    </tr>\n",
       "    <tr>\n",
       "      <th>4</th>\n",
       "      <td>-136.25</td>\n",
       "      <td>61.0</td>\n",
       "    </tr>\n",
       "    <tr>\n",
       "      <th>...</th>\n",
       "      <td>...</td>\n",
       "      <td>...</td>\n",
       "    </tr>\n",
       "    <tr>\n",
       "      <th>451</th>\n",
       "      <td>-111.25</td>\n",
       "      <td>15.0</td>\n",
       "    </tr>\n",
       "    <tr>\n",
       "      <th>452</th>\n",
       "      <td>-108.75</td>\n",
       "      <td>15.0</td>\n",
       "    </tr>\n",
       "    <tr>\n",
       "      <th>453</th>\n",
       "      <td>-106.25</td>\n",
       "      <td>15.0</td>\n",
       "    </tr>\n",
       "    <tr>\n",
       "      <th>454</th>\n",
       "      <td>-103.75</td>\n",
       "      <td>15.0</td>\n",
       "    </tr>\n",
       "    <tr>\n",
       "      <th>455</th>\n",
       "      <td>-101.25</td>\n",
       "      <td>15.0</td>\n",
       "    </tr>\n",
       "  </tbody>\n",
       "</table>\n",
       "<p>456 rows × 2 columns</p>\n",
       "</div>"
      ],
      "text/plain": [
       "          0     1\n",
       "0   -146.25  61.0\n",
       "1   -143.75  61.0\n",
       "2   -141.25  61.0\n",
       "3   -138.75  61.0\n",
       "4   -136.25  61.0\n",
       "..      ...   ...\n",
       "451 -111.25  15.0\n",
       "452 -108.75  15.0\n",
       "453 -106.25  15.0\n",
       "454 -103.75  15.0\n",
       "455 -101.25  15.0\n",
       "\n",
       "[456 rows x 2 columns]"
      ]
     },
     "execution_count": 12,
     "metadata": {},
     "output_type": "execute_result"
    }
   ],
   "source": [
    "coords"
   ]
  },
  {
   "cell_type": "code",
   "execution_count": 13,
   "metadata": {
    "id": "nnjvOjcEdExl"
   },
   "outputs": [],
   "source": [
    "new_ex_coords = pd.read_csv(DATA_DIR + \"CASM_DJF_ex_indicator_grid.txt\", header=None, sep=\"\\t\")"
   ]
  },
  {
   "cell_type": "code",
   "execution_count": 14,
   "metadata": {},
   "outputs": [
    {
     "data": {
      "text/html": [
       "<div>\n",
       "<style scoped>\n",
       "    .dataframe tbody tr th:only-of-type {\n",
       "        vertical-align: middle;\n",
       "    }\n",
       "\n",
       "    .dataframe tbody tr th {\n",
       "        vertical-align: top;\n",
       "    }\n",
       "\n",
       "    .dataframe thead th {\n",
       "        text-align: right;\n",
       "    }\n",
       "</style>\n",
       "<table border=\"1\" class=\"dataframe\">\n",
       "  <thead>\n",
       "    <tr style=\"text-align: right;\">\n",
       "      <th></th>\n",
       "      <th>0</th>\n",
       "      <th>1</th>\n",
       "      <th>2</th>\n",
       "    </tr>\n",
       "  </thead>\n",
       "  <tbody>\n",
       "    <tr>\n",
       "      <th>0</th>\n",
       "      <td>-123.75</td>\n",
       "      <td>41</td>\n",
       "      <td>62</td>\n",
       "    </tr>\n",
       "    <tr>\n",
       "      <th>1</th>\n",
       "      <td>-123.75</td>\n",
       "      <td>41</td>\n",
       "      <td>169</td>\n",
       "    </tr>\n",
       "    <tr>\n",
       "      <th>2</th>\n",
       "      <td>-123.75</td>\n",
       "      <td>41</td>\n",
       "      <td>297</td>\n",
       "    </tr>\n",
       "    <tr>\n",
       "      <th>3</th>\n",
       "      <td>-123.75</td>\n",
       "      <td>41</td>\n",
       "      <td>590</td>\n",
       "    </tr>\n",
       "    <tr>\n",
       "      <th>4</th>\n",
       "      <td>-123.75</td>\n",
       "      <td>41</td>\n",
       "      <td>910</td>\n",
       "    </tr>\n",
       "    <tr>\n",
       "      <th>...</th>\n",
       "      <td>...</td>\n",
       "      <td>...</td>\n",
       "      <td>...</td>\n",
       "    </tr>\n",
       "    <tr>\n",
       "      <th>130</th>\n",
       "      <td>-118.75</td>\n",
       "      <td>41</td>\n",
       "      <td>2348</td>\n",
       "    </tr>\n",
       "    <tr>\n",
       "      <th>131</th>\n",
       "      <td>-118.75</td>\n",
       "      <td>41</td>\n",
       "      <td>3320</td>\n",
       "    </tr>\n",
       "    <tr>\n",
       "      <th>132</th>\n",
       "      <td>-118.75</td>\n",
       "      <td>41</td>\n",
       "      <td>3325</td>\n",
       "    </tr>\n",
       "    <tr>\n",
       "      <th>133</th>\n",
       "      <td>-118.75</td>\n",
       "      <td>41</td>\n",
       "      <td>3349</td>\n",
       "    </tr>\n",
       "    <tr>\n",
       "      <th>134</th>\n",
       "      <td>-118.75</td>\n",
       "      <td>41</td>\n",
       "      <td>3565</td>\n",
       "    </tr>\n",
       "  </tbody>\n",
       "</table>\n",
       "<p>135 rows × 3 columns</p>\n",
       "</div>"
      ],
      "text/plain": [
       "          0   1     2\n",
       "0   -123.75  41    62\n",
       "1   -123.75  41   169\n",
       "2   -123.75  41   297\n",
       "3   -123.75  41   590\n",
       "4   -123.75  41   910\n",
       "..      ...  ..   ...\n",
       "130 -118.75  41  2348\n",
       "131 -118.75  41  3320\n",
       "132 -118.75  41  3325\n",
       "133 -118.75  41  3349\n",
       "134 -118.75  41  3565\n",
       "\n",
       "[135 rows x 3 columns]"
      ]
     },
     "execution_count": 14,
     "metadata": {},
     "output_type": "execute_result"
    }
   ],
   "source": [
    "new_ex_coords"
   ]
  },
  {
   "cell_type": "code",
   "execution_count": 15,
   "metadata": {
    "id": "8RqqIWzRdXmA"
   },
   "outputs": [],
   "source": [
    "coords_to_find = new_ex_coords.groupby([0,1]).count().index.to_numpy()"
   ]
  },
  {
   "cell_type": "code",
   "execution_count": 16,
   "metadata": {
    "id": "026i7K0HfNHq"
   },
   "outputs": [],
   "source": [
    "indexes = []\n",
    "for x,y in coords_to_find:\n",
    "    indexes.append(coords[(coords[0] == x) & (coords[1] == y)].index.values[0])"
   ]
  },
  {
   "cell_type": "code",
   "execution_count": 17,
   "metadata": {
    "colab": {
     "base_uri": "https://localhost:8080/"
    },
    "id": "JDWpAR45fjui",
    "outputId": "a23dfbdc-95e4-4dd3-96a7-4223d17a6218"
   },
   "outputs": [
    {
     "data": {
      "text/plain": [
       "[199, 238, 219, 200, 258, 239, 220, 201]"
      ]
     },
     "execution_count": 17,
     "metadata": {},
     "output_type": "execute_result"
    }
   ],
   "source": [
    "indexes"
   ]
  },
  {
   "cell_type": "code",
   "execution_count": 18,
   "metadata": {
    "id": "uYEvDzNESO5C"
   },
   "outputs": [],
   "source": [
    "ex_dates = pd.read_table(DATA_DIR + 'exday_99per_DJF_CASM_1980_2019.txt', delim_whitespace=True, names=('day_of_seq', 'year', 'month', 'day'))\n",
    "nex_dates = pd.read_table(DATA_DIR + 'nexday_99per_DJF_CASM_1980_2019.txt', delim_whitespace=True, names=('day_of_seq', 'year', 'month', 'day'))\n",
    "\n",
    "variables = ['h500', 'ivt', 'qv2m', 'slp', 'tpw', 'uqv', 'vqv', 'w500']\n",
    "concating_values = []\n",
    "only_today = []\n",
    "\n",
    "for var in variables:\n",
    "    ex_df = pd.read_table(DATA_DIR + f'CASM/ERA5_DJF_CASM_99per_ex_n{var}_1980_2019.txt', delim_whitespace=True, header = None)\n",
    "    nex_df = pd.read_table(DATA_DIR + f'CASM/ERA5_DJF_CASM_99per_nex_n{var}_1980_2019.txt', delim_whitespace=True, header = None)\n",
    "    ex = pd.concat([ex_dates, ex_df], axis = 1)\n",
    "    nex = pd.concat([nex_dates, nex_df], axis = 1)\n",
    "    df = pd.concat([ex, nex], ignore_index=True).sort_values('day_of_seq')\n",
    "    to_del = list(df[(df['month'] == 2) & (df['day'] == 29)].index)\n",
    "    df = df.drop(to_del)\n",
    "    df = df.drop(df[(df['month'] != 12) & (df['year'] == 1980)].index)\n",
    "    df = df.drop(df[(df['month'] == 12) & (df['year'] == 2019)].index)\n",
    "\n",
    "    without_first_season = df[df['day_of_seq'] > 150]\n",
    "    without_last_season = df[df['day_of_seq'] < 3490]\n",
    "\n",
    "    tmp_df = without_first_season\n",
    "    tmp_df = tmp_df[(tmp_df['month'] != 12) | (tmp_df['day'] > 7)] # kill first i days\n",
    "    tmp_df = tmp_df[(tmp_df['month'] != 2) | (tmp_df['day'] < 29)]\n",
    "    tmp_df = tmp_df.drop(['day_of_seq', 'year', 'month', 'day'], axis=1)\n",
    "    only_today.append(tmp_df.values.reshape(-1, 24, 19))\n",
    "\n",
    "    for i in range(7): #shifting prev year data\n",
    "        tmp_df = without_last_season\n",
    "        tmp_df = tmp_df[(tmp_df['month'] != 12) | (tmp_df['day'] > i)] # kill first i days\n",
    "        tmp_df = tmp_df[(tmp_df['month'] != 2) | (tmp_df['day'] < 29 - (7 - i))] # kill last i days\n",
    "        tmp_df = tmp_df.drop(['day_of_seq', 'year', 'month', 'day'], axis=1)\n",
    "        concating_values.append(tmp_df.values.reshape(-1, 24, 19))\n",
    "\n",
    "    for i in range(7): #shifting this year data\n",
    "        tmp_df = without_first_season\n",
    "        tmp_df = tmp_df[(tmp_df['month'] != 12) | (tmp_df['day'] > i)] # kill first i days\n",
    "        tmp_df = tmp_df[(tmp_df['month'] != 2) | (tmp_df['day'] < 29 - (7 - i))] # kill last i day\n",
    "        tmp_df = tmp_df.drop(['day_of_seq', 'year', 'month', 'day'], axis=1)\n",
    "        concating_values.append(tmp_df.values.reshape(-1, 24, 19))\n"
   ]
  },
  {
   "cell_type": "code",
   "execution_count": 19,
   "metadata": {
    "id": "aKQcDASm6qLz"
   },
   "outputs": [],
   "source": [
    "np.array(concating_values).shape\n",
    "\n",
    "concating_values = np.moveaxis(concating_values, 0, 1)"
   ]
  },
  {
   "cell_type": "code",
   "execution_count": 20,
   "metadata": {},
   "outputs": [
    {
     "data": {
      "text/plain": [
       "(3154, 112, 24, 19)"
      ]
     },
     "execution_count": 20,
     "metadata": {},
     "output_type": "execute_result"
    }
   ],
   "source": [
    "concating_values.shape"
   ]
  },
  {
   "cell_type": "code",
   "execution_count": 21,
   "metadata": {},
   "outputs": [
    {
     "data": {
      "text/plain": [
       "(3154, 8, 24, 19)"
      ]
     },
     "execution_count": 21,
     "metadata": {},
     "output_type": "execute_result"
    }
   ],
   "source": [
    "only_today = np.array(only_today)\n",
    "only_today = np.moveaxis(only_today, 0, 1)\n",
    "only_today.shape"
   ]
  },
  {
   "cell_type": "markdown",
   "metadata": {},
   "source": [
    "### Посмотрим на то как дисперсия связана со средним."
   ]
  },
  {
   "cell_type": "code",
   "execution_count": 22,
   "metadata": {},
   "outputs": [],
   "source": [
    "means = np.mean(only_today, axis=(2, 3))"
   ]
  },
  {
   "cell_type": "code",
   "execution_count": 23,
   "metadata": {},
   "outputs": [
    {
     "data": {
      "text/plain": [
       "(3154, 8)"
      ]
     },
     "execution_count": 23,
     "metadata": {},
     "output_type": "execute_result"
    }
   ],
   "source": [
    "means.shape"
   ]
  },
  {
   "cell_type": "code",
   "execution_count": 24,
   "metadata": {},
   "outputs": [],
   "source": [
    "sgn_std = only_today - means.reshape(3154, 8, 1, 1)"
   ]
  },
  {
   "cell_type": "code",
   "execution_count": 25,
   "metadata": {},
   "outputs": [],
   "source": [
    "sgn_std = np.mean(sgn_std, axis=(2, 3))"
   ]
  },
  {
   "cell_type": "code",
   "execution_count": 26,
   "metadata": {
    "scrolled": false
   },
   "outputs": [
    {
     "data": {
      "image/png": "[encoded data removed]",
      "text/plain": [
       "<Figure size 864x576 with 1 Axes>"
      ]
     },
     "metadata": {
      "needs_background": "light"
     },
     "output_type": "display_data"
    }
   ],
   "source": [
    "plt.figure(figsize=(12,8))\n",
    "for i, var in enumerate(variables[:4]):\n",
    "    tmp = np.array([means[:, i], sgn_std[:, i]])\n",
    "    tmp = np.sort(tmp)\n",
    "    plt.plot(tmp[0,:], tmp[1,:], label=var)\n",
    "plt.xlabel(\"Среднее\")\n",
    "plt.ylabel(\"Отклонение\")\n",
    "plt.grid(\":\")\n",
    "plt.legend()\n",
    "plt.show()"
   ]
  },
  {
   "cell_type": "code",
   "execution_count": 27,
   "metadata": {},
   "outputs": [
    {
     "data": {
      "image/png": "[encoded data removed]",
      "text/plain": [
       "<Figure size 864x576 with 1 Axes>"
      ]
     },
     "metadata": {
      "needs_background": "light"
     },
     "output_type": "display_data"
    }
   ],
   "source": [
    "plt.figure(figsize=(12,8))\n",
    "for i, var in enumerate(variables[4:], start=4):\n",
    "    tmp = np.array([means[:, i], sgn_std[:, i]])\n",
    "    tmp = np.sort(tmp)\n",
    "    plt.plot(tmp[0,:], tmp[1,:], label=var)\n",
    "plt.xlabel(\"Среднее\")\n",
    "plt.ylabel(\"Отклонение\")\n",
    "plt.grid(\":\")\n",
    "plt.legend()\n",
    "plt.show()"
   ]
  },
  {
   "cell_type": "markdown",
   "metadata": {},
   "source": [
    "### Подготовим теперь таргет. Будем считать 95ый квантиль"
   ]
  },
  {
   "cell_type": "code",
   "execution_count": 28,
   "metadata": {},
   "outputs": [],
   "source": [
    "ex_dates = pd.read_table(DATA_DIR + 'exday_99per_DJF_CASM_1980_2019.txt', delim_whitespace=True, names=('day_of_seq', 'year', 'month', 'day'))\n",
    "nex_dates = pd.read_table(DATA_DIR + 'nexday_99per_DJF_CASM_1980_2019.txt', delim_whitespace=True, names=('day_of_seq', 'year', 'month', 'day'))"
   ]
  },
  {
   "cell_type": "code",
   "execution_count": 29,
   "metadata": {},
   "outputs": [],
   "source": [
    "var = 'tpw'\n",
    "\n",
    "ex_df = pd.read_table(DATA_DIR + f'CASM/ERA5_DJF_CASM_99per_ex_n{var}_1980_2019.txt', delim_whitespace=True, header = None)\n",
    "nex_df = pd.read_table(DATA_DIR + f'CASM/ERA5_DJF_CASM_99per_nex_n{var}_1980_2019.txt', delim_whitespace=True, header = None)\n",
    "ex = pd.concat([ex_dates, ex_df], axis = 1)\n",
    "nex = pd.concat([nex_dates, nex_df], axis = 1)\n",
    "df = pd.concat([ex, nex], ignore_index=True).sort_values('day_of_seq')\n",
    "to_del = list(df[(df['month'] == 2) & (df['day'] == 29)].index)\n",
    "df = df.drop(to_del)\n",
    "df = df.drop(df[(df['month'] != 12) & (df['year'] == 1980)].index)\n",
    "df = df.drop(df[(df['month'] == 12) & (df['year'] == 2019)].index)\n",
    "\n",
    "without_first_season = df[df['day_of_seq'] > 150]\n",
    "without_last_season = df[df['day_of_seq'] < 3490]\n",
    "\n",
    "tmp_df = without_first_season\n",
    "tmp_df = tmp_df[(tmp_df['month'] != 12) | (tmp_df['day'] > 7)] # kill first i days\n",
    "tmp_df = tmp_df.drop(['day_of_seq', 'year', 'month', 'day'], axis=1)\n",
    "# concating_values.append(tmp_df.values.reshape(-1, 24, 19))\n",
    "\n",
    "quant = np.quantile(tmp_df.values, 0.95)\n",
    "tmp_df['quant'] = quant\n",
    "tmp_df['CAL_MEAN'] = np.mean(tmp_df[indexes].values, axis=1)"
   ]
  },
  {
   "cell_type": "code",
   "execution_count": 30,
   "metadata": {},
   "outputs": [
    {
     "data": {
      "text/plain": [
       "array([0.1875 , 1.13125, 0.46   , ..., 0.99875, 1.19375, 0.4875 ])"
      ]
     },
     "execution_count": 30,
     "metadata": {},
     "output_type": "execute_result"
    }
   ],
   "source": [
    "np.mean(tmp_df[indexes].values, axis=1)"
   ]
  },
  {
   "cell_type": "code",
   "execution_count": 31,
   "metadata": {},
   "outputs": [
    {
     "data": {
      "text/html": [
       "<div>\n",
       "<style scoped>\n",
       "    .dataframe tbody tr th:only-of-type {\n",
       "        vertical-align: middle;\n",
       "    }\n",
       "\n",
       "    .dataframe tbody tr th {\n",
       "        vertical-align: top;\n",
       "    }\n",
       "\n",
       "    .dataframe thead th {\n",
       "        text-align: right;\n",
       "    }\n",
       "</style>\n",
       "<table border=\"1\" class=\"dataframe\">\n",
       "  <thead>\n",
       "    <tr style=\"text-align: right;\">\n",
       "      <th></th>\n",
       "      <th>199</th>\n",
       "      <th>238</th>\n",
       "      <th>219</th>\n",
       "      <th>200</th>\n",
       "      <th>258</th>\n",
       "      <th>239</th>\n",
       "      <th>220</th>\n",
       "      <th>201</th>\n",
       "      <th>quant</th>\n",
       "      <th>CAL_MEAN</th>\n",
       "    </tr>\n",
       "  </thead>\n",
       "  <tbody>\n",
       "    <tr>\n",
       "      <th>228</th>\n",
       "      <td>0.53</td>\n",
       "      <td>0.09</td>\n",
       "      <td>0.32</td>\n",
       "      <td>0.58</td>\n",
       "      <td>-0.03</td>\n",
       "      <td>-0.42</td>\n",
       "      <td>-0.14</td>\n",
       "      <td>0.57</td>\n",
       "      <td>1.82</td>\n",
       "      <td>0.18750</td>\n",
       "    </tr>\n",
       "    <tr>\n",
       "      <th>229</th>\n",
       "      <td>1.41</td>\n",
       "      <td>0.98</td>\n",
       "      <td>1.24</td>\n",
       "      <td>1.53</td>\n",
       "      <td>0.78</td>\n",
       "      <td>0.95</td>\n",
       "      <td>1.14</td>\n",
       "      <td>1.02</td>\n",
       "      <td>1.82</td>\n",
       "      <td>1.13125</td>\n",
       "    </tr>\n",
       "    <tr>\n",
       "      <th>230</th>\n",
       "      <td>0.01</td>\n",
       "      <td>0.26</td>\n",
       "      <td>0.03</td>\n",
       "      <td>0.39</td>\n",
       "      <td>1.28</td>\n",
       "      <td>0.85</td>\n",
       "      <td>0.39</td>\n",
       "      <td>0.47</td>\n",
       "      <td>1.82</td>\n",
       "      <td>0.46000</td>\n",
       "    </tr>\n",
       "    <tr>\n",
       "      <th>231</th>\n",
       "      <td>-0.41</td>\n",
       "      <td>-0.65</td>\n",
       "      <td>-0.19</td>\n",
       "      <td>0.04</td>\n",
       "      <td>-0.09</td>\n",
       "      <td>-0.07</td>\n",
       "      <td>0.10</td>\n",
       "      <td>0.39</td>\n",
       "      <td>1.82</td>\n",
       "      <td>-0.11000</td>\n",
       "    </tr>\n",
       "    <tr>\n",
       "      <th>232</th>\n",
       "      <td>0.80</td>\n",
       "      <td>0.26</td>\n",
       "      <td>0.50</td>\n",
       "      <td>0.70</td>\n",
       "      <td>-0.20</td>\n",
       "      <td>0.27</td>\n",
       "      <td>0.50</td>\n",
       "      <td>0.75</td>\n",
       "      <td>1.82</td>\n",
       "      <td>0.44750</td>\n",
       "    </tr>\n",
       "    <tr>\n",
       "      <th>...</th>\n",
       "      <td>...</td>\n",
       "      <td>...</td>\n",
       "      <td>...</td>\n",
       "      <td>...</td>\n",
       "      <td>...</td>\n",
       "      <td>...</td>\n",
       "      <td>...</td>\n",
       "      <td>...</td>\n",
       "      <td>...</td>\n",
       "      <td>...</td>\n",
       "    </tr>\n",
       "    <tr>\n",
       "      <th>3575</th>\n",
       "      <td>0.90</td>\n",
       "      <td>0.01</td>\n",
       "      <td>0.39</td>\n",
       "      <td>0.57</td>\n",
       "      <td>0.05</td>\n",
       "      <td>0.15</td>\n",
       "      <td>0.41</td>\n",
       "      <td>0.39</td>\n",
       "      <td>1.82</td>\n",
       "      <td>0.35875</td>\n",
       "    </tr>\n",
       "    <tr>\n",
       "      <th>3576</th>\n",
       "      <td>1.34</td>\n",
       "      <td>0.26</td>\n",
       "      <td>0.83</td>\n",
       "      <td>1.07</td>\n",
       "      <td>-0.01</td>\n",
       "      <td>0.20</td>\n",
       "      <td>0.47</td>\n",
       "      <td>0.84</td>\n",
       "      <td>1.82</td>\n",
       "      <td>0.62500</td>\n",
       "    </tr>\n",
       "    <tr>\n",
       "      <th>3577</th>\n",
       "      <td>0.45</td>\n",
       "      <td>1.25</td>\n",
       "      <td>1.82</td>\n",
       "      <td>1.34</td>\n",
       "      <td>0.15</td>\n",
       "      <td>0.49</td>\n",
       "      <td>1.02</td>\n",
       "      <td>1.47</td>\n",
       "      <td>1.82</td>\n",
       "      <td>0.99875</td>\n",
       "    </tr>\n",
       "    <tr>\n",
       "      <th>74</th>\n",
       "      <td>0.77</td>\n",
       "      <td>1.41</td>\n",
       "      <td>1.40</td>\n",
       "      <td>1.12</td>\n",
       "      <td>1.41</td>\n",
       "      <td>1.08</td>\n",
       "      <td>1.06</td>\n",
       "      <td>1.30</td>\n",
       "      <td>1.82</td>\n",
       "      <td>1.19375</td>\n",
       "    </tr>\n",
       "    <tr>\n",
       "      <th>3578</th>\n",
       "      <td>-0.87</td>\n",
       "      <td>0.99</td>\n",
       "      <td>0.40</td>\n",
       "      <td>-0.29</td>\n",
       "      <td>1.56</td>\n",
       "      <td>1.13</td>\n",
       "      <td>0.54</td>\n",
       "      <td>0.44</td>\n",
       "      <td>1.82</td>\n",
       "      <td>0.48750</td>\n",
       "    </tr>\n",
       "  </tbody>\n",
       "</table>\n",
       "<p>3154 rows × 10 columns</p>\n",
       "</div>"
      ],
      "text/plain": [
       "       199   238   219   200   258   239   220   201  quant  CAL_MEAN\n",
       "228   0.53  0.09  0.32  0.58 -0.03 -0.42 -0.14  0.57   1.82   0.18750\n",
       "229   1.41  0.98  1.24  1.53  0.78  0.95  1.14  1.02   1.82   1.13125\n",
       "230   0.01  0.26  0.03  0.39  1.28  0.85  0.39  0.47   1.82   0.46000\n",
       "231  -0.41 -0.65 -0.19  0.04 -0.09 -0.07  0.10  0.39   1.82  -0.11000\n",
       "232   0.80  0.26  0.50  0.70 -0.20  0.27  0.50  0.75   1.82   0.44750\n",
       "...    ...   ...   ...   ...   ...   ...   ...   ...    ...       ...\n",
       "3575  0.90  0.01  0.39  0.57  0.05  0.15  0.41  0.39   1.82   0.35875\n",
       "3576  1.34  0.26  0.83  1.07 -0.01  0.20  0.47  0.84   1.82   0.62500\n",
       "3577  0.45  1.25  1.82  1.34  0.15  0.49  1.02  1.47   1.82   0.99875\n",
       "74    0.77  1.41  1.40  1.12  1.41  1.08  1.06  1.30   1.82   1.19375\n",
       "3578 -0.87  0.99  0.40 -0.29  1.56  1.13  0.54  0.44   1.82   0.48750\n",
       "\n",
       "[3154 rows x 10 columns]"
      ]
     },
     "execution_count": 31,
     "metadata": {},
     "output_type": "execute_result"
    }
   ],
   "source": [
    "tmp_df[indexes + ['quant', 'CAL_MEAN']]"
   ]
  },
  {
   "cell_type": "code",
   "execution_count": 32,
   "metadata": {},
   "outputs": [],
   "source": [
    "tmp_df['target'] = tmp_df['quant'] < tmp_df['CAL_MEAN']"
   ]
  },
  {
   "cell_type": "code",
   "execution_count": 33,
   "metadata": {
    "id": "usj4DBhmeqpp"
   },
   "outputs": [],
   "source": [
    "y = tmp_df['target'].to_numpy().reshape(-1).astype(int)"
   ]
  },
  {
   "cell_type": "code",
   "execution_count": 34,
   "metadata": {},
   "outputs": [
    {
     "data": {
      "text/plain": [
       "array([0, 0, 0, ..., 0, 0, 0])"
      ]
     },
     "execution_count": 34,
     "metadata": {},
     "output_type": "execute_result"
    }
   ],
   "source": [
    "y"
   ]
  },
  {
   "cell_type": "code",
   "execution_count": 35,
   "metadata": {
    "id": "9TiYREFZThfc"
   },
   "outputs": [],
   "source": [
    "X_train, X_val, y_train, y_val = train_test_split(concating_values, y, test_size=0.3, shuffle=False)\n",
    "# X_train, X_val, y_train, y_val = train_test_split(X_train, y_train, test_size=0.3, shuffle=False)"
   ]
  },
  {
   "cell_type": "code",
   "execution_count": 36,
   "metadata": {
    "id": "wqtTVAcDTmHk"
   },
   "outputs": [],
   "source": [
    "batch_size = 200\n",
    "train_features = torch.Tensor(X_train)\n",
    "train_targets = torch.Tensor(y_train)\n",
    "val_features = torch.Tensor(X_val)\n",
    "val_targets = torch.Tensor(y_val)\n",
    "\n",
    "train = TensorDataset(train_features, train_targets)\n",
    "val = TensorDataset(val_features, val_targets)\n",
    "\n",
    "train_loader = DataLoader(train, batch_size=batch_size, shuffle=False, drop_last=True)\n",
    "val_loader = DataLoader(val, batch_size=batch_size, shuffle=False, drop_last=True)"
   ]
  },
  {
   "cell_type": "code",
   "execution_count": 37,
   "metadata": {},
   "outputs": [
    {
     "name": "stdout",
     "output_type": "stream",
     "text": [
      "cuda\n"
     ]
    }
   ],
   "source": [
    "device = f\"cuda\" if torch.cuda.is_available() else \"cpu\"\n",
    "print(device)"
   ]
  },
  {
   "cell_type": "code",
   "execution_count": 38,
   "metadata": {},
   "outputs": [],
   "source": [
    "def plot_learning_curves(history):\n",
    "    '''\n",
    "    Функция для вывода лосса и метрики во время обучения.\n",
    "    :param history: (dict)\n",
    "    accuracy и loss на обучении и валидации\n",
    "    '''\n",
    "    fig = plt.figure(figsize=(20, 7))\n",
    "    plt.subplot(1,3,1)\n",
    "    plt.title('Loss', fontsize=15)\n",
    "    plt.plot(history['loss']['train'], label='train')\n",
    "    plt.plot(history['loss']['val'], label='val')\n",
    "    plt.ylabel('Loss', fontsize=15)\n",
    "    plt.xlabel('Epoch', fontsize=15)\n",
    "    plt.legend()\n",
    "    \n",
    "    plt.subplot(1,3,2)\n",
    "    plt.title('Recall', fontsize=15)\n",
    "    plt.plot(history['recall']['train'], label='train')\n",
    "    plt.plot(history['recall']['val'], label='val')\n",
    "    plt.ylabel('Recall', fontsize=15)\n",
    "    plt.xlabel('Epoch', fontsize=15)\n",
    "    plt.legend()\n",
    "    \n",
    "    plt.subplot(1,3,3)\n",
    "    plt.title('Precision', fontsize=15)\n",
    "    plt.plot(history['precision']['train'], label='train')\n",
    "    plt.plot(history['precision']['val'], label='val')\n",
    "    plt.ylabel('Precision', fontsize=15)\n",
    "    plt.xlabel('Epoch', fontsize=15)\n",
    "    plt.legend()\n",
    "    plt.show()"
   ]
  },
  {
   "cell_type": "code",
   "execution_count": 39,
   "metadata": {},
   "outputs": [],
   "source": [
    "def get_statistics(true, pred):\n",
    "    TP = (pred * true).sum()\n",
    "    TN = ((1 - pred) * (1 - true)).sum()\n",
    "    FP = (pred * (1 - true)).sum()\n",
    "    FN = ((1 - pred) * true).sum()\n",
    "    \n",
    "    return np.array([TP, FP, FN, TN])\n",
    "\n",
    "def get_precision(stats):\n",
    "    TP = stats[0]\n",
    "    FP = stats[1]\n",
    "    return TP / (TP + FP)\n",
    "\n",
    "def get_recall(stats):\n",
    "    TP = stats[0]\n",
    "    FN = stats[2]\n",
    "    return TP / (TP + FN)"
   ]
  },
  {
   "cell_type": "code",
   "execution_count": 40,
   "metadata": {},
   "outputs": [],
   "source": [
    "import gc"
   ]
  },
  {
   "cell_type": "code",
   "execution_count": 41,
   "metadata": {},
   "outputs": [],
   "source": [
    "def train_with_aug(\n",
    "    model,\n",
    "    criterion,\n",
    "    optimizer,\n",
    "    scheduler,\n",
    "    train_batch_gen,\n",
    "    val_batch_gen,\n",
    "    model_num,\n",
    "    num_epochs=50,\n",
    "):\n",
    "    '''\n",
    "    Функция для обучения модели и вывода лосса и метрики во время обучения.\n",
    "    :param model: обучаемая модель\n",
    "    :param criterion: функция потерь\n",
    "    :param optimizer: метод оптимизации\n",
    "    :param train_batch_gen: генератор батчей для обучения\n",
    "    :param val_batch_gen: генератор батчей для валидации\n",
    "    :param num_epochs: количество эпох\n",
    "    :return: обученная модель\n",
    "    :return: (dict) accuracy и loss на обучении и валидации (\"история\" обучения\n",
    "    '''\n",
    "    best_loss = None \n",
    "\n",
    "    history = defaultdict(lambda: defaultdict(list))\n",
    "    \n",
    "    for epoch in tqdm(range(num_epochs)):\n",
    "        train_loss = 0\n",
    "        val_loss = 0\n",
    "        \n",
    "        train_statistics = np.array([0, 0, 0, 0]) # TP, FP, FN, TN\n",
    "        start_time = time.time()\n",
    "\n",
    "        # Устанавливаем поведение dropout / batch_norm в обучение\n",
    "        model.train(True)\n",
    "\n",
    "        # На каждой \"эпохе\" делаем полный проход по данным\n",
    "        for X_batch, y_batch in tqdm(train_batch_gen):\n",
    "            X_batch = X_batch.to(device)\n",
    "            y_batch = y_batch.type(torch.LongTensor).to(device)\n",
    "            # Логиты на выходе модели\n",
    "            logits = model(X_batch)\n",
    "            # Подсчитываем лосс\n",
    "            loss = criterion(logits, y_batch.to(device))\n",
    "            # Обратный проход\n",
    "            loss.backward()\n",
    "            # Шаг градиента\n",
    "            optimizer.step()\n",
    "            # Зануляем градиенты\n",
    "            optimizer.zero_grad()\n",
    "            # Сохраяняем лоссы и точность на трейн\n",
    "            train_loss += loss.detach().cpu().numpy()\n",
    "            y_pred = logits.max(1)[1].detach().cpu().numpy()\n",
    "    \n",
    "            train_statistics += get_statistics(y_batch.cpu().numpy(), y_pred)\n",
    "\n",
    "        # Подсчитываем лоссы и сохраням в \"историю\"\n",
    "        train_loss /= len(train_batch_gen)\n",
    "        train_precision = get_precision(train_statistics)\n",
    "        train_recall = get_recall(train_statistics)\n",
    "        history['loss']['train'].append(train_loss)\n",
    "        history['precision']['train'].append(get_precision(train_statistics))\n",
    "        history['recall']['train'].append(get_recall(train_statistics))\n",
    "        history['conf_matrix']['train'].append(train_statistics.resize((2, 2)))\n",
    "\n",
    "        # меняем теперь лернинг рейт\n",
    "        scheduler.step()\n",
    "        torch.cuda.empty_cache()\n",
    "        gc.collect()\n",
    "\n",
    "\n",
    "        # Устанавливаем поведение dropout / batch_norm в режим тестирования\n",
    "        \n",
    "        model.train(False)\n",
    "        # Полный проход по валидации\n",
    "        with torch.no_grad(): \n",
    "            val_statistics = np.array([0, 0, 0, 0]) # TP, FP, FN, TN\n",
    "\n",
    "\n",
    "            for X_batch, y_batch in tqdm(val_batch_gen):\n",
    "                X_batch = X_batch.to(device)\n",
    "                y_batch = y_batch.type(torch.LongTensor).to(device)\n",
    "                # Логиты, полученные моделью\n",
    "                logits = model(X_batch)\n",
    "                # Лосс на валидации\n",
    "                loss = criterion(logits, y_batch)\n",
    "                # Сохраяняем лоссы и точность на валидации\n",
    "                val_loss += loss.detach().cpu().numpy()\n",
    "                y_pred = logits.max(1)[1].detach().cpu().numpy()\n",
    "\n",
    "                val_statistics += get_statistics(y_batch.cpu().numpy(), y_pred)\n",
    "\n",
    "            # Подсчитываем лоссы и сохраням в \"историю\"\n",
    "        val_loss /= len(val_batch_gen)\n",
    "        val_precision = get_precision(val_statistics)\n",
    "        val_recall = get_recall(val_statistics)\n",
    "        history['loss']['val'].append(val_loss)\n",
    "        history['precision']['val'].append(get_precision(val_statistics))\n",
    "        history['recall']['val'].append(get_recall(val_statistics))\n",
    "        history['conf_matrix']['val'].append(val_statistics.resize((2, 2)))\n",
    "        \n",
    "        torch.cuda.empty_cache()\n",
    "        gc.collect()\n",
    "\n",
    "        if best_loss is None:\n",
    "            best_loss = val_loss\n",
    "            torch.save(model.state_dict(), DATA_DIR + 'weights_'\\\n",
    "            + str(model_num) + \"_\" + str(time.time()))\n",
    "        elif best_loss > val_loss:\n",
    "            best_loss = val_loss\n",
    "            torch.save(model.state_dict(), DATA_DIR + 'weights_'\\\n",
    "            + str(model_num) + \"_\" + str(time.time()))\n",
    "\n",
    "            \n",
    "        clear_output() \n",
    "        # Печатаем результаты после каждой эпохи\n",
    "        print(\"Epoch {} of {} took {:.3f}s\".format(\n",
    "        epoch + 1, num_epochs, time.time() - start_time))\n",
    "        print(\" training loss (in-iteration): \\t{:.6f}\".format(train_loss))\n",
    "        print(\" validation loss (in-iteration): \\t{:.6f}\".format(val_loss))\n",
    "        print(\" training recall: \\t\\t\\t{:.2f} %\".format(train_recall * 100))\n",
    "        print(\" validation recall: \\t\\t\\t{:.2f} %\".format(val_recall * 100))\n",
    "        print(\" training precision: \\t\\t\\t{:.2f} %\".format(train_precision * 100))\n",
    "        print(\" validation precision: \\t\\t\\t{:.2f} %\".format(val_precision * 100))\n",
    "        train_statistics.resize((2, 2))\n",
    "        val_statistics.resize((2, 2))\n",
    "        print(\" training confussion mastrix: \\n\", train_statistics)\n",
    "        print(\" validation confussion mastrix: \\n\", val_statistics)\n",
    "        plot_learning_curves(history)\n",
    "\n",
    "\n",
    "    return model, history   "
   ]
  },
  {
   "cell_type": "code",
   "execution_count": 42,
   "metadata": {
    "id": "tLGcLt8HrLAf"
   },
   "outputs": [],
   "source": [
    "model = nn.Sequential()\n",
    "model.add_module('cv1', nn.Conv2d(112, 480, kernel_size=1))\n",
    "model.add_module('relu1', nn.ReLU())\n",
    "model.add_module('bn1', nn.BatchNorm2d(480))\n",
    "\n",
    "model.add_module('cv2', nn.Conv2d(480, 960, kernel_size=2, padding=1))\n",
    "model.add_module('relu2', nn.ReLU())\n",
    "model.add_module('bn2', nn.BatchNorm2d(960))\n",
    "\n",
    "model.add_module('cv3', nn.Conv2d(960, 1920, kernel_size=2, padding=1))\n",
    "model.add_module('relu3', nn.ReLU())\n",
    "model.add_module('bn3', nn.BatchNorm2d(1920))\n",
    "\n",
    "model.add_module('mp1', nn.MaxPool2d(2))\n",
    "model.add_module('relu4', nn.ReLU())\n",
    "model.add_module('bn4', nn.BatchNorm2d(1920))\n",
    "\n",
    "model.add_module('drop1', nn.Dropout2d(0.2))\n",
    "\n",
    "model.add_module('cv4', nn.Conv2d(1920, 1920, kernel_size=2, padding=1))\n",
    "model.add_module('relu5', nn.ReLU())\n",
    "model.add_module('bn5', nn.BatchNorm2d(1920))\n",
    "\n",
    "model.add_module('mp2', nn.MaxPool2d(2))\n",
    "model.add_module('relu6', nn.ReLU())\n",
    "model.add_module('bn6', nn.BatchNorm2d(1920))\n",
    "\n",
    "model.add_module('drop2', nn.Dropout2d(0.2))\n",
    "\n",
    "model.add_module('cv5', nn.Conv2d(1920, 1920, kernel_size=3, stride=2))\n",
    "model.add_module('relu7', nn.ReLU())\n",
    "model.add_module('bn7', nn.BatchNorm2d(1920))\n",
    "\n",
    "model.add_module('flat', nn.Flatten(1))\n",
    "model.add_module('linear1', nn.Linear(1920 * 6, 1920))\n",
    "model.add_module('relu8', nn.ReLU())\n",
    "model.add_module('bn8', nn.BatchNorm1d(1920))\n",
    "\n",
    "model.add_module('drop3', nn.Dropout(0.2))\n",
    "\n",
    "\n",
    "model.add_module('linear2', nn.Linear(1920, 640))\n",
    "model.add_module('relu9', nn.ReLU())\n",
    "model.add_module('bn9', nn.BatchNorm1d(640))\n",
    "\n",
    "model.add_module('linear3', nn.Linear(640, 80))\n",
    "model.add_module('relu10', nn.ReLU())\n",
    "model.add_module('bn10', nn.BatchNorm1d(80))\n",
    "\n",
    "model.add_module('drop4', nn.Dropout(0.2))\n",
    "\n",
    "model.add_module('linear4', nn.Linear(80, 10))\n",
    "model.add_module('relu11', nn.ReLU())\n",
    "model.add_module('bn11', nn.BatchNorm1d(10))\n",
    "\n",
    "model.add_module('linear5', nn.Linear(10, 2))\n",
    "\n",
    "model = model.to(device)"
   ]
  },
  {
   "cell_type": "code",
   "execution_count": 43,
   "metadata": {},
   "outputs": [
    {
     "data": {
      "text/plain": [
       "==========================================================================================\n",
       "Layer (type:depth-idx)                   Output Shape              Param #\n",
       "==========================================================================================\n",
       "Sequential                               --                        --\n",
       "├─Conv2d: 1-1                            [1, 480, 24, 19]          54,240\n",
       "├─ReLU: 1-2                              [1, 480, 24, 19]          --\n",
       "├─BatchNorm2d: 1-3                       [1, 480, 24, 19]          960\n",
       "├─Conv2d: 1-4                            [1, 960, 25, 20]          1,844,160\n",
       "├─ReLU: 1-5                              [1, 960, 25, 20]          --\n",
       "├─BatchNorm2d: 1-6                       [1, 960, 25, 20]          1,920\n",
       "├─Conv2d: 1-7                            [1, 1920, 26, 21]         7,374,720\n",
       "├─ReLU: 1-8                              [1, 1920, 26, 21]         --\n",
       "├─BatchNorm2d: 1-9                       [1, 1920, 26, 21]         3,840\n",
       "├─MaxPool2d: 1-10                        [1, 1920, 13, 10]         --\n",
       "├─ReLU: 1-11                             [1, 1920, 13, 10]         --\n",
       "├─BatchNorm2d: 1-12                      [1, 1920, 13, 10]         3,840\n",
       "├─Dropout2d: 1-13                        [1, 1920, 13, 10]         --\n",
       "├─Conv2d: 1-14                           [1, 1920, 14, 11]         14,747,520\n",
       "├─ReLU: 1-15                             [1, 1920, 14, 11]         --\n",
       "├─BatchNorm2d: 1-16                      [1, 1920, 14, 11]         3,840\n",
       "├─MaxPool2d: 1-17                        [1, 1920, 7, 5]           --\n",
       "├─ReLU: 1-18                             [1, 1920, 7, 5]           --\n",
       "├─BatchNorm2d: 1-19                      [1, 1920, 7, 5]           3,840\n",
       "├─Dropout2d: 1-20                        [1, 1920, 7, 5]           --\n",
       "├─Conv2d: 1-21                           [1, 1920, 3, 2]           33,179,520\n",
       "├─ReLU: 1-22                             [1, 1920, 3, 2]           --\n",
       "├─BatchNorm2d: 1-23                      [1, 1920, 3, 2]           3,840\n",
       "├─Flatten: 1-24                          [1, 11520]                --\n",
       "├─Linear: 1-25                           [1, 1920]                 22,120,320\n",
       "├─ReLU: 1-26                             [1, 1920]                 --\n",
       "├─BatchNorm1d: 1-27                      [1, 1920]                 3,840\n",
       "├─Dropout: 1-28                          [1, 1920]                 --\n",
       "├─Linear: 1-29                           [1, 640]                  1,229,440\n",
       "├─ReLU: 1-30                             [1, 640]                  --\n",
       "├─BatchNorm1d: 1-31                      [1, 640]                  1,280\n",
       "├─Linear: 1-32                           [1, 80]                   51,280\n",
       "├─ReLU: 1-33                             [1, 80]                   --\n",
       "├─BatchNorm1d: 1-34                      [1, 80]                   160\n",
       "├─Dropout: 1-35                          [1, 80]                   --\n",
       "├─Linear: 1-36                           [1, 10]                   810\n",
       "├─ReLU: 1-37                             [1, 10]                   --\n",
       "├─BatchNorm1d: 1-38                      [1, 10]                   20\n",
       "├─Linear: 1-39                           [1, 2]                    22\n",
       "==========================================================================================\n",
       "Total params: 80,629,412\n",
       "Trainable params: 80,629,412\n",
       "Non-trainable params: 0\n",
       "Total mult-adds (G): 7.47\n",
       "==========================================================================================\n",
       "Input size (MB): 0.20\n",
       "Forward/backward pass size (MB): 35.45\n",
       "Params size (MB): 322.52\n",
       "Estimated Total Size (MB): 358.17\n",
       "=========================================================================================="
      ]
     },
     "execution_count": 43,
     "metadata": {},
     "output_type": "execute_result"
    }
   ],
   "source": [
    "summary(model, (1, 112, 24, 19))"
   ]
  },
  {
   "cell_type": "code",
   "execution_count": 44,
   "metadata": {
    "id": "s5QBsI2Lr39e"
   },
   "outputs": [],
   "source": [
    "optimizer = torch.optim.Adam(model.parameters(), lr=3e-3)\n",
    "scheduler =  torch.optim.lr_scheduler.MultiplicativeLR(optimizer, lr_lambda=lambda epoch: 0.95 ** epoch)\n",
    "criterion = nn.CrossEntropyLoss()"
   ]
  },
  {
   "cell_type": "code",
   "execution_count": 45,
   "metadata": {},
   "outputs": [],
   "source": [
    "from collections import defaultdict\n",
    "import time\n",
    "from torchinfo import summary"
   ]
  },
  {
   "cell_type": "code",
   "execution_count": 46,
   "metadata": {},
   "outputs": [
    {
     "data": {
      "text/plain": [
       "(2207, 112, 24, 19)"
      ]
     },
     "execution_count": 46,
     "metadata": {},
     "output_type": "execute_result"
    }
   ],
   "source": [
    "X_train.shape"
   ]
  },
  {
   "cell_type": "code",
   "execution_count": 34,
   "metadata": {
    "colab": {
     "base_uri": "https://localhost:8080/"
    },
    "id": "wbIFwrSTr_8q",
    "outputId": "1751151c-29b5-4784-b913-4d8e76249cf7",
    "scrolled": true
   },
   "outputs": [
    {
     "name": "stdout",
     "output_type": "stream",
     "text": [
      "Epoch 20 of 20 took 40.785s\n",
      " training loss (in-iteration): \t0.272007\n",
      " validation loss (in-iteration): \t0.334879\n",
      " training recall: \t\t\t93.90 %\n",
      " validation recall: \t\t\t36.36 %\n",
      " training precision: \t\t\t81.91 %\n",
      " validation precision: \t\t\t41.38 %\n",
      " training confussion mastrix: \n",
      " [[  77   17]\n",
      " [   5 2101]]\n",
      " validation confussion mastrix: \n",
      " [[ 12  17]\n",
      " [ 21 750]]\n"
     ]
    },
    {
     "data": {
      "image/png": "[encoded data removed]",
      "text/plain": [
       "<Figure size 1440x504 with 3 Axes>"
      ]
     },
     "metadata": {
      "needs_background": "light"
     },
     "output_type": "display_data"
    },
    {
     "name": "stdout",
     "output_type": "stream",
     "text": [
      "\n"
     ]
    }
   ],
   "source": [
    "model, history = train_with_aug(model,\n",
    "                                criterion,\n",
    "                                optimizer,\n",
    "                                scheduler,\n",
    "                                train_loader,\n",
    "                                val_loader,\n",
    "                                model_num=1,\n",
    "                                num_epochs=20)"
   ]
  },
  {
   "cell_type": "markdown",
   "metadata": {},
   "source": [
    "### Теперь попробуем предсказывать точное значение влажности "
   ]
  },
  {
   "cell_type": "code",
   "execution_count": 47,
   "metadata": {},
   "outputs": [],
   "source": [
    "ex_dates = pd.read_table(DATA_DIR + 'exday_99per_DJF_CASM_1980_2019.txt', delim_whitespace=True, names=('day_of_seq', 'year', 'month', 'day'))\n",
    "nex_dates = pd.read_table(DATA_DIR + 'nexday_99per_DJF_CASM_1980_2019.txt', delim_whitespace=True, names=('day_of_seq', 'year', 'month', 'day'))"
   ]
  },
  {
   "cell_type": "code",
   "execution_count": 48,
   "metadata": {},
   "outputs": [],
   "source": [
    "var = 'tpw'\n",
    "\n",
    "ex_df = pd.read_table(DATA_DIR + f'CASM/ERA5_DJF_CASM_99per_ex_n{var}_1980_2019.txt', delim_whitespace=True, header = None)\n",
    "nex_df = pd.read_table(DATA_DIR + f'CASM/ERA5_DJF_CASM_99per_nex_n{var}_1980_2019.txt', delim_whitespace=True, header = None)\n",
    "ex = pd.concat([ex_dates, ex_df], axis = 1)\n",
    "nex = pd.concat([nex_dates, nex_df], axis = 1)\n",
    "df = pd.concat([ex, nex], ignore_index=True).sort_values('day_of_seq')\n",
    "to_del = list(df[(df['month'] == 2) & (df['day'] == 29)].index)\n",
    "df = df.drop(to_del)\n",
    "df = df.drop(df[(df['month'] != 12) & (df['year'] == 1980)].index)\n",
    "df = df.drop(df[(df['month'] == 12) & (df['year'] == 2019)].index)\n",
    "\n",
    "without_first_season = df[df['day_of_seq'] > 150]\n",
    "without_last_season = df[df['day_of_seq'] < 3490]\n",
    "\n",
    "tmp_df = without_first_season\n",
    "tmp_df = tmp_df[(tmp_df['month'] != 12) | (tmp_df['day'] > 7)] # kill first i days\n",
    "tmp_df = tmp_df.drop(['day_of_seq', 'year', 'month', 'day'], axis=1)\n",
    "# concating_values.append(tmp_df.values.reshape(-1, 24, 19))\n",
    "\n",
    "quant = np.quantile(tmp_df.values, 0.95)\n",
    "tmp_df['quant'] = quant\n",
    "tmp_df['CAL_MEAN'] = np.mean(tmp_df[indexes].values, axis=1)"
   ]
  },
  {
   "cell_type": "code",
   "execution_count": 49,
   "metadata": {},
   "outputs": [
    {
     "data": {
      "text/plain": [
       "array([0.1875 , 1.13125, 0.46   , ..., 0.99875, 1.19375, 0.4875 ])"
      ]
     },
     "execution_count": 49,
     "metadata": {},
     "output_type": "execute_result"
    }
   ],
   "source": [
    "np.mean(tmp_df[indexes].values, axis=1)"
   ]
  },
  {
   "cell_type": "code",
   "execution_count": 50,
   "metadata": {},
   "outputs": [
    {
     "data": {
      "text/html": [
       "<div>\n",
       "<style scoped>\n",
       "    .dataframe tbody tr th:only-of-type {\n",
       "        vertical-align: middle;\n",
       "    }\n",
       "\n",
       "    .dataframe tbody tr th {\n",
       "        vertical-align: top;\n",
       "    }\n",
       "\n",
       "    .dataframe thead th {\n",
       "        text-align: right;\n",
       "    }\n",
       "</style>\n",
       "<table border=\"1\" class=\"dataframe\">\n",
       "  <thead>\n",
       "    <tr style=\"text-align: right;\">\n",
       "      <th></th>\n",
       "      <th>199</th>\n",
       "      <th>238</th>\n",
       "      <th>219</th>\n",
       "      <th>200</th>\n",
       "      <th>258</th>\n",
       "      <th>239</th>\n",
       "      <th>220</th>\n",
       "      <th>201</th>\n",
       "      <th>quant</th>\n",
       "      <th>CAL_MEAN</th>\n",
       "    </tr>\n",
       "  </thead>\n",
       "  <tbody>\n",
       "    <tr>\n",
       "      <th>228</th>\n",
       "      <td>0.53</td>\n",
       "      <td>0.09</td>\n",
       "      <td>0.32</td>\n",
       "      <td>0.58</td>\n",
       "      <td>-0.03</td>\n",
       "      <td>-0.42</td>\n",
       "      <td>-0.14</td>\n",
       "      <td>0.57</td>\n",
       "      <td>1.82</td>\n",
       "      <td>0.18750</td>\n",
       "    </tr>\n",
       "    <tr>\n",
       "      <th>229</th>\n",
       "      <td>1.41</td>\n",
       "      <td>0.98</td>\n",
       "      <td>1.24</td>\n",
       "      <td>1.53</td>\n",
       "      <td>0.78</td>\n",
       "      <td>0.95</td>\n",
       "      <td>1.14</td>\n",
       "      <td>1.02</td>\n",
       "      <td>1.82</td>\n",
       "      <td>1.13125</td>\n",
       "    </tr>\n",
       "    <tr>\n",
       "      <th>230</th>\n",
       "      <td>0.01</td>\n",
       "      <td>0.26</td>\n",
       "      <td>0.03</td>\n",
       "      <td>0.39</td>\n",
       "      <td>1.28</td>\n",
       "      <td>0.85</td>\n",
       "      <td>0.39</td>\n",
       "      <td>0.47</td>\n",
       "      <td>1.82</td>\n",
       "      <td>0.46000</td>\n",
       "    </tr>\n",
       "    <tr>\n",
       "      <th>231</th>\n",
       "      <td>-0.41</td>\n",
       "      <td>-0.65</td>\n",
       "      <td>-0.19</td>\n",
       "      <td>0.04</td>\n",
       "      <td>-0.09</td>\n",
       "      <td>-0.07</td>\n",
       "      <td>0.10</td>\n",
       "      <td>0.39</td>\n",
       "      <td>1.82</td>\n",
       "      <td>-0.11000</td>\n",
       "    </tr>\n",
       "    <tr>\n",
       "      <th>232</th>\n",
       "      <td>0.80</td>\n",
       "      <td>0.26</td>\n",
       "      <td>0.50</td>\n",
       "      <td>0.70</td>\n",
       "      <td>-0.20</td>\n",
       "      <td>0.27</td>\n",
       "      <td>0.50</td>\n",
       "      <td>0.75</td>\n",
       "      <td>1.82</td>\n",
       "      <td>0.44750</td>\n",
       "    </tr>\n",
       "    <tr>\n",
       "      <th>...</th>\n",
       "      <td>...</td>\n",
       "      <td>...</td>\n",
       "      <td>...</td>\n",
       "      <td>...</td>\n",
       "      <td>...</td>\n",
       "      <td>...</td>\n",
       "      <td>...</td>\n",
       "      <td>...</td>\n",
       "      <td>...</td>\n",
       "      <td>...</td>\n",
       "    </tr>\n",
       "    <tr>\n",
       "      <th>3575</th>\n",
       "      <td>0.90</td>\n",
       "      <td>0.01</td>\n",
       "      <td>0.39</td>\n",
       "      <td>0.57</td>\n",
       "      <td>0.05</td>\n",
       "      <td>0.15</td>\n",
       "      <td>0.41</td>\n",
       "      <td>0.39</td>\n",
       "      <td>1.82</td>\n",
       "      <td>0.35875</td>\n",
       "    </tr>\n",
       "    <tr>\n",
       "      <th>3576</th>\n",
       "      <td>1.34</td>\n",
       "      <td>0.26</td>\n",
       "      <td>0.83</td>\n",
       "      <td>1.07</td>\n",
       "      <td>-0.01</td>\n",
       "      <td>0.20</td>\n",
       "      <td>0.47</td>\n",
       "      <td>0.84</td>\n",
       "      <td>1.82</td>\n",
       "      <td>0.62500</td>\n",
       "    </tr>\n",
       "    <tr>\n",
       "      <th>3577</th>\n",
       "      <td>0.45</td>\n",
       "      <td>1.25</td>\n",
       "      <td>1.82</td>\n",
       "      <td>1.34</td>\n",
       "      <td>0.15</td>\n",
       "      <td>0.49</td>\n",
       "      <td>1.02</td>\n",
       "      <td>1.47</td>\n",
       "      <td>1.82</td>\n",
       "      <td>0.99875</td>\n",
       "    </tr>\n",
       "    <tr>\n",
       "      <th>74</th>\n",
       "      <td>0.77</td>\n",
       "      <td>1.41</td>\n",
       "      <td>1.40</td>\n",
       "      <td>1.12</td>\n",
       "      <td>1.41</td>\n",
       "      <td>1.08</td>\n",
       "      <td>1.06</td>\n",
       "      <td>1.30</td>\n",
       "      <td>1.82</td>\n",
       "      <td>1.19375</td>\n",
       "    </tr>\n",
       "    <tr>\n",
       "      <th>3578</th>\n",
       "      <td>-0.87</td>\n",
       "      <td>0.99</td>\n",
       "      <td>0.40</td>\n",
       "      <td>-0.29</td>\n",
       "      <td>1.56</td>\n",
       "      <td>1.13</td>\n",
       "      <td>0.54</td>\n",
       "      <td>0.44</td>\n",
       "      <td>1.82</td>\n",
       "      <td>0.48750</td>\n",
       "    </tr>\n",
       "  </tbody>\n",
       "</table>\n",
       "<p>3154 rows × 10 columns</p>\n",
       "</div>"
      ],
      "text/plain": [
       "       199   238   219   200   258   239   220   201  quant  CAL_MEAN\n",
       "228   0.53  0.09  0.32  0.58 -0.03 -0.42 -0.14  0.57   1.82   0.18750\n",
       "229   1.41  0.98  1.24  1.53  0.78  0.95  1.14  1.02   1.82   1.13125\n",
       "230   0.01  0.26  0.03  0.39  1.28  0.85  0.39  0.47   1.82   0.46000\n",
       "231  -0.41 -0.65 -0.19  0.04 -0.09 -0.07  0.10  0.39   1.82  -0.11000\n",
       "232   0.80  0.26  0.50  0.70 -0.20  0.27  0.50  0.75   1.82   0.44750\n",
       "...    ...   ...   ...   ...   ...   ...   ...   ...    ...       ...\n",
       "3575  0.90  0.01  0.39  0.57  0.05  0.15  0.41  0.39   1.82   0.35875\n",
       "3576  1.34  0.26  0.83  1.07 -0.01  0.20  0.47  0.84   1.82   0.62500\n",
       "3577  0.45  1.25  1.82  1.34  0.15  0.49  1.02  1.47   1.82   0.99875\n",
       "74    0.77  1.41  1.40  1.12  1.41  1.08  1.06  1.30   1.82   1.19375\n",
       "3578 -0.87  0.99  0.40 -0.29  1.56  1.13  0.54  0.44   1.82   0.48750\n",
       "\n",
       "[3154 rows x 10 columns]"
      ]
     },
     "execution_count": 50,
     "metadata": {},
     "output_type": "execute_result"
    }
   ],
   "source": [
    "tmp_df[indexes + ['quant', 'CAL_MEAN']]"
   ]
  },
  {
   "cell_type": "code",
   "execution_count": 51,
   "metadata": {},
   "outputs": [],
   "source": [
    "tmp_df['target'] = tmp_df['quant'] < tmp_df['CAL_MEAN']"
   ]
  },
  {
   "cell_type": "code",
   "execution_count": 52,
   "metadata": {
    "id": "usj4DBhmeqpp"
   },
   "outputs": [],
   "source": [
    "y = tmp_df['CAL_MEAN'].to_numpy()"
   ]
  },
  {
   "cell_type": "code",
   "execution_count": 53,
   "metadata": {},
   "outputs": [
    {
     "data": {
      "text/plain": [
       "array([0.1875 , 1.13125, 0.46   , ..., 0.99875, 1.19375, 0.4875 ])"
      ]
     },
     "execution_count": 53,
     "metadata": {},
     "output_type": "execute_result"
    }
   ],
   "source": [
    "y"
   ]
  },
  {
   "cell_type": "code",
   "execution_count": 54,
   "metadata": {
    "id": "9TiYREFZThfc"
   },
   "outputs": [],
   "source": [
    "X_train, X_val, y_train, y_val = train_test_split(concating_values, y, test_size=0.3, shuffle=False)\n",
    "X_val, X_test, y_val, y_test = train_test_split(X_val, y_val, test_size=0.5, shuffle=False)"
   ]
  },
  {
   "cell_type": "code",
   "execution_count": 55,
   "metadata": {
    "id": "wqtTVAcDTmHk"
   },
   "outputs": [],
   "source": [
    "batch_size = 16\n",
    "train_features = torch.Tensor(X_train)\n",
    "train_targets = torch.Tensor(y_train)\n",
    "val_features = torch.Tensor(X_val)\n",
    "val_targets = torch.Tensor(y_val)\n",
    "\n",
    "train = TensorDataset(train_features, train_targets)\n",
    "val = TensorDataset(val_features, val_targets)\n",
    "\n",
    "train_loader = DataLoader(train, batch_size=batch_size, shuffle=False, drop_last=True)\n",
    "val_loader = DataLoader(val, batch_size=batch_size, shuffle=False, drop_last=True)"
   ]
  },
  {
   "cell_type": "code",
   "execution_count": 56,
   "metadata": {},
   "outputs": [
    {
     "name": "stdout",
     "output_type": "stream",
     "text": [
      "cuda\n"
     ]
    }
   ],
   "source": [
    "device = f\"cuda\" if torch.cuda.is_available() else \"cpu\"\n",
    "print(device)"
   ]
  },
  {
   "cell_type": "code",
   "execution_count": 57,
   "metadata": {},
   "outputs": [],
   "source": [
    "def plot_learning_curves(history):\n",
    "    '''\n",
    "    Функция для вывода лосса и метрики во время обучения.\n",
    "    :param history: (dict)\n",
    "    accuracy и loss на обучении и валидации\n",
    "    '''\n",
    "    fig = plt.figure(figsize=(20, 7))\n",
    "    plt.subplot(1,3,1)\n",
    "    plt.title('Loss', fontsize=15)\n",
    "    plt.plot(history['loss']['train'], label='train')\n",
    "    plt.plot(history['loss']['val'], label='val')\n",
    "    plt.ylabel('Loss', fontsize=15)\n",
    "    plt.xlabel('Epoch', fontsize=15)\n",
    "    plt.legend()\n",
    "    \n",
    "    plt.subplot(1,3,2)\n",
    "    plt.title('Recall', fontsize=15)\n",
    "    plt.plot(history['recall']['train'], label='train')\n",
    "    plt.plot(history['recall']['val'], label='val')\n",
    "    plt.ylabel('Recall', fontsize=15)\n",
    "    plt.xlabel('Epoch', fontsize=15)\n",
    "    plt.legend()\n",
    "    \n",
    "    plt.subplot(1,3,3)\n",
    "    plt.title('Precision', fontsize=15)\n",
    "    plt.plot(history['precision']['train'], label='train')\n",
    "    plt.plot(history['precision']['val'], label='val')\n",
    "    plt.ylabel('Precision', fontsize=15)\n",
    "    plt.xlabel('Epoch', fontsize=15)\n",
    "    plt.legend()\n",
    "    plt.show()"
   ]
  },
  {
   "cell_type": "code",
   "execution_count": 58,
   "metadata": {},
   "outputs": [],
   "source": [
    "def get_statistics(true, pred):\n",
    "    TP = (pred * true).sum()\n",
    "    TN = ((1 - pred) * (1 - true)).sum()\n",
    "    FP = (pred * (1 - true)).sum()\n",
    "    FN = ((1 - pred) * true).sum()\n",
    "    \n",
    "    return np.array([TP, FP, FN, TN])\n",
    "\n",
    "def get_precision(stats):\n",
    "    TP = stats[0]\n",
    "    FP = stats[1]\n",
    "    return TP / (TP + FP)\n",
    "\n",
    "def get_recall(stats):\n",
    "    TP = stats[0]\n",
    "    FN = stats[2]\n",
    "    return TP / (TP + FN)"
   ]
  },
  {
   "cell_type": "code",
   "execution_count": 59,
   "metadata": {},
   "outputs": [],
   "source": [
    "import gc"
   ]
  },
  {
   "cell_type": "code",
   "execution_count": 60,
   "metadata": {},
   "outputs": [],
   "source": [
    "def train_with_aug(\n",
    "    model,\n",
    "    criterion,\n",
    "    optimizer,\n",
    "    scheduler,\n",
    "    train_batch_gen,\n",
    "    val_batch_gen,\n",
    "    model_num,\n",
    "    num_epochs=50,\n",
    "):\n",
    "    '''\n",
    "    Функция для обучения модели и вывода лосса и метрики во время обучения.\n",
    "    :param model: обучаемая модель\n",
    "    :param criterion: функция потерь\n",
    "    :param optimizer: метод оптимизации\n",
    "    :param train_batch_gen: генератор батчей для обучения\n",
    "    :param val_batch_gen: генератор батчей для валидации\n",
    "    :param num_epochs: количество эпох\n",
    "    :return: обученная модель\n",
    "    :return: (dict) accuracy и loss на обучении и валидации (\"история\" обучения\n",
    "    '''\n",
    "    best_loss = None \n",
    "\n",
    "    history = defaultdict(lambda: defaultdict(list))\n",
    "    \n",
    "    for epoch in tqdm(range(num_epochs)):\n",
    "        train_loss = 0\n",
    "        val_loss = 0\n",
    "        \n",
    "        start_time = time.time()\n",
    "\n",
    "        # Устанавливаем поведение dropout / batch_norm в обучение\n",
    "        model.train(True)\n",
    "\n",
    "        # На каждой \"эпохе\" делаем полный проход по данным\n",
    "        for X_batch, y_batch in tqdm(train_batch_gen):\n",
    "            X_batch = X_batch.to(device)\n",
    "            y_batch = y_batch.unsqueeze(dim=1).to(device)\n",
    "            # Логиты на выходе модели\n",
    "            logits = model(X_batch)\n",
    "            # Подсчитываем лосс\n",
    "            loss = criterion(logits, y_batch)\n",
    "            # Обратный проход\n",
    "            loss.backward()\n",
    "            # Шаг градиента\n",
    "            optimizer.step()\n",
    "            # Зануляем градиенты\n",
    "            optimizer.zero_grad()\n",
    "            # Сохраяняем лоссы и точность на трейн\n",
    "            train_loss += loss.detach().cpu().numpy()\n",
    "    \n",
    "\n",
    "        # Подсчитываем лоссы и сохраням в \"историю\"\n",
    "        train_loss /= len(train_batch_gen)\n",
    "        history['loss']['train'].append(train_loss)\n",
    "\n",
    "        # меняем теперь лернинг рейт\n",
    "        scheduler.step()\n",
    "        torch.cuda.empty_cache()\n",
    "        gc.collect()\n",
    "\n",
    "\n",
    "        # Устанавливаем поведение dropout / batch_norm в режим тестирования\n",
    "        \n",
    "        model.train(False)\n",
    "        # Полный проход по валидации\n",
    "        with torch.no_grad(): \n",
    "\n",
    "\n",
    "            for X_batch, y_batch in tqdm(val_batch_gen):\n",
    "                X_batch = X_batch.to(device)\n",
    "                y_batch = y_batch.unsqueeze(dim=1).to(device)\n",
    "                # Логиты, полученные моделью\n",
    "                logits = model(X_batch)\n",
    "                \n",
    "                # Лосс на валидации\n",
    "                loss = criterion(logits, y_batch)\n",
    "                # Сохраяняем лоссы и точность на валидации\n",
    "                val_loss += loss.detach().cpu().numpy()\n",
    "\n",
    "            # Подсчитываем лоссы и сохраням в \"историю\"\n",
    "        val_loss /= len(val_batch_gen)\n",
    "        history['loss']['val'].append(val_loss)\n",
    "       \n",
    "        torch.cuda.empty_cache()\n",
    "        gc.collect()\n",
    "\n",
    "        if best_loss is None:\n",
    "            best_loss = val_loss\n",
    "            torch.save(model.state_dict(), DATA_DIR + 'weights_'\\\n",
    "            + str(model_num) + \"_\" + str(time.time()))\n",
    "        elif best_loss > val_loss:\n",
    "            best_loss = val_loss\n",
    "            torch.save(model.state_dict(), DATA_DIR + 'weights_'\\\n",
    "            + str(model_num) + \"_\" + str(time.time()))\n",
    "\n",
    "            \n",
    "        clear_output() \n",
    "        # Печатаем результаты после каждой эпохи\n",
    "        print(\"Epoch {} of {} took {:.3f}s\".format(\n",
    "        epoch + 1, num_epochs, time.time() - start_time))\n",
    "        print(\" training loss (in-iteration): \\t{:.6f}\".format(train_loss))\n",
    "        print(\" validation loss (in-iteration): \\t{:.6f}\".format(val_loss))\n",
    "        \n",
    "        plot_learning_curves(history)\n",
    "\n",
    "\n",
    "    return model, history   "
   ]
  },
  {
   "cell_type": "code",
   "execution_count": 61,
   "metadata": {
    "id": "tLGcLt8HrLAf"
   },
   "outputs": [],
   "source": [
    "model = nn.Sequential()\n",
    "model.add_module('cv1', nn.Conv2d(112, 480, kernel_size=1))\n",
    "model.add_module('relu1', nn.ReLU())\n",
    "model.add_module('bn1', nn.BatchNorm2d(480))\n",
    "\n",
    "model.add_module('cv2', nn.Conv2d(480, 960, kernel_size=2, padding=1))\n",
    "model.add_module('relu2', nn.ReLU())\n",
    "model.add_module('bn2', nn.BatchNorm2d(960))\n",
    "\n",
    "model.add_module('cv3', nn.Conv2d(960, 1920, kernel_size=2, padding=1))\n",
    "model.add_module('relu3', nn.ReLU())\n",
    "model.add_module('bn3', nn.BatchNorm2d(1920))\n",
    "\n",
    "model.add_module('mp1', nn.MaxPool2d(2))\n",
    "model.add_module('relu4', nn.ReLU())\n",
    "model.add_module('bn4', nn.BatchNorm2d(1920))\n",
    "\n",
    "model.add_module('drop1', nn.Dropout2d(0.2))\n",
    "\n",
    "model.add_module('cv4', nn.Conv2d(1920, 1920, kernel_size=2, padding=1))\n",
    "model.add_module('relu5', nn.ReLU())\n",
    "model.add_module('bn5', nn.BatchNorm2d(1920))\n",
    "\n",
    "model.add_module('mp2', nn.MaxPool2d(2))\n",
    "model.add_module('relu6', nn.ReLU())\n",
    "model.add_module('bn6', nn.BatchNorm2d(1920))\n",
    "\n",
    "model.add_module('drop2', nn.Dropout2d(0.2))\n",
    "\n",
    "model.add_module('cv5', nn.Conv2d(1920, 1920, kernel_size=3, stride=2))\n",
    "model.add_module('relu7', nn.ReLU())\n",
    "model.add_module('bn7', nn.BatchNorm2d(1920))\n",
    "\n",
    "model.add_module('flat', nn.Flatten(1))\n",
    "model.add_module('linear1', nn.Linear(1920 * 6, 1920))\n",
    "model.add_module('relu8', nn.ReLU())\n",
    "model.add_module('bn8', nn.BatchNorm1d(1920))\n",
    "\n",
    "model.add_module('drop3', nn.Dropout(0.2))\n",
    "\n",
    "\n",
    "model.add_module('linear2', nn.Linear(1920, 640))\n",
    "model.add_module('relu9', nn.ReLU())\n",
    "model.add_module('bn9', nn.BatchNorm1d(640))\n",
    "\n",
    "model.add_module('linear3', nn.Linear(640, 80))\n",
    "model.add_module('relu10', nn.ReLU())\n",
    "model.add_module('bn10', nn.BatchNorm1d(80))\n",
    "\n",
    "model.add_module('drop4', nn.Dropout(0.2))\n",
    "\n",
    "model.add_module('linear4', nn.Linear(80, 10))\n",
    "model.add_module('relu11', nn.ReLU())\n",
    "model.add_module('bn11', nn.BatchNorm1d(10))\n",
    "\n",
    "model.add_module('linear5', nn.Linear(10, 1))\n",
    "\n",
    "model = model.to(device)"
   ]
  },
  {
   "cell_type": "code",
   "execution_count": 62,
   "metadata": {},
   "outputs": [
    {
     "data": {
      "text/plain": [
       "==========================================================================================\n",
       "Layer (type:depth-idx)                   Output Shape              Param #\n",
       "==========================================================================================\n",
       "Sequential                               --                        --\n",
       "├─Conv2d: 1-1                            [1, 480, 24, 19]          54,240\n",
       "├─ReLU: 1-2                              [1, 480, 24, 19]          --\n",
       "├─BatchNorm2d: 1-3                       [1, 480, 24, 19]          960\n",
       "├─Conv2d: 1-4                            [1, 960, 25, 20]          1,844,160\n",
       "├─ReLU: 1-5                              [1, 960, 25, 20]          --\n",
       "├─BatchNorm2d: 1-6                       [1, 960, 25, 20]          1,920\n",
       "├─Conv2d: 1-7                            [1, 1920, 26, 21]         7,374,720\n",
       "├─ReLU: 1-8                              [1, 1920, 26, 21]         --\n",
       "├─BatchNorm2d: 1-9                       [1, 1920, 26, 21]         3,840\n",
       "├─MaxPool2d: 1-10                        [1, 1920, 13, 10]         --\n",
       "├─ReLU: 1-11                             [1, 1920, 13, 10]         --\n",
       "├─BatchNorm2d: 1-12                      [1, 1920, 13, 10]         3,840\n",
       "├─Dropout2d: 1-13                        [1, 1920, 13, 10]         --\n",
       "├─Conv2d: 1-14                           [1, 1920, 14, 11]         14,747,520\n",
       "├─ReLU: 1-15                             [1, 1920, 14, 11]         --\n",
       "├─BatchNorm2d: 1-16                      [1, 1920, 14, 11]         3,840\n",
       "├─MaxPool2d: 1-17                        [1, 1920, 7, 5]           --\n",
       "├─ReLU: 1-18                             [1, 1920, 7, 5]           --\n",
       "├─BatchNorm2d: 1-19                      [1, 1920, 7, 5]           3,840\n",
       "├─Dropout2d: 1-20                        [1, 1920, 7, 5]           --\n",
       "├─Conv2d: 1-21                           [1, 1920, 3, 2]           33,179,520\n",
       "├─ReLU: 1-22                             [1, 1920, 3, 2]           --\n",
       "├─BatchNorm2d: 1-23                      [1, 1920, 3, 2]           3,840\n",
       "├─Flatten: 1-24                          [1, 11520]                --\n",
       "├─Linear: 1-25                           [1, 1920]                 22,120,320\n",
       "├─ReLU: 1-26                             [1, 1920]                 --\n",
       "├─BatchNorm1d: 1-27                      [1, 1920]                 3,840\n",
       "├─Dropout: 1-28                          [1, 1920]                 --\n",
       "├─Linear: 1-29                           [1, 640]                  1,229,440\n",
       "├─ReLU: 1-30                             [1, 640]                  --\n",
       "├─BatchNorm1d: 1-31                      [1, 640]                  1,280\n",
       "├─Linear: 1-32                           [1, 80]                   51,280\n",
       "├─ReLU: 1-33                             [1, 80]                   --\n",
       "├─BatchNorm1d: 1-34                      [1, 80]                   160\n",
       "├─Dropout: 1-35                          [1, 80]                   --\n",
       "├─Linear: 1-36                           [1, 10]                   810\n",
       "├─ReLU: 1-37                             [1, 10]                   --\n",
       "├─BatchNorm1d: 1-38                      [1, 10]                   20\n",
       "├─Linear: 1-39                           [1, 1]                    11\n",
       "==========================================================================================\n",
       "Total params: 80,629,401\n",
       "Trainable params: 80,629,401\n",
       "Non-trainable params: 0\n",
       "Total mult-adds (G): 7.47\n",
       "==========================================================================================\n",
       "Input size (MB): 0.20\n",
       "Forward/backward pass size (MB): 35.45\n",
       "Params size (MB): 322.52\n",
       "Estimated Total Size (MB): 358.17\n",
       "=========================================================================================="
      ]
     },
     "execution_count": 62,
     "metadata": {},
     "output_type": "execute_result"
    }
   ],
   "source": [
    "summary(model, (1, 112, 24, 19))"
   ]
  },
  {
   "cell_type": "code",
   "execution_count": 63,
   "metadata": {
    "id": "s5QBsI2Lr39e"
   },
   "outputs": [],
   "source": [
    "optimizer = torch.optim.Adam(model.parameters(), lr=3e-3)\n",
    "scheduler =  torch.optim.lr_scheduler.MultiplicativeLR(optimizer, lr_lambda=lambda epoch: 0.95 ** epoch)\n",
    "criterion = nn.L1Loss()"
   ]
  },
  {
   "cell_type": "code",
   "execution_count": 64,
   "metadata": {},
   "outputs": [],
   "source": [
    "from collections import defaultdict\n",
    "import time\n",
    "from torchinfo import summary"
   ]
  },
  {
   "cell_type": "code",
   "execution_count": 65,
   "metadata": {},
   "outputs": [
    {
     "data": {
      "text/plain": [
       "(2207, 112, 24, 19)"
      ]
     },
     "execution_count": 65,
     "metadata": {},
     "output_type": "execute_result"
    }
   ],
   "source": [
    "X_train.shape"
   ]
  },
  {
   "cell_type": "code",
   "execution_count": 66,
   "metadata": {
    "colab": {
     "base_uri": "https://localhost:8080/"
    },
    "id": "wbIFwrSTr_8q",
    "outputId": "1751151c-29b5-4784-b913-4d8e76249cf7",
    "scrolled": false
   },
   "outputs": [
    {
     "name": "stdout",
     "output_type": "stream",
     "text": [
      "Epoch 20 of 20 took 17.394s\n",
      " training loss (in-iteration): \t0.399180\n",
      " validation loss (in-iteration): \t0.418929\n"
     ]
    },
    {
     "data": {
      "image/png": "[encoded data removed]",
      "text/plain": [
       "<Figure size 1440x504 with 3 Axes>"
      ]
     },
     "metadata": {
      "needs_background": "light"
     },
     "output_type": "display_data"
    },
    {
     "name": "stdout",
     "output_type": "stream",
     "text": [
      "\n"
     ]
    }
   ],
   "source": [
    "model, history = train_with_aug(model,\n",
    "                                criterion,\n",
    "                                optimizer,\n",
    "                                scheduler,\n",
    "                                train_loader,\n",
    "                                val_loader,\n",
    "                                model_num=2,\n",
    "                                num_epochs=20)"
   ]
  },
  {
   "cell_type": "code",
   "execution_count": 67,
   "metadata": {},
   "outputs": [],
   "source": [
    "batch_size = 16\n",
    "test_features = torch.Tensor(X_test)\n",
    "test_targets = torch.Tensor(y_test)\n",
    "\n",
    "test = TensorDataset(test_features, test_targets)\n",
    "test_loader = DataLoader(test, batch_size=batch_size, shuffle=False, drop_last=True)"
   ]
  },
  {
   "cell_type": "code",
   "execution_count": 68,
   "metadata": {},
   "outputs": [
    {
     "data": {
      "application/vnd.jupyter.widget-view+json": {
       "model_id": "b805e104e72d4e788a4e1d27c811dca7",
       "version_major": 2,
       "version_minor": 0
      },
      "text/plain": [
       "HBox(children=(FloatProgress(value=0.0, max=29.0), HTML(value='')))"
      ]
     },
     "metadata": {},
     "output_type": "display_data"
    },
    {
     "name": "stdout",
     "output_type": "stream",
     "text": [
      "\n"
     ]
    }
   ],
   "source": [
    "prediction = []\n",
    "true = []\n",
    "\n",
    "with torch.no_grad():\n",
    "        for X_batch, y_batch in tqdm(test_loader):\n",
    "                X_batch = X_batch.to(device)\n",
    "                # Логиты, полученные моделью\n",
    "                logits = model(X_batch)\n",
    "                \n",
    "                # Лосс на валидации\n",
    "                prediction += list(logits.detach().cpu().numpy()[:, 0])\n",
    "                true += list(y_batch.detach().cpu().numpy())\n",
    "                "
   ]
  },
  {
   "cell_type": "code",
   "execution_count": 69,
   "metadata": {},
   "outputs": [],
   "source": [
    "true = np.array(true)\n",
    "prediction = np.array(prediction)"
   ]
  },
  {
   "cell_type": "code",
   "execution_count": 70,
   "metadata": {},
   "outputs": [
    {
     "name": "stdout",
     "output_type": "stream",
     "text": [
      "Defaulting to user installation because normal site-packages is not writeable\n",
      "Requirement already satisfied: sklearn in /usr/local/lib/python3.6/dist-packages (0.0)\n",
      "Requirement already satisfied: scikit-learn in /usr/local/lib/python3.6/dist-packages (from sklearn) (0.23.1)\n",
      "Requirement already satisfied: threadpoolctl>=2.0.0 in /usr/local/lib/python3.6/dist-packages (from scikit-learn->sklearn) (2.1.0)\n",
      "Requirement already satisfied: joblib>=0.11 in /usr/local/lib/python3.6/dist-packages (from scikit-learn->sklearn) (0.16.0)\n",
      "Requirement already satisfied: numpy>=1.13.3 in /usr/local/lib/python3.6/dist-packages (from scikit-learn->sklearn) (1.19.0)\n",
      "Requirement already satisfied: scipy>=0.19.1 in /usr/local/lib/python3.6/dist-packages (from scikit-learn->sklearn) (1.5.0)\n",
      "\u001b[33mWARNING: You are using pip version 20.1.1; however, version 21.3.1 is available.\n",
      "You should consider upgrading via the '/usr/bin/python3 -m pip install --upgrade pip' command.\u001b[0m\n",
      "Note: you may need to restart the kernel to use updated packages.\n"
     ]
    }
   ],
   "source": [
    "pip install sklearn"
   ]
  },
  {
   "cell_type": "code",
   "execution_count": 71,
   "metadata": {},
   "outputs": [],
   "source": [
    "def mape(true, pred):\n",
    "    return 1/len(true) * np.sum(np.abs(1 - pred / true))"
   ]
  },
  {
   "cell_type": "code",
   "execution_count": 72,
   "metadata": {},
   "outputs": [
    {
     "data": {
      "text/plain": [
       "2.7716603772393587"
      ]
     },
     "execution_count": 72,
     "metadata": {},
     "output_type": "execute_result"
    }
   ],
   "source": [
    "mape(true, prediction)"
   ]
  },
  {
   "cell_type": "code",
   "execution_count": 81,
   "metadata": {},
   "outputs": [],
   "source": [
    "prediction_based_on_quants = prediction > np.quantile(prediction, 0.95)"
   ]
  },
  {
   "cell_type": "code",
   "execution_count": 86,
   "metadata": {},
   "outputs": [],
   "source": [
    "true_based_on_quants= true > 1.82"
   ]
  },
  {
   "cell_type": "code",
   "execution_count": 89,
   "metadata": {},
   "outputs": [
    {
     "data": {
      "text/plain": [
       "0.3793103448275862"
      ]
     },
     "execution_count": 89,
     "metadata": {},
     "output_type": "execute_result"
    }
   ],
   "source": [
    "recall_score(true_based_on_quants, prediction_based_on_quants)"
   ]
  },
  {
   "cell_type": "code",
   "execution_count": 90,
   "metadata": {},
   "outputs": [
    {
     "data": {
      "text/plain": [
       "0.4583333333333333"
      ]
     },
     "execution_count": 90,
     "metadata": {},
     "output_type": "execute_result"
    }
   ],
   "source": [
    "precision_score(true_based_on_quants, prediction_based_on_quants)"
   ]
  },
  {
   "cell_type": "code",
   "execution_count": null,
   "metadata": {},
   "outputs": [],
   "source": []
  }
 ],
 "metadata": {
  "accelerator": "GPU",
  "colab": {
   "collapsed_sections": [],
   "name": "CNN_CASM.ipynb",
   "provenance": []
  },
  "kernelspec": {
   "display_name": "Python 3",
   "language": "python",
   "name": "python3"
  },
  "language_info": {
   "codemirror_mode": {
    "name": "ipython",
    "version": 3
   },
   "file_extension": ".py",
   "mimetype": "text/x-python",
   "name": "python",
   "nbconvert_exporter": "python",
   "pygments_lexer": "ipython3",
   "version": "3.6.9"
  }
 },
 "nbformat": 4,
 "nbformat_minor": 1
}
